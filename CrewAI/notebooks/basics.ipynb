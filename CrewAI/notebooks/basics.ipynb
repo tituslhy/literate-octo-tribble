{
 "cells": [
  {
   "cell_type": "code",
   "execution_count": 1,
   "metadata": {},
   "outputs": [],
   "source": [
    "%load_ext autoreload\n",
    "%autoreload 2"
   ]
  },
  {
   "attachments": {},
   "cell_type": "markdown",
   "metadata": {},
   "source": [
    "## The health and fitness instructor!\n",
    "1. Take input: Weight and height\n",
    "2. Goals and current challenges\n",
    "3. Favorite meals\n",
    "4. Workout planner\n",
    "5. Nutrition planner"
   ]
  },
  {
   "cell_type": "code",
   "execution_count": null,
   "metadata": {},
   "outputs": [],
   "source": [
    "from crewai import Crew, Process, Agent, Task\n",
    "from crewai.tools import tool"
   ]
  }
 ],
 "metadata": {
  "kernelspec": {
   "display_name": "crewai",
   "language": "python",
   "name": "python3"
  },
  "language_info": {
   "codemirror_mode": {
    "name": "ipython",
    "version": 3
   },
   "file_extension": ".py",
   "mimetype": "text/x-python",
   "name": "python",
   "nbconvert_exporter": "python",
   "pygments_lexer": "ipython3",
   "version": "3.11.10"
  },
  "orig_nbformat": 4,
  "vscode": {
   "interpreter": {
    "hash": "4709386691dc0daafce17a81a6dfb5e1bb4ca444089e5ad90185535ed7bb90ea"
   }
  }
 },
 "nbformat": 4,
 "nbformat_minor": 2
}
