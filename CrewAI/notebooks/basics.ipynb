{
 "cells": [
  {
   "cell_type": "code",
   "execution_count": 1,
   "metadata": {},
   "outputs": [],
   "source": [
    "%load_ext autoreload\n",
    "%autoreload 2"
   ]
  },
  {
   "attachments": {},
   "cell_type": "markdown",
   "metadata": {},
   "source": [
    "## The job search recruitment agency!\n",
    "1. Profiler\n",
    "2. Recruiter\n",
    "3. Matcher\n",
    "4. Cover Letter Writer"
   ]
  },
  {
   "cell_type": "code",
   "execution_count": 2,
   "metadata": {},
   "outputs": [],
   "source": [
    "import warnings\n",
    "import os\n",
    "from dotenv import load_dotenv, find_dotenv\n",
    "import yaml\n",
    "from crewai import Crew, Process, Agent, Task\n",
    "from crewai.tools import tool"
   ]
  },
  {
   "cell_type": "code",
   "execution_count": 3,
   "metadata": {},
   "outputs": [],
   "source": [
    "_ = load_dotenv(find_dotenv())\n",
    "warnings.filterwarnings(\"ignore\")\n",
    "os.environ['OPENAI_MODEL_NAME'] = 'gpt-4o-mini'"
   ]
  },
  {
   "cell_type": "markdown",
   "metadata": {},
   "source": [
    "Instantiate LLM Observability"
   ]
  },
  {
   "cell_type": "code",
   "execution_count": 4,
   "metadata": {},
   "outputs": [
    {
     "name": "stdout",
     "output_type": "stream",
     "text": [
      "🔭 OpenTelemetry Tracing Details 🔭\n",
      "|  Phoenix Project: crewai\n",
      "|  Span Processor: SimpleSpanProcessor\n",
      "|  Collector Endpoint: http://localhost:6006/v1/traces\n",
      "|  Transport: HTTP\n",
      "|  Transport Headers: {'api_key': '****'}\n",
      "|  \n",
      "|  Using a default SpanProcessor. `add_span_processor` will overwrite this default.\n",
      "|  \n",
      "|  `register` has set this TracerProvider as the global OpenTelemetry default.\n",
      "|  To disable this behavior, call `register` with `set_global_tracer_provider=False`.\n",
      "\n"
     ]
    }
   ],
   "source": [
    "from phoenix.otel import register\n",
    "\n",
    "tracer_provider = register(\n",
    "    project_name = \"crewai\",\n",
    "    endpoint=\"http://localhost:6006/v1/traces\"\n",
    ")"
   ]
  },
  {
   "cell_type": "code",
   "execution_count": 5,
   "metadata": {},
   "outputs": [],
   "source": [
    "from openinference.instrumentation.crewai import CrewAIInstrumentor\n",
    "\n",
    "CrewAIInstrumentor().instrument(tracer_provider=tracer_provider)"
   ]
  },
  {
   "cell_type": "markdown",
   "metadata": {},
   "source": [
    "### Loading tasks and agents from yaml files"
   ]
  },
  {
   "cell_type": "code",
   "execution_count": 6,
   "metadata": {},
   "outputs": [],
   "source": [
    "from typing import Dict, Tuple\n",
    "def load_configs(files: Dict[str, str]) -> Tuple[dict, dict]:\n",
    "    \"\"\"Loads yml config files from a dictionary of filepaths\n",
    "\n",
    "    Args:\n",
    "        files (Dict[str, str]): Dictionary of filepaths containing yml files\n",
    "        For example:\n",
    "        {\n",
    "            'agents': '../config/agents.yml',\n",
    "            'tasks': '../config/tasks.yml'\n",
    "        }\n",
    "    \"\"\"\n",
    "    configs = {}\n",
    "    for config_type, file_path in files.items():\n",
    "        with open(file_path, 'r') as file:\n",
    "            configs[config_type] = yaml.safe_load(file)\n",
    "    return configs['agents'], configs['tasks']"
   ]
  },
  {
   "cell_type": "code",
   "execution_count": 7,
   "metadata": {},
   "outputs": [],
   "source": [
    "job_search_agents_config, job_search_tasks_config = load_configs(\n",
    "    {\n",
    "        'agents': '../config/job_search_agents.yml',\n",
    "        'tasks': '../config/job_search_tasks.yml',\n",
    "    }\n",
    ")"
   ]
  },
  {
   "cell_type": "markdown",
   "metadata": {},
   "source": [
    "# 1. The Job Search Crew"
   ]
  },
  {
   "cell_type": "markdown",
   "metadata": {},
   "source": [
    "## Create Pydantic Models for Structured Output"
   ]
  },
  {
   "cell_type": "code",
   "execution_count": 8,
   "metadata": {},
   "outputs": [],
   "source": [
    "from pydantic import BaseModel, Field\n",
    "from typing import Literal, List\n",
    "\n",
    "class WorkExperience(BaseModel):\n",
    "    project_title: str = Field(..., description=\"Name of project\")\n",
    "    summary_of_experience: str = Field(..., description=\"Short summary of experience\")\n",
    "    skills_exhibited: List[str] = Field(..., description=\"Skills exhibited during this project\")\n",
    "\n",
    "class CandidateProfile(BaseModel):\n",
    "    name: str = Field(..., description=\"Candidate's name\")\n",
    "    highest_qualification: Literal[\"Bachelor's Degree\", \"Masters Degree\", \"PhD\"] = Field(..., description=\"Candidate's highest qualification\")\n",
    "    field_of_study: str = Field(..., description=\"Candidate's field of study for highest qualification\")\n",
    "    institution_of_study: str = Field(..., description=\"Candidate's institution of study for highest qualification\")\n",
    "    technical_skills: List[str] = Field(..., description=\"List of candidate's technical skills. For example 'machine learning'.\")\n",
    "    non_technical_skills: List[str] = Field(..., description=\"List of candidate's non-technical skills. For example 'strategic planning'.\")\n",
    "    years_of_experience: int = Field(..., description=\"Candidate's years of experience\")\n",
    "    current_job_title: str = Field(..., description=\"Candidate's current job title\")\n",
    "    work_experiences: List[WorkExperience] = Field(..., description=\"Candidate's job experience\")\n",
    "\n",
    "class JobListing(BaseModel):\n",
    "    company_name: str = Field(..., description=\"Company name\")\n",
    "    job_title: str = Field(..., description=\"Job title\")\n",
    "    job_description: str = Field(..., description=\"Job description\")\n",
    "    required_technical_skills: List[str] = Field(..., description=\"List of required technical skills. For example 'machine learning'.\")\n",
    "    required_non_technical_skills: List[str] = Field(..., description=\"List of required non-technical skills. For example 'strategic planning'.\")\n",
    "    years_of_experience_required: int = Field(..., description=\"Years of experience required\")\n",
    "    reason_for_candidate_fit: str = Field(..., description=\"Reason for candidate fit to job.\")\n",
    "\n",
    "class JobListings(BaseModel):\n",
    "    job_listings: List[JobListing] = Field(..., description=\"List of job listings\")\n",
    "\n",
    "class ScoredListing(BaseModel):\n",
    "    job_listing: JobListing = Field(..., description=\"Job listing of interest\")\n",
    "    score: float = Field(..., description=\"Score of job listing fit to candidate profile on a scale of 1-10.\")\n",
    "    justfication: str = Field(..., description=\"Justification for score\")\n",
    "\n",
    "class ScoredListings(BaseModel):\n",
    "    scored_listings: List[ScoredListing] = Field(..., description=\"List of scored job listings\")\n",
    "\n",
    "class CoverLetter(BaseModel):\n",
    "    scored_listing: ScoredListing = Field(..., description=\"Scored job listing of interest\")\n",
    "    cover_letter: str = Field(..., description=\"Cover letter for scored listing\")\n",
    "\n",
    "class CoverLetters(BaseModel):\n",
    "    cover_letters: List[CoverLetter] = Field(..., description=\"List of cover letters\")\n",
    "    candidate_profile: CandidateProfile"
   ]
  },
  {
   "cell_type": "markdown",
   "metadata": {},
   "source": [
    "## Writing a custom tool to load in the resume!"
   ]
  },
  {
   "cell_type": "code",
   "execution_count": 9,
   "metadata": {},
   "outputs": [],
   "source": [
    "from crewai.tools import BaseTool\n",
    "from llama_parse import LlamaParse\n",
    "from typing import Any\n",
    "import nest_asyncio\n",
    "nest_asyncio.apply()\n",
    "\n",
    "class ResumeParser(BaseTool):\n",
    "    \"\"\"This tool parses a resume using Llama Parse and returns them into\n",
    "    string form.\"\"\"\n",
    "    \n",
    "    name: str = \"Resume reader\"\n",
    "    description: str = \"Parses a pdf resume file neatly for LLM processing\"\n",
    "    parser: LlamaParse = LlamaParse(\n",
    "        api_key = os.environ[\"LLAMA_CLOUD_API_KEY\"],\n",
    "        # use_vendor_multimodal_model=True,\n",
    "        # vendor_multimodal_name=\"anthropic-sonnet-3.5\",\n",
    "        result_type=\"markdown\"\n",
    "    )\n",
    "    \n",
    "    def find_resume(self) -> str:\n",
    "        \"\"\"Method to search 2 levels up for resume folder\"\"\"\n",
    "        \n",
    "        __curdir__ = os.getcwd()\n",
    "        depth = 0\n",
    "        resume_dir_path = \"\"\n",
    "        \n",
    "        while (depth<3):    \n",
    "            if \"Resume\" not in os.listdir(__curdir__):\n",
    "                __curdir__ = os.path.abspath(os.path.join(__curdir__, os.path.pardir))\n",
    "                depth += 1\n",
    "            else:\n",
    "                resume_dir_path = os.path.abspath(os.path.join(__curdir__, \"Resume\"))\n",
    "                break\n",
    "        \n",
    "        return resume_dir_path\n",
    "    \n",
    "    def _run(self) -> Dict[str, Any]:\n",
    "        \"\"\"Returns the entire resume in string format.\"\"\"\n",
    "        \n",
    "        file_path = self.find_resume()\n",
    "        resume = os.path.join(\n",
    "            file_path,\n",
    "            os.listdir(file_path)[0]\n",
    "        )\n",
    "        docs = self.parser.load_data(file_path=resume)\n",
    "        return {\n",
    "            \"resume\": \"\\n\\n\".join([doc.text for doc in docs])\n",
    "        }"
   ]
  },
  {
   "cell_type": "code",
   "execution_count": 38,
   "metadata": {},
   "outputs": [
    {
     "name": "stdout",
     "output_type": "stream",
     "text": [
      "Started parsing the file under job_id 3f52ede0-188d-4c83-893b-b90677687b89\n"
     ]
    }
   ],
   "source": [
    "tool = ResumeParser()\n",
    "result = tool._run()"
   ]
  },
  {
   "cell_type": "code",
   "execution_count": null,
   "metadata": {},
   "outputs": [],
   "source": [
    "display(Markdown(result['resume']))"
   ]
  },
  {
   "cell_type": "markdown",
   "metadata": {},
   "source": [
    "##### Creating LlamaIndex Tavily Tool"
   ]
  },
  {
   "cell_type": "code",
   "execution_count": 10,
   "metadata": {},
   "outputs": [],
   "source": [
    "from crewai_tools import LlamaIndexTool\n",
    "from llama_index.tools.tavily_research import TavilyToolSpec\n",
    "\n",
    "tavily_spec = TavilyToolSpec(api_key=os.environ[\"TAVILY_API_KEY\"])\n",
    "tavily_tool_list = tavily_spec.to_tool_list()\n",
    "tavily_tools = [LlamaIndexTool.from_tool(tool) for tool in tavily_tool_list]"
   ]
  },
  {
   "cell_type": "markdown",
   "metadata": {},
   "source": [
    "#### Creating our Crew, Agents and Tasks"
   ]
  },
  {
   "cell_type": "code",
   "execution_count": 11,
   "metadata": {},
   "outputs": [],
   "source": [
    "profiler_agent = Agent(\n",
    "    config = job_search_agents_config['profiler'],\n",
    "    tools = [ResumeParser()]\n",
    ")\n",
    "recruiter = Agent(\n",
    "    config=job_search_agents_config['recruiter'],\n",
    "    tools = [*tavily_tools] \n",
    ")\n",
    "matcher = Agent(\n",
    "    config = job_search_agents_config['matcher'],\n",
    ")\n",
    "reporter = Agent(\n",
    "    config=job_search_agents_config['reporter'],\n",
    ")"
   ]
  },
  {
   "cell_type": "code",
   "execution_count": 12,
   "metadata": {},
   "outputs": [],
   "source": [
    "profiling_task = Task(\n",
    "    config = job_search_tasks_config['candidate_profiling_task'],\n",
    "    agent = profiler_agent,\n",
    "    output_pydantic = CandidateProfile,\n",
    "    expected_output = \"A clear candidate profile\"\n",
    ")\n",
    "research_task = Task(\n",
    "    config = job_search_tasks_config['research_job_listings_task'],\n",
    "    agent = recruiter,\n",
    "    context = [profiling_task],\n",
    "    output_pydantic = JobListings,\n",
    "    expected_output = \"A list of job listings that fit the candidate profile\"\n",
    ")\n",
    "scoring_task = Task(\n",
    "    config = job_search_tasks_config['match_and_score_listings_task'],\n",
    "    agent = matcher,\n",
    "    context = [research_task, profiling_task],\n",
    "    output_pydantic=ScoredListings,\n",
    "    expected_output = \"A list of top 3 job listings ranked with justification\"\n",
    ")\n",
    "cover_letter_task = Task(\n",
    "    config = job_search_tasks_config['cover_letter_task'],\n",
    "    agent = reporter,\n",
    "    context = [scoring_task, profiling_task],\n",
    "    output_pydantic=CoverLetters,\n",
    "    expected_output=\"A list of cover letters for the top 3 job listings\"\n",
    ")"
   ]
  },
  {
   "cell_type": "code",
   "execution_count": 13,
   "metadata": {},
   "outputs": [
    {
     "name": "stderr",
     "output_type": "stream",
     "text": [
      "2025-01-22 00:10:10,976 - 8342343488 - __init__.py-__init__:537 - WARNING: Overriding of current TracerProvider is not allowed\n"
     ]
    }
   ],
   "source": [
    "job_crew = Crew(\n",
    "    agents = [\n",
    "        profiler_agent,\n",
    "        recruiter,\n",
    "        matcher,\n",
    "        reporter\n",
    "    ],\n",
    "    tasks = [\n",
    "        profiling_task,\n",
    "        research_task,\n",
    "        scoring_task,\n",
    "        cover_letter_task\n",
    "    ],\n",
    "    verbose = True,\n",
    ")"
   ]
  },
  {
   "cell_type": "code",
   "execution_count": null,
   "metadata": {},
   "outputs": [],
   "source": [
    "results = job_crew.kickoff(\n",
    "    inputs = {\n",
    "        'job_requirements': 'Generative AI related data scientist jobs or management positions.'\n",
    "    }\n",
    ")"
   ]
  },
  {
   "cell_type": "code",
   "execution_count": 18,
   "metadata": {},
   "outputs": [],
   "source": [
    "from IPython.display import display, Markdown"
   ]
  },
  {
   "cell_type": "code",
   "execution_count": null,
   "metadata": {},
   "outputs": [
    {
     "data": {
      "text/markdown": [
       "Lim Hsien Yong\n",
       "[Your Address]\n",
       "[City, State, Zip]\n",
       "[Email]\n",
       "[Phone Number]\n",
       "[Date]\n",
       "\n",
       "Hiring Manager\n",
       "Generative AI Careers\n",
       "[Company Address]\n",
       "[City, State, Zip]\n",
       "\n",
       "Dear Hiring Manager,\n",
       "\n",
       "I am writing to express my interest in the Lead Data Scientist position at Generative AI Careers, as advertised. With a Master of IT in Business (Artificial Intelligence Track) and over five years of hands-on experience in data science, I am excited about the opportunity to leverage my expertise in Generative AI to drive innovative projects at your esteemed company.\n",
       "\n",
       "In my most recent role as a Senior Data Scientist, I led the project for developing a Defect Detection system in Flowcells. This involved designing and prototyping advanced instance segmentation models, utilizing a Siamese Network architecture to deliver precise defect identification, resulting in significant cost savings and enhanced image matching efficiency. This project honed my technical skills in Python and reinforced my ability to implement impactful data-driven solutions.\n",
       "\n",
       "Another project I successfully spearheaded was the development of a Generative BI Assistant Application. This application enabled users to extract insights through natural language queries, showcasing my strong expertise in Natural Language Processing and application development. This initiative not only improved operational efficiency but also provided valuable insights tailored to user needs, demonstrating my commitment to prioritizing business impact.\n",
       "\n",
       "I believe my technical depth in data science and AI, coupled with my leadership abilities, aligns perfectly with the requirements of the Lead Data Scientist role. I am passionate about harnessing the power of Generative AI to unlock new potential and drive meaningful change within organizations.\n",
       "\n",
       "Thank you for considering my application. I look forward to the possibility of discussing how my experience and vision can contribute to the exciting projects at Generative AI Careers.\n",
       "\n",
       "Sincerely,\n",
       "Lim Hsien Yong"
      ],
      "text/plain": [
       "<IPython.core.display.Markdown object>"
      ]
     },
     "metadata": {},
     "output_type": "display_data"
    }
   ],
   "source": [
    "display(Markdown(results.pydantic.cover_letters[0].cover_letter))"
   ]
  },
  {
   "cell_type": "code",
   "execution_count": 28,
   "metadata": {},
   "outputs": [
    {
     "name": "stdout",
     "output_type": "stream",
     "text": [
      "Total costs: $0.0029\n"
     ]
    },
    {
     "name": "stderr",
     "output_type": "stream",
     "text": [
      "/var/folders/zb/r15p7t_d62d8m2s0623s22gh0000gn/T/ipykernel_24720/1113274036.py:7: PydanticDeprecatedSince20: The `dict` method is deprecated; use `model_dump` instead. Deprecated in Pydantic V2.0 to be removed in V3.0. See Pydantic V2 Migration Guide at https://errors.pydantic.dev/2.10/migration/\n",
      "  df_usage_metrics = pd.DataFrame([job_crew.usage_metrics.dict()])\n"
     ]
    },
    {
     "data": {
      "text/html": [
       "<div>\n",
       "<style scoped>\n",
       "    .dataframe tbody tr th:only-of-type {\n",
       "        vertical-align: middle;\n",
       "    }\n",
       "\n",
       "    .dataframe tbody tr th {\n",
       "        vertical-align: top;\n",
       "    }\n",
       "\n",
       "    .dataframe thead th {\n",
       "        text-align: right;\n",
       "    }\n",
       "</style>\n",
       "<table border=\"1\" class=\"dataframe\">\n",
       "  <thead>\n",
       "    <tr style=\"text-align: right;\">\n",
       "      <th></th>\n",
       "      <th>total_tokens</th>\n",
       "      <th>prompt_tokens</th>\n",
       "      <th>cached_prompt_tokens</th>\n",
       "      <th>completion_tokens</th>\n",
       "      <th>successful_requests</th>\n",
       "    </tr>\n",
       "  </thead>\n",
       "  <tbody>\n",
       "    <tr>\n",
       "      <th>0</th>\n",
       "      <td>19507</td>\n",
       "      <td>14607</td>\n",
       "      <td>4096</td>\n",
       "      <td>4900</td>\n",
       "      <td>9</td>\n",
       "    </tr>\n",
       "  </tbody>\n",
       "</table>\n",
       "</div>"
      ],
      "text/plain": [
       "   total_tokens  prompt_tokens  cached_prompt_tokens  completion_tokens  \\\n",
       "0         19507          14607                  4096               4900   \n",
       "\n",
       "   successful_requests  \n",
       "0                    9  "
      ]
     },
     "execution_count": 28,
     "metadata": {},
     "output_type": "execute_result"
    }
   ],
   "source": [
    "import pandas as pd\n",
    "\n",
    "costs = 0.150 * (job_crew.usage_metrics.prompt_tokens + job_crew.usage_metrics.completion_tokens) / 1_000_000\n",
    "print(f\"Total costs: ${costs:.4f}\")\n",
    "\n",
    "# Convert UsageMetrics instance to a DataFrame\n",
    "df_usage_metrics = pd.DataFrame([job_crew.usage_metrics.dict()])\n",
    "df_usage_metrics"
   ]
  },
  {
   "cell_type": "markdown",
   "metadata": {},
   "source": [
    "This is not the end though! Clearly we can do more with the cover letter!"
   ]
  },
  {
   "cell_type": "markdown",
   "metadata": {},
   "source": [
    "## Training the crew!"
   ]
  },
  {
   "cell_type": "code",
   "execution_count": null,
   "metadata": {},
   "outputs": [],
   "source": [
    "job_crew.train(\n",
    "    inputs = {\n",
    "         'job_requirements': 'Generative AI related data scientist jobs or management positions.'\n",
    "    },\n",
    "    n_iterations = 1,\n",
    "    filename=\"titus_training.pkl\"\n",
    ")"
   ]
  },
  {
   "cell_type": "code",
   "execution_count": null,
   "metadata": {},
   "outputs": [],
   "source": [
    "job_crew.test(\n",
    "    inputs = {\n",
    "         'job_requirements': 'Generative AI related data scientist jobs or management positions.'\n",
    "    },\n",
    "    n_iterations = 1,\n",
    ")"
   ]
  },
  {
   "cell_type": "markdown",
   "metadata": {},
   "source": [
    "Looks good!"
   ]
  },
  {
   "cell_type": "code",
   "execution_count": null,
   "metadata": {},
   "outputs": [],
   "source": [
    "results = job_crew.kickoff(\n",
    "    inputs = {\n",
    "        'job_requirements': 'Generative AI related data scientist jobs or management positions.'\n",
    "    }\n",
    ")"
   ]
  },
  {
   "cell_type": "code",
   "execution_count": 14,
   "metadata": {},
   "outputs": [],
   "source": [
    "from IPython.display import display, Markdown"
   ]
  },
  {
   "cell_type": "code",
   "execution_count": 25,
   "metadata": {},
   "outputs": [
    {
     "data": {
      "text/markdown": [
       "Dear Hiring Manager,\n",
       "\n",
       "I am writing to express my enthusiasm for the Data Scientist position within the Generative AI Innovation Center at Amazon. With a Master's degree in IT in Business specialized in Artificial Intelligence from Singapore Management University and five years of hands-on experience in data science, I am eager to contribute to your dynamic team in harnessing the potential of Generative AI.\n",
       "\n",
       "During my tenure as a Senior Data Scientist, I successfully prototyped and deployed sophisticated machine learning models in a project titled 'Flowcell Defect Detection'. This initiative not only facilitated accurate defect identification but also yielded significant cost savings for the organization. The depth of my technical acumen in machine learning and data engineering, combined with my proficiency in microservices architecture, ensures I am well-equipped to tackle the challenges presented by this role.\n",
       "\n",
       "Additionally, I spearheaded the development of a 'Generative BI Assistant Application', leveraging natural language processing. This project enhanced user interaction with complex datasets, optimizing communication and decision-making. This experience aligns seamlessly with the collaborative and problem-solving ethos that your team embodies.\n",
       "\n",
       "I am highly motivated by the opportunity to help AWS customers leverage innovative generative AI solutions, driving transformational business outcomes. I am confident that my technical skills, combined with a problem-solving mindset and a passion for collaboration, will allow me to make a meaningful contribution to Amazon's mission.\n",
       "\n",
       "Thank you for considering my application. I look forward to the opportunity to discuss how I can further enhance your team.\n",
       "\n",
       "Sincerely,\n",
       "Lim Hsien Yong"
      ],
      "text/plain": [
       "<IPython.core.display.Markdown object>"
      ]
     },
     "metadata": {},
     "output_type": "display_data"
    }
   ],
   "source": [
    "display(Markdown(results.pydantic.cover_letters[0].cover_letter))"
   ]
  },
  {
   "cell_type": "markdown",
   "metadata": {},
   "source": [
    "# 2. The Job Interview Preparation Crew\n",
    "Now let's use the information we have from the previous crew to help us prepare for the job interview in advance!"
   ]
  },
  {
   "cell_type": "code",
   "execution_count": 15,
   "metadata": {},
   "outputs": [],
   "source": [
    "job_interview_agents_config, job_interview_tasks_config = load_configs(\n",
    "    {\n",
    "        'agents': '../config/job_interview_agents.yml',\n",
    "        'tasks': '../config/job_interview_tasks.yml',\n",
    "    }\n",
    ")"
   ]
  },
  {
   "cell_type": "code",
   "execution_count": 16,
   "metadata": {},
   "outputs": [],
   "source": [
    "class JobProfile(BaseModel):\n",
    "    job_title: str = Field(..., description=\"Job title\")\n",
    "    company_name: str = Field(..., description=\"Company name\")\n",
    "    job_description: str = Field(..., description=\"Job description\")\n",
    "    required_technical_skills: List[str] = Field(..., description=\"List of required technical skills. For example 'machine learning'.\")\n",
    "    required_non_technical_skills: List[str] = Field(..., description=\"List of required non-technical skills. For example 'strategic planning'.\")\n",
    "    years_of_experience_required: int = Field(..., description=\"Years of experience required\")\n",
    "\n",
    "class InterviewQuestion(BaseModel):\n",
    "    company: str = Field(..., description=\"Hiring company name\")\n",
    "    job_title: str = Field(..., description=\"Job title\")\n",
    "    question: str = Field(..., description=\"Interview question to ask candidate\")\n",
    "    skill_required: str = Field(..., description=\"What the interviewer is looking out for\")\n",
    "    sample_answer: str = Field(..., description=\"Sample answer to question based on candidate's profile\")\n",
    "\n",
    "class InterviewPrep(BaseModel):\n",
    "    interview_questions: List[InterviewQuestion] = Field(..., description=\"List of interview questions\")\n",
    "\n",
    "class ElevatorPitch(BaseModel):\n",
    "    interview_prep: InterviewPrep = Field(..., description=\"Interview Q&A doocument\")\n",
    "    elevator_pitch: str = Field(..., description=\"Customized elevator pitch for the job description to answer the question 'tell me more about yourself'.\")"
   ]
  },
  {
   "cell_type": "code",
   "execution_count": 17,
   "metadata": {},
   "outputs": [],
   "source": [
    "interviewer = Agent(\n",
    "    config=job_interview_agents_config['interviewer'],\n",
    ")\n",
    "pitcher = Agent(\n",
    "    config=job_interview_agents_config['pitcher'],\n",
    ")\n",
    "\n",
    "interview_prep_task = Task(\n",
    "    config = job_interview_tasks_config['interview_prep_task'],\n",
    "    agent = interviewer,\n",
    "    output_pydantic = InterviewPrep,\n",
    "    expected_output = \"A compiled list of interview questions and answers for each job listing\"\n",
    ")\n",
    "elevator_pitch_task = Task(\n",
    "    config = job_interview_tasks_config['conversation_starter_task'],\n",
    "    agent = pitcher,\n",
    "    output_pydantic = ElevatorPitch,\n",
    "    context = [interview_prep_task],\n",
    "    expected_output = \"A customized elevator pitch for the job listing.\"\n",
    ")"
   ]
  },
  {
   "cell_type": "code",
   "execution_count": 18,
   "metadata": {},
   "outputs": [
    {
     "name": "stderr",
     "output_type": "stream",
     "text": [
      "2025-01-22 00:10:33,042 - 8342343488 - __init__.py-__init__:537 - WARNING: Overriding of current TracerProvider is not allowed\n"
     ]
    }
   ],
   "source": [
    "interview_crew = Crew(\n",
    "    agents = [\n",
    "        interviewer,\n",
    "        pitcher\n",
    "    ],\n",
    "    tasks = [\n",
    "        interview_prep_task,\n",
    "        elevator_pitch_task,\n",
    "    ],\n",
    "    verbose = True,\n",
    ")"
   ]
  },
  {
   "cell_type": "code",
   "execution_count": 81,
   "metadata": {},
   "outputs": [],
   "source": [
    "candidate_profile = results.pydantic.candidate_profile.model_dump()"
   ]
  },
  {
   "cell_type": "code",
   "execution_count": 90,
   "metadata": {},
   "outputs": [],
   "source": [
    "scored_listings =  [\n",
    "    result.scored_listing.model_dump()['job_listing'] for result in results.pydantic.cover_letters\n",
    "]"
   ]
  },
  {
   "cell_type": "code",
   "execution_count": null,
   "metadata": {},
   "outputs": [],
   "source": [
    "interview_crew_inputs = [\n",
    "    {\n",
    "        \"candidate_profile\": candidate_profile,\n",
    "        \"job_listing\": listing\n",
    "    } for listing in scored_listings\n",
    "]"
   ]
  },
  {
   "cell_type": "code",
   "execution_count": 95,
   "metadata": {},
   "outputs": [
    {
     "name": "stderr",
     "output_type": "stream",
     "text": [
      "2025-01-21 23:13:49,674 - 8342343488 - __init__.py-__init__:537 - WARNING: Overriding of current TracerProvider is not allowed\n"
     ]
    },
    {
     "name": "stdout",
     "output_type": "stream",
     "text": [
      "\u001b[1m\u001b[95m# Agent:\u001b[00m \u001b[1m\u001b[92mInterview preparation agent\u001b[00m\n",
      "\u001b[95m## Task:\u001b[00m \u001b[92mPrepare a comprehensive interview preparation document for the candidate's preparation process. Develop at least 10 questions and sample answers based on the job requirements and the candidate's profile.\n",
      "candidate_profile: {'name': 'Lim Hsien Yong', 'highest_qualification': 'Masters Degree', 'field_of_study': 'Artificial Intelligence', 'institution_of_study': 'Singapore Management University', 'technical_skills': ['Data Science', 'Machine Learning', 'Natural Language Processing', 'Computer Vision', 'Generative AI', 'Graph Analytics', 'Cloud Computing (AWS, GCP, Azure)', 'Database Management (SQL, MongoDB, Neo4j)', 'API Development', 'Web Applications Development'], 'non_technical_skills': ['Problem Solving', 'Project Management', 'Collaboration', 'Communication', 'Research and Development', 'Innovation', 'Customer Insight', 'Data Analysis'], 'years_of_experience': 5, 'current_job_title': 'Senior Data Scientist', 'work_experiences': [{'project_title': 'Flowcell Defect Detection', 'summary_of_experience': 'Prototyped and deployed complex machine learning models for accurate defect detection in flowcells, achieving significant cost savings.', 'skills_exhibited': ['Machine Learning', 'Data Engineering', 'Cost-Benefit Analysis', 'Microservices Architecture']}, {'project_title': 'Generative BI Assistant Application', 'summary_of_experience': 'Developed and deployed a natural language processing application that enhances user interaction with complex data metrics.', 'skills_exhibited': ['Natural Language Processing', 'Application Development', 'User Experience Design']}, {'project_title': 'AI-powered Troubleshooting Assistant', 'summary_of_experience': 'Created an AI assistant for real-time equipment troubleshooting, which optimizes operational efficiency for line engineers.', 'skills_exhibited': ['Generative AI', 'Real-Time Processing', 'Problem-Solving']}, {'project_title': 'Electricity Demand Forecasting', 'summary_of_experience': 'Led projects that utilized machine learning to accurately predict electricity demand.', 'skills_exhibited': ['Data Analysis', 'Statistical Modeling', 'Forecasting Techniques']}]} job_listing: {'company_name': 'Amazon', 'job_title': 'Data Scientist, Generative AI Innovation Center', 'job_description': 'The Generative AI Innovation Center at AWS helps AWS customers implement Generative AI solutions and realize transformational business opportunities. This team of strategists, data scientists, engineers, and solution architects builds bespoke solutions that harness the power of generative AI.', 'required_technical_skills': ['Generative AI', 'Data Science', 'Machine Learning', 'Cloud Computing'], 'required_non_technical_skills': ['Collaboration', 'Communication', 'Problem Solving'], 'years_of_experience_required': 5, 'reason_for_candidate_fit': \"Lim's expertise in Generative AI, vast technical skills in data science, and 5 years of experience align perfectly with the role's demands.\"}    \n",
      "\u001b[00m\n"
     ]
    },
    {
     "name": "stderr",
     "output_type": "stream",
     "text": [
      "2025-01-21 23:14:20,755 - 8342343488 - __init__.py-__init__:100 - WARNING: Invalid type TaskOutput for attribute 'output.value' value. Expected one of ['bool', 'str', 'bytes', 'int', 'float'] or a sequence of those types\n"
     ]
    },
    {
     "name": "stdout",
     "output_type": "stream",
     "text": [
      "\n",
      "\n",
      "\u001b[1m\u001b[95m# Agent:\u001b[00m \u001b[1m\u001b[92mInterview preparation agent\u001b[00m\n",
      "\u001b[95m## Final Answer:\u001b[00m \u001b[92m\n",
      "{\n",
      "  \"interview_questions\": [\n",
      "    {\n",
      "      \"company\": \"Amazon\",\n",
      "      \"job_title\": \"Data Scientist, Generative AI Innovation Center\",\n",
      "      \"question\": \"Can you explain a complex project where you utilized Generative AI, and what was your role?\",\n",
      "      \"skill_required\": \"Generative AI\",\n",
      "      \"sample_answer\": \"In my project 'AI-powered Troubleshooting Assistant', I developed an AI assistant that leveraged generative AI for real-time equipment troubleshooting. My role involved designing the architecture as well as developing the algorithms that enabled the AI to understand user queries and provide accurate solutions. The project not only improved the response time for our line engineers but also enhanced the overall operational efficiency, which was pivotal for the team.\"\n",
      "    },\n",
      "    {\n",
      "      \"company\": \"Amazon\",\n",
      "      \"job_title\": \"Data Scientist, Generative AI Innovation Center\",\n",
      "      \"question\": \"What is your experience with cloud computing platforms, specifically in relation to your data science projects?\",\n",
      "      \"skill_required\": \"Cloud Computing\",\n",
      "      \"sample_answer\": \"I have significant experience with cloud platforms like AWS and GCP. For instance, in the 'Electricity Demand Forecasting' project, I utilized AWS for data storage and processing, integrating multiple datasets with SQL on RDS. This cloud infrastructure facilitated fast data retrieval and computations, which were crucial for our predictive models.\"\n",
      "    },\n",
      "    {\n",
      "      \"company\": \"Amazon\",\n",
      "      \"job_title\": \"Data Scientist, Generative AI Innovation Center\",\n",
      "      \"question\": \"Describe a time when you encountered a significant problem while working on a project and how you resolved it.\",\n",
      "      \"skill_required\": \"Problem Solving\",\n",
      "      \"sample_answer\": \"During the 'Flowcell Defect Detection' project, we faced issues with our initial model's accuracy. To tackle this, I conducted a thorough data analysis to identify potential biases in our training dataset. I then implemented advanced techniques, such as data augmentation, to improve model performance significantly, which ultimately resulted in faster defect detection and reduced operational costs.\"\n",
      "    },\n",
      "    {\n",
      "      \"company\": \"Amazon\",\n",
      "      \"job_title\": \"Data Scientist, Generative AI Innovation Center\",\n",
      "      \"question\": \"How do you ensure effective collaboration within a diverse team?\",\n",
      "      \"skill_required\": \"Collaboration\",\n",
      "      \"sample_answer\": \"Effective collaboration starts with clear communication and understanding each team member's strengths. In the 'Generative BI Assistant Application' project, I took the initiative to hold regular brainstorming sessions to gather input from engineers, strategists, and UX designers. This inclusive approach not only fostered a sense of ownership across the team but also led to innovative solutions that addressed user needs effectively.\"\n",
      "    },\n",
      "    {\n",
      "      \"company\": \"Amazon\",\n",
      "      \"job_title\": \"Data Scientist, Generative AI Innovation Center\",\n",
      "      \"question\": \"What methodologies do you use to stay updated with the latest advancements in AI and data science?\",\n",
      "      \"skill_required\": \"Research and Development\",\n",
      "      \"sample_answer\": \"I regularly engage in online courses and webinars focusing on recent trends in AI and machine learning. Additionally, I am an active member of several AI forums where individuals share the latest research papers. This habit enables me to integrate cutting-edge techniques into my projects, such as in the development of the 'Generative BI Assistant Application'.\"\n",
      "    },\n",
      "    {\n",
      "      \"company\": \"Amazon\",\n",
      "      \"job_title\": \"Data Scientist, Generative AI Innovation Center\",\n",
      "      \"question\": \"Can you provide an example of how you have used data analysis to make a business decision?\",\n",
      "      \"skill_required\": \"Data Analysis\",\n",
      "      \"sample_answer\": \"In the project 'Electricity Demand Forecasting', I conducted in-depth statistical analysis to identify trends and seasonal patterns in electricity consumption. This analysis informed our strategy on resource allocation and pricing models, enabling our business unit to optimize supply during peak demand periods, ultimately enhancing profitability by 20%.\"\n",
      "    },\n",
      "    {\n",
      "      \"company\": \"Amazon\",\n",
      "      \"job_title\": \"Data Scientist, Generative AI Innovation Center\",\n",
      "      \"question\": \"What are some challenges you expect to face in this role and how do you plan to overcome them?\",\n",
      "      \"skill_required\": \"Problem Solving\",\n",
      "      \"sample_answer\": \"I anticipate challenges such as integrating diverse datasets from different clients and ensuring the generative AI models are tailored effectively. To overcome these challenges, I plan to apply model adaptability techniques, allowing the models to fine-tune based on the specifics of each client dataset while ensuring that best practices from previous projects are leveraged.\"\n",
      "    },\n",
      "    {\n",
      "      \"company\": \"Amazon\",\n",
      "      \"job_title\": \"Data Scientist, Generative AI Innovation Center\",\n",
      "      \"question\": \"How do you prioritize tasks when working on multiple projects?\",\n",
      "      \"skill_required\": \"Project Management\",\n",
      "      \"sample_answer\": \"I use a combination of project management tools like Trello and regular stand-up meetings to prioritize tasks based on urgency and impact. In previous roles, I have successfully managed overlapping deadlines by breaking down project tasks into smaller milestones, which helps maintain focus and ensures timely delivery without compromising quality.\"\n",
      "    },\n",
      "    {\n",
      "      \"company\": \"Amazon\",\n",
      "      \"job_title\": \"Data Scientist, Generative AI Innovation Center\",\n",
      "      \"question\": \"Describe your experience with machine learning and how you have applied it to solve business problems.\",\n",
      "      \"skill_required\": \"Machine Learning\",\n",
      "      \"sample_answer\": \"In the 'Electricity Demand Forecasting' project, I applied various machine learning algorithms, including regression and time series, to analyze historical data for predicting future demand trends. The models I developed not only improved accuracy by over 25% but also directly informed resource management and cost reduction strategies within the company.\"\n",
      "    },\n",
      "    {\n",
      "      \"company\": \"Amazon\",\n",
      "      \"job_title\": \"Data Scientist, Generative AI Innovation Center\",\n",
      "      \"question\": \"What role does user feedback play in the projects you undertake?\",\n",
      "      \"skill_required\": \"Customer Insight\",\n",
      "      \"sample_answer\": \"User feedback is crucial for the success of any project. During the development of the 'Generative BI Assistant Application', I held user testing sessions that provided insights on real user interactions. By analyzing this feedback, I iteratively improved the application's UX/UI and functionality, ensuring it met user needs and ultimately increased user adoption by 30%.\"\n",
      "    }\n",
      "  ]\n",
      "}\u001b[00m\n",
      "\n",
      "\n",
      "\u001b[1m\u001b[95m# Agent:\u001b[00m \u001b[1m\u001b[92mMaster elevator pitch specialist\u001b[00m\n",
      "\u001b[95m## Task:\u001b[00m \u001b[92mBased on the candidate's profile and the job description, develop a short elevator pitch for the candidate to use at his interview to answer the question \"tell me more about yourself\"\n",
      "\u001b[00m\n"
     ]
    },
    {
     "name": "stderr",
     "output_type": "stream",
     "text": [
      "2025-01-21 23:14:49,212 - 8342343488 - __init__.py-__init__:100 - WARNING: Invalid type TaskOutput for attribute 'output.value' value. Expected one of ['bool', 'str', 'bytes', 'int', 'float'] or a sequence of those types\n",
      "2025-01-21 23:14:49,226 - 8342343488 - __init__.py-__init__:537 - WARNING: Overriding of current TracerProvider is not allowed\n"
     ]
    },
    {
     "name": "stdout",
     "output_type": "stream",
     "text": [
      "\n",
      "\n",
      "\u001b[1m\u001b[95m# Agent:\u001b[00m \u001b[1m\u001b[92mMaster elevator pitch specialist\u001b[00m\n",
      "\u001b[95m## Final Answer:\u001b[00m \u001b[92m\n",
      "{\n",
      "  \"interview_prep\": {\n",
      "    \"interview_questions\": [\n",
      "      {\n",
      "        \"company\": \"Amazon\",\n",
      "        \"job_title\": \"Data Scientist, Generative AI Innovation Center\",\n",
      "        \"question\": \"Can you explain a complex project where you utilized Generative AI, and what was your role?\",\n",
      "        \"skill_required\": \"Generative AI\",\n",
      "        \"sample_answer\": \"In my project 'AI-powered Troubleshooting Assistant', I developed an AI assistant that leveraged generative AI for real-time equipment troubleshooting. My role involved designing the architecture as well as developing the algorithms that enabled the AI to understand user queries and provide accurate solutions. The project not only improved the response time for our line engineers but also enhanced the overall operational efficiency, which was pivotal for the team.\"\n",
      "      },\n",
      "      {\n",
      "        \"company\": \"Amazon\",\n",
      "        \"job_title\": \"Data Scientist, Generative AI Innovation Center\",\n",
      "        \"question\": \"What is your experience with cloud computing platforms, specifically in relation to your data science projects?\",\n",
      "        \"skill_required\": \"Cloud Computing\",\n",
      "        \"sample_answer\": \"I have significant experience with cloud platforms like AWS and GCP. For instance, in the 'Electricity Demand Forecasting' project, I utilized AWS for data storage and processing, integrating multiple datasets with SQL on RDS. This cloud infrastructure facilitated fast data retrieval and computations, which were crucial for our predictive models.\"\n",
      "      },\n",
      "      {\n",
      "        \"company\": \"Amazon\",\n",
      "        \"job_title\": \"Data Scientist, Generative AI Innovation Center\",\n",
      "        \"question\": \"Describe a time when you encountered a significant problem while working on a project and how you resolved it.\",\n",
      "        \"skill_required\": \"Problem Solving\",\n",
      "        \"sample_answer\": \"During the 'Flowcell Defect Detection' project, we faced issues with our initial model's accuracy. To tackle this, I conducted a thorough data analysis to identify potential biases in our training dataset. I then implemented advanced techniques, such as data augmentation, to improve model performance significantly, which ultimately resulted in faster defect detection and reduced operational costs.\"\n",
      "      },\n",
      "      {\n",
      "        \"company\": \"Amazon\",\n",
      "        \"job_title\": \"Data Scientist, Generative AI Innovation Center\",\n",
      "        \"question\": \"How do you ensure effective collaboration within a diverse team?\",\n",
      "        \"skill_required\": \"Collaboration\",\n",
      "        \"sample_answer\": \"Effective collaboration starts with clear communication and understanding each team member's strengths. In the 'Generative BI Assistant Application' project, I took the initiative to hold regular brainstorming sessions to gather input from engineers, strategists, and UX designers. This inclusive approach not only fostered a sense of ownership across the team but also led to innovative solutions that addressed user needs effectively.\"\n",
      "      },\n",
      "      {\n",
      "        \"company\": \"Amazon\",\n",
      "        \"job_title\": \"Data Scientist, Generative AI Innovation Center\",\n",
      "        \"question\": \"What methodologies do you use to stay updated with the latest advancements in AI and data science?\",\n",
      "        \"skill_required\": \"Research and Development\",\n",
      "        \"sample_answer\": \"I regularly engage in online courses and webinars focusing on recent trends in AI and machine learning. Additionally, I am an active member of several AI forums where individuals share the latest research papers. This habit enables me to integrate cutting-edge techniques into my projects, such as in the development of the 'Generative BI Assistant Application'.\"\n",
      "      },\n",
      "      {\n",
      "        \"company\": \"Amazon\",\n",
      "        \"job_title\": \"Data Scientist, Generative AI Innovation Center\",\n",
      "        \"question\": \"Can you provide an example of how you have used data analysis to make a business decision?\",\n",
      "        \"skill_required\": \"Data Analysis\",\n",
      "        \"sample_answer\": \"In the project 'Electricity Demand Forecasting', I conducted in-depth statistical analysis to identify trends and seasonal patterns in electricity consumption. This analysis informed our strategy on resource allocation and pricing models, enabling our business unit to optimize supply during peak demand periods, ultimately enhancing profitability by 20%.\"\n",
      "      },\n",
      "      {\n",
      "        \"company\": \"Amazon\",\n",
      "        \"job_title\": \"Data Scientist, Generative AI Innovation Center\",\n",
      "        \"question\": \"What are some challenges you expect to face in this role and how do you plan to overcome them?\",\n",
      "        \"skill_required\": \"Problem Solving\",\n",
      "        \"sample_answer\": \"I anticipate challenges such as integrating diverse datasets from different clients and ensuring the generative AI models are tailored effectively. To overcome these challenges, I plan to apply model adaptability techniques, allowing the models to fine-tune based on the specifics of each client dataset while ensuring that best practices from previous projects are leveraged.\"\n",
      "      },\n",
      "      {\n",
      "        \"company\": \"Amazon\",\n",
      "        \"job_title\": \"Data Scientist, Generative AI Innovation Center\",\n",
      "        \"question\": \"How do you prioritize tasks when working on multiple projects?\",\n",
      "        \"skill_required\": \"Project Management\",\n",
      "        \"sample_answer\": \"I use a combination of project management tools like Trello and regular stand-up meetings to prioritize tasks based on urgency and impact. In previous roles, I have successfully managed overlapping deadlines by breaking down project tasks into smaller milestones, which helps maintain focus and ensures timely delivery without compromising quality.\"\n",
      "      },\n",
      "      {\n",
      "        \"company\": \"Amazon\",\n",
      "        \"job_title\": \"Data Scientist, Generative AI Innovation Center\",\n",
      "        \"question\": \"Describe your experience with machine learning and how you have applied it to solve business problems.\",\n",
      "        \"skill_required\": \"Machine Learning\",\n",
      "        \"sample_answer\": \"In the 'Electricity Demand Forecasting' project, I applied various machine learning algorithms, including regression and time series, to analyze historical data for predicting future demand trends. The models I developed not only improved accuracy by over 25% but also directly informed resource management and cost reduction strategies within the company.\"\n",
      "      },\n",
      "      {\n",
      "        \"company\": \"Amazon\",\n",
      "        \"job_title\": \"Data Scientist, Generative AI Innovation Center\",\n",
      "        \"question\": \"What role does user feedback play in the projects you undertake?\",\n",
      "        \"skill_required\": \"Customer Insight\",\n",
      "        \"sample_answer\": \"User feedback is crucial for the success of any project. During the development of the 'Generative BI Assistant Application', I held user testing sessions that provided insights on real user interactions. By analyzing this feedback, I iteratively improved the application's UX/UI and functionality, ensuring it met user needs and ultimately increased user adoption by 30%.\"\n",
      "      }\n",
      "    ]\n",
      "  },\n",
      "  \"elevator_pitch\": \"Hello! I'm a passionate data scientist with specialized experience in generative AI. At my last position, I led a project that developed an AI-powered troubleshooting assistant, improving our operational response time significantly. I have a strong background in using cloud platforms like AWS, utilizing them to streamline data processing in various projects, including forecasting electricity demand which enhanced profitability by 20%. My collaborative approach fuels innovation as I work closely with teams and incorporate user feedback to refine solutions. I am committed to continuous learning, actively engaging in AI forums and courses to stay at the cutting edge of technology. I’m excited about the opportunity at Amazon’s Generative AI Innovation Center, where I can bring my expertise and contribute to groundbreaking projects that redefine user experiences. Thank you!\"\n",
      "}\u001b[00m\n",
      "\n",
      "\n",
      "\u001b[1m\u001b[95m# Agent:\u001b[00m \u001b[1m\u001b[92mInterview preparation agent\u001b[00m\n",
      "\u001b[95m## Task:\u001b[00m \u001b[92mPrepare a comprehensive interview preparation document for the candidate's preparation process. Develop at least 10 questions and sample answers based on the job requirements and the candidate's profile.\n",
      "candidate_profile: {'name': 'Lim Hsien Yong', 'highest_qualification': 'Masters Degree', 'field_of_study': 'Artificial Intelligence', 'institution_of_study': 'Singapore Management University', 'technical_skills': ['Data Science', 'Machine Learning', 'Natural Language Processing', 'Computer Vision', 'Generative AI', 'Graph Analytics', 'Cloud Computing (AWS, GCP, Azure)', 'Database Management (SQL, MongoDB, Neo4j)', 'API Development', 'Web Applications Development'], 'non_technical_skills': ['Problem Solving', 'Project Management', 'Collaboration', 'Communication', 'Research and Development', 'Innovation', 'Customer Insight', 'Data Analysis'], 'years_of_experience': 5, 'current_job_title': 'Senior Data Scientist', 'work_experiences': [{'project_title': 'Flowcell Defect Detection', 'summary_of_experience': 'Prototyped and deployed complex machine learning models for accurate defect detection in flowcells, achieving significant cost savings.', 'skills_exhibited': ['Machine Learning', 'Data Engineering', 'Cost-Benefit Analysis', 'Microservices Architecture']}, {'project_title': 'Generative BI Assistant Application', 'summary_of_experience': 'Developed and deployed a natural language processing application that enhances user interaction with complex data metrics.', 'skills_exhibited': ['Natural Language Processing', 'Application Development', 'User Experience Design']}, {'project_title': 'AI-powered Troubleshooting Assistant', 'summary_of_experience': 'Created an AI assistant for real-time equipment troubleshooting, which optimizes operational efficiency for line engineers.', 'skills_exhibited': ['Generative AI', 'Real-Time Processing', 'Problem-Solving']}, {'project_title': 'Electricity Demand Forecasting', 'summary_of_experience': 'Led projects that utilized machine learning to accurately predict electricity demand.', 'skills_exhibited': ['Data Analysis', 'Statistical Modeling', 'Forecasting Techniques']}]} job_listing: {'company_name': 'EY', 'job_title': 'Data Scientist (Gen AI), Manager, Data & AI, Technology Consulting', 'job_description': 'Responsible for leading projects focused on Generative AI, specifically with Large Language Models and Langchain. The candidate will guide teams in implementing AI-driven solutions.', 'required_technical_skills': ['Generative AI', 'Machine Learning', 'Large Language Models'], 'required_non_technical_skills': ['Project Management', 'Leadership', 'Collaboration'], 'years_of_experience_required': 5, 'reason_for_candidate_fit': 'Lim’s solid experience in data science and project management as well as his background in AI make him an ideal fit for this managerial position.'}    \n",
      "\u001b[00m\n"
     ]
    },
    {
     "name": "stderr",
     "output_type": "stream",
     "text": [
      "2025-01-21 23:15:18,502 - 8342343488 - __init__.py-__init__:100 - WARNING: Invalid type TaskOutput for attribute 'output.value' value. Expected one of ['bool', 'str', 'bytes', 'int', 'float'] or a sequence of those types\n"
     ]
    },
    {
     "name": "stdout",
     "output_type": "stream",
     "text": [
      "\n",
      "\n",
      "\u001b[1m\u001b[95m# Agent:\u001b[00m \u001b[1m\u001b[92mInterview preparation agent\u001b[00m\n",
      "\u001b[95m## Final Answer:\u001b[00m \u001b[92m\n",
      "{\n",
      "  \"interview_questions\": [\n",
      "    {\n",
      "      \"company\": \"EY\",\n",
      "      \"job_title\": \"Data Scientist (Gen AI), Manager, Data & AI, Technology Consulting\",\n",
      "      \"question\": \"Can you elaborate on a project where you implemented Generative AI solutions?\",\n",
      "      \"skill_required\": \"Generative AI\",\n",
      "      \"sample_answer\": \"In my previous project, I developed an AI-powered troubleshooting assistant that leveraged generative AI for real-time equipment diagnostics. This involved training the model on historical data, enabling it to provide immediate troubleshooting support for line engineers. The outcome was a significant reduction in equipment downtime and operational costs.\"\n",
      "    },\n",
      "    {\n",
      "      \"company\": \"EY\",\n",
      "      \"job_title\": \"Data Scientist (Gen AI), Manager, Data & AI, Technology Consulting\",\n",
      "      \"question\": \"Describe your experience with Large Language Models.\",\n",
      "      \"skill_required\": \"Large Language Models\",\n",
      "      \"sample_answer\": \"During my work on the Generative BI Assistant Application, I utilized large language models to enhance user interactions with complex datasets. By deploying an NLP framework, I integrated these models to interpret user queries accurately, thereby improving decision-making processes and user satisfaction.\"\n",
      "    },\n",
      "    {\n",
      "      \"company\": \"EY\",\n",
      "      \"job_title\": \"Data Scientist (Gen AI), Manager, Data & AI, Technology Consulting\",\n",
      "      \"question\": \"What strategies do you employ for effective project management?\",\n",
      "      \"skill_required\": \"Project Management\",\n",
      "      \"sample_answer\": \"I utilize Agile methodologies to manage my projects, emphasizing iterative progress and involving stakeholders throughout the project cycle. Regular stand-ups, sprint planning, and retrospectives ensure that the team remains aligned and can pivot quickly if any challenges arise. This approach has led to on-time delivery on multiple occasions.\"\n",
      "    },\n",
      "    {\n",
      "      \"company\": \"EY\",\n",
      "      \"job_title\": \"Data Scientist (Gen AI), Manager, Data & AI, Technology Consulting\",\n",
      "      \"question\": \"How do you collaborate with cross-functional teams in your projects?\",\n",
      "      \"skill_required\": \"Collaboration\",\n",
      "      \"sample_answer\": \"I prioritize open communication with all team members and conduct regular meetings to ensure alignment. For instance, during the Electricity Demand Forecasting project, I coordinated with the engineering and statistical teams to leverage their insights, which ultimately led to a more robust forecasting model.\"\n",
      "    },\n",
      "    {\n",
      "      \"company\": \"EY\",\n",
      "      \"job_title\": \"Data Scientist (Gen AI), Manager, Data & AI, Technology Consulting\",\n",
      "      \"question\": \"Can you give an example of how you solved a complex problem?\",\n",
      "      \"skill_required\": \"Problem Solving\",\n",
      "      \"sample_answer\": \"In the Flowcell Defect Detection project, we faced a high false-positive rate in defect identification. I implemented an ensemble learning approach that combined several models to enhance accuracy. After testing various algorithms and tuning hyperparameters, we reduced the false-positive rate by over 30%, significantly improving inspection efficiency.\"\n",
      "    },\n",
      "    {\n",
      "      \"company\": \"EY\",\n",
      "      \"job_title\": \"Data Scientist (Gen AI), Manager, Data & AI, Technology Consulting\",\n",
      "      \"question\": \"What is your approach to staying updated with advancements in AI technologies?\",\n",
      "      \"skill_required\": \"Research and Development\",\n",
      "      \"sample_answer\": \"I actively participate in AI conferences, subscribe to relevant journals, and am part of several online forums where professionals discuss emerging trends. Recently, I explored advancements in transformer models, leading to the integration of cutting-edge techniques in my projects.\"\n",
      "    },\n",
      "    {\n",
      "      \"company\": \"EY\",\n",
      "      \"job_title\": \"Data Scientist (Gen AI), Manager, Data & AI, Technology Consulting\",\n",
      "      \"question\": \"How do you ensure your solutions are scalable across platforms?\",\n",
      "      \"skill_required\": \"Cloud Computing\",\n",
      "      \"sample_answer\": \"When developing applications, I leverage cloud services like AWS and Azure to ensure scalability. For example, in the Generative BI Assistant project, I used serverless architectures to handle fluctuating user demands seamlessly, which allowed us to scale up during peak usage times without sacrificing performance.\"\n",
      "    },\n",
      "    {\n",
      "      \"company\": \"EY\",\n",
      "      \"job_title\": \"Data Scientist (Gen AI), Manager, Data & AI, Technology Consulting\",\n",
      "      \"question\": \"Describe a time when you led a team through a challenging project.\",\n",
      "      \"skill_required\": \"Leadership\",\n",
      "      \"sample_answer\": \"While leading the AI-powered Troubleshooting Assistant project, our team faced unforeseen technical challenges that threatened timelines. I organized brainstorming sessions to encourage team input and reallocated resources strategically. This collaborative effort not only kept us on track but also fostered a stronger team dynamic.\"\n",
      "    },\n",
      "    {\n",
      "      \"company\": \"EY\",\n",
      "      \"job_title\": \"Data Scientist (Gen AI), Manager, Data & AI, Technology Consulting\",\n",
      "      \"question\": \"How do you approach customer insights in your data projects?\",\n",
      "      \"skill_required\": \"Customer Insight\",\n",
      "      \"sample_answer\": \"I utilize data analysis methodologies to gather and interpret customer feedback before initiating projects. For instance, during the design phase of the Generative BI Assistant, I conducted surveys to understand user pain points, which guided our development process and ensured we were delivering value.\"\n",
      "    },\n",
      "    {\n",
      "      \"company\": \"EY\",\n",
      "      \"job_title\": \"Data Scientist (Gen AI), Manager, Data & AI, Technology Consulting\",\n",
      "      \"question\": \"What techniques do you find most effective for data analysis?\",\n",
      "      \"skill_required\": \"Data Analysis\",\n",
      "      \"sample_answer\": \"I frequently employ statistical modeling and visualization tools to uncover insights in data. For example, I used predictive modeling techniques to analyze demand patterns in the Electricity Demand Forecasting project, which enabled accurate projections and informed strategic decisions.\"\n",
      "    }\n",
      "  ]\n",
      "}\u001b[00m\n",
      "\n",
      "\n",
      "\u001b[1m\u001b[95m# Agent:\u001b[00m \u001b[1m\u001b[92mMaster elevator pitch specialist\u001b[00m\n",
      "\u001b[95m## Task:\u001b[00m \u001b[92mBased on the candidate's profile and the job description, develop a short elevator pitch for the candidate to use at his interview to answer the question \"tell me more about yourself\"\n",
      "\u001b[00m\n"
     ]
    },
    {
     "name": "stderr",
     "output_type": "stream",
     "text": [
      "2025-01-21 23:15:46,496 - 8342343488 - __init__.py-__init__:100 - WARNING: Invalid type TaskOutput for attribute 'output.value' value. Expected one of ['bool', 'str', 'bytes', 'int', 'float'] or a sequence of those types\n",
      "2025-01-21 23:15:46,510 - 8342343488 - __init__.py-__init__:537 - WARNING: Overriding of current TracerProvider is not allowed\n"
     ]
    },
    {
     "name": "stdout",
     "output_type": "stream",
     "text": [
      "\n",
      "\n",
      "\u001b[1m\u001b[95m# Agent:\u001b[00m \u001b[1m\u001b[92mMaster elevator pitch specialist\u001b[00m\n",
      "\u001b[95m## Final Answer:\u001b[00m \u001b[92m\n",
      "{\n",
      "  \"interview_prep\": {\n",
      "    \"interview_questions\": [\n",
      "      {\n",
      "        \"company\": \"EY\",\n",
      "        \"job_title\": \"Data Scientist (Gen AI), Manager, Data & AI, Technology Consulting\",\n",
      "        \"question\": \"Can you elaborate on a project where you implemented Generative AI solutions?\",\n",
      "        \"skill_required\": \"Generative AI\",\n",
      "        \"sample_answer\": \"In my previous project, I developed an AI-powered troubleshooting assistant that leveraged generative AI for real-time equipment diagnostics. This involved training the model on historical data, enabling it to provide immediate troubleshooting support for line engineers. The outcome was a significant reduction in equipment downtime and operational costs.\"\n",
      "      },\n",
      "      {\n",
      "        \"company\": \"EY\",\n",
      "        \"job_title\": \"Data Scientist (Gen AI), Manager, Data & AI, Technology Consulting\",\n",
      "        \"question\": \"Describe your experience with Large Language Models.\",\n",
      "        \"skill_required\": \"Large Language Models\",\n",
      "        \"sample_answer\": \"During my work on the Generative BI Assistant Application, I utilized large language models to enhance user interactions with complex datasets. By deploying an NLP framework, I integrated these models to interpret user queries accurately, thereby improving decision-making processes and user satisfaction.\"\n",
      "      },\n",
      "      {\n",
      "        \"company\": \"EY\",\n",
      "        \"job_title\": \"Data Scientist (Gen AI), Manager, Data & AI, Technology Consulting\",\n",
      "        \"question\": \"What strategies do you employ for effective project management?\",\n",
      "        \"skill_required\": \"Project Management\",\n",
      "        \"sample_answer\": \"I utilize Agile methodologies to manage my projects, emphasizing iterative progress and involving stakeholders throughout the project cycle. Regular stand-ups, sprint planning, and retrospectives ensure that the team remains aligned and can pivot quickly if any challenges arise. This approach has led to on-time delivery on multiple occasions.\"\n",
      "      },\n",
      "      {\n",
      "        \"company\": \"EY\",\n",
      "        \"job_title\": \"Data Scientist (Gen AI), Manager, Data & AI, Technology Consulting\",\n",
      "        \"question\": \"How do you collaborate with cross-functional teams in your projects?\",\n",
      "        \"skill_required\": \"Collaboration\",\n",
      "        \"sample_answer\": \"I prioritize open communication with all team members and conduct regular meetings to ensure alignment. For instance, during the Electricity Demand Forecasting project, I coordinated with the engineering and statistical teams to leverage their insights, which ultimately led to a more robust forecasting model.\"\n",
      "      },\n",
      "      {\n",
      "        \"company\": \"EY\",\n",
      "        \"job_title\": \"Data Scientist (Gen AI), Manager, Data & AI, Technology Consulting\",\n",
      "        \"question\": \"Can you give an example of how you solved a complex problem?\",\n",
      "        \"skill_required\": \"Problem Solving\",\n",
      "        \"sample_answer\": \"In the Flowcell Defect Detection project, we faced a high false-positive rate in defect identification. I implemented an ensemble learning approach that combined several models to enhance accuracy. After testing various algorithms and tuning hyperparameters, we reduced the false-positive rate by over 30%, significantly improving inspection efficiency.\"\n",
      "      },\n",
      "      {\n",
      "        \"company\": \"EY\",\n",
      "        \"job_title\": \"Data Scientist (Gen AI), Manager, Data & AI, Technology Consulting\",\n",
      "        \"question\": \"What is your approach to staying updated with advancements in AI technologies?\",\n",
      "        \"skill_required\": \"Research and Development\",\n",
      "        \"sample_answer\": \"I actively participate in AI conferences, subscribe to relevant journals, and am part of several online forums where professionals discuss emerging trends. Recently, I explored advancements in transformer models, leading to the integration of cutting-edge techniques in my projects.\"\n",
      "      },\n",
      "      {\n",
      "        \"company\": \"EY\",\n",
      "        \"job_title\": \"Data Scientist (Gen AI), Manager, Data & AI, Technology Consulting\",\n",
      "        \"question\": \"How do you ensure your solutions are scalable across platforms?\",\n",
      "        \"skill_required\": \"Cloud Computing\",\n",
      "        \"sample_answer\": \"When developing applications, I leverage cloud services like AWS and Azure to ensure scalability. For example, in the Generative BI Assistant project, I used serverless architectures to handle fluctuating user demands seamlessly, which allowed us to scale up during peak usage times without sacrificing performance.\"\n",
      "      },\n",
      "      {\n",
      "        \"company\": \"EY\",\n",
      "        \"job_title\": \"Data Scientist (Gen AI), Manager, Data & AI, Technology Consulting\",\n",
      "        \"question\": \"Describe a time when you led a team through a challenging project.\",\n",
      "        \"skill_required\": \"Leadership\",\n",
      "        \"sample_answer\": \"While leading the AI-powered Troubleshooting Assistant project, our team faced unforeseen technical challenges that threatened timelines. I organized brainstorming sessions to encourage team input and reallocated resources strategically. This collaborative effort not only kept us on track but also fostered a stronger team dynamic.\"\n",
      "      },\n",
      "      {\n",
      "        \"company\": \"EY\",\n",
      "        \"job_title\": \"Data Scientist (Gen AI), Manager, Data & AI, Technology Consulting\",\n",
      "        \"question\": \"How do you approach customer insights in your data projects?\",\n",
      "        \"skill_required\": \"Customer Insight\",\n",
      "        \"sample_answer\": \"I utilize data analysis methodologies to gather and interpret customer feedback before initiating projects. For instance, during the design phase of the Generative BI Assistant, I conducted surveys to understand user pain points, which guided our development process and ensured we were delivering value.\"\n",
      "      },\n",
      "      {\n",
      "        \"company\": \"EY\",\n",
      "        \"job_title\": \"Data Scientist (Gen AI), Manager, Data & AI, Technology Consulting\",\n",
      "        \"question\": \"What techniques do you find most effective for data analysis?\",\n",
      "        \"skill_required\": \"Data Analysis\",\n",
      "        \"sample_answer\": \"I frequently employ statistical modeling and visualization tools to uncover insights in data. For example, I used predictive modeling techniques to analyze demand patterns in the Electricity Demand Forecasting project, which enabled accurate projections and informed strategic decisions.\"\n",
      "      }\n",
      "    ]\n",
      "  },\n",
      "  \"elevator_pitch\": \"Hello, I'm [Your Name], a passionate Data Scientist specializing in Generative AI and Technology Consulting. With a solid foundation in developing AI applications, I’ve successfully launched projects like an AI-powered troubleshooting assistant that boosted equipment efficiency by reducing downtime significantly. I thrive on using Large Language Models to enhance decision-making and user experience across platforms. My approach combines Agile project management with a keen focus on collaboration, ensuring that I leverage cross-functional insights to tackle complex challenges effectively. I am committed to continuous learning, actively engaging with the latest AI advancements, which allows me to apply cutting-edge techniques in my projects. I’m excited about the potential of AI to not only solve critical business problems but also to drive innovation, and I look forward to bringing my expertise to EY's dynamic team.\"\n",
      "}\u001b[00m\n",
      "\n",
      "\n",
      "\u001b[1m\u001b[95m# Agent:\u001b[00m \u001b[1m\u001b[92mInterview preparation agent\u001b[00m\n",
      "\u001b[95m## Task:\u001b[00m \u001b[92mPrepare a comprehensive interview preparation document for the candidate's preparation process. Develop at least 10 questions and sample answers based on the job requirements and the candidate's profile.\n",
      "candidate_profile: {'name': 'Lim Hsien Yong', 'highest_qualification': 'Masters Degree', 'field_of_study': 'Artificial Intelligence', 'institution_of_study': 'Singapore Management University', 'technical_skills': ['Data Science', 'Machine Learning', 'Natural Language Processing', 'Computer Vision', 'Generative AI', 'Graph Analytics', 'Cloud Computing (AWS, GCP, Azure)', 'Database Management (SQL, MongoDB, Neo4j)', 'API Development', 'Web Applications Development'], 'non_technical_skills': ['Problem Solving', 'Project Management', 'Collaboration', 'Communication', 'Research and Development', 'Innovation', 'Customer Insight', 'Data Analysis'], 'years_of_experience': 5, 'current_job_title': 'Senior Data Scientist', 'work_experiences': [{'project_title': 'Flowcell Defect Detection', 'summary_of_experience': 'Prototyped and deployed complex machine learning models for accurate defect detection in flowcells, achieving significant cost savings.', 'skills_exhibited': ['Machine Learning', 'Data Engineering', 'Cost-Benefit Analysis', 'Microservices Architecture']}, {'project_title': 'Generative BI Assistant Application', 'summary_of_experience': 'Developed and deployed a natural language processing application that enhances user interaction with complex data metrics.', 'skills_exhibited': ['Natural Language Processing', 'Application Development', 'User Experience Design']}, {'project_title': 'AI-powered Troubleshooting Assistant', 'summary_of_experience': 'Created an AI assistant for real-time equipment troubleshooting, which optimizes operational efficiency for line engineers.', 'skills_exhibited': ['Generative AI', 'Real-Time Processing', 'Problem-Solving']}, {'project_title': 'Electricity Demand Forecasting', 'summary_of_experience': 'Led projects that utilized machine learning to accurately predict electricity demand.', 'skills_exhibited': ['Data Analysis', 'Statistical Modeling', 'Forecasting Techniques']}]} job_listing: {'company_name': 'Capital One', 'job_title': 'Manager, Data Scientist, Generative AI Systems', 'job_description': 'Focus on personalizing credit card offers using Generative AI techniques. The role requires leading a team of data scientists to drive innovation.', 'required_technical_skills': ['Generative AI', 'Statistical Modeling', 'Data Analysis'], 'required_non_technical_skills': ['Leadership', 'Innovation', 'Strategic Thinking'], 'years_of_experience_required': 5, 'reason_for_candidate_fit': \"Lim's combination of technical skills and leadership experience in AI-driven solutions suit this management role perfectly.\"}    \n",
      "\u001b[00m\n"
     ]
    },
    {
     "name": "stderr",
     "output_type": "stream",
     "text": [
      "2025-01-21 23:16:16,503 - 8342343488 - __init__.py-__init__:100 - WARNING: Invalid type TaskOutput for attribute 'output.value' value. Expected one of ['bool', 'str', 'bytes', 'int', 'float'] or a sequence of those types\n"
     ]
    },
    {
     "name": "stdout",
     "output_type": "stream",
     "text": [
      "\n",
      "\n",
      "\u001b[1m\u001b[95m# Agent:\u001b[00m \u001b[1m\u001b[92mInterview preparation agent\u001b[00m\n",
      "\u001b[95m## Final Answer:\u001b[00m \u001b[92m\n",
      "{\n",
      "  \"interview_questions\": [\n",
      "    {\n",
      "      \"company\": \"Capital One\",\n",
      "      \"job_title\": \"Manager, Data Scientist, Generative AI Systems\",\n",
      "      \"question\": \"Can you describe a project where you utilized Generative AI techniques?\",\n",
      "      \"skill_required\": \"Generative AI\",\n",
      "      \"sample_answer\": \"In my previous role, I developed an AI-powered troubleshooting assistant that utilized generative AI for real-time equipment troubleshooting. This project involved creating a model that could generate actionable insights based on historical data. It optimized operational efficiency for line engineers by effectively predicting and diagnosing equipment issues. The successful deployment of this project resulted in a notable reduction in downtime, significantly benefiting overall productivity.\"\n",
      "    },\n",
      "    {\n",
      "      \"company\": \"Capital One\",\n",
      "      \"job_title\": \"Manager, Data Scientist, Generative AI Systems\",\n",
      "      \"question\": \"What strategic approach do you take when personalizing credit card offers?\",\n",
      "      \"skill_required\": \"Strategic Thinking\",\n",
      "      \"sample_answer\": \"To personalize credit card offers, I begin by analyzing customer data to identify patterns and preferences. I employ machine learning algorithms to segment customers into distinct profiles based on their spending habits and credit scores. Then, I strategize on the best offer designs for each segment, ensuring that they meet customer needs while maximizing company objectives. My past experience in the Flowcell Defect Detection project taught me the value of aligning data insights with strategic goals.\"\n",
      "    },\n",
      "    {\n",
      "      \"company\": \"Capital One\",\n",
      "      \"job_title\": \"Manager, Data Scientist, Generative AI Systems\",\n",
      "      \"question\": \"How do you ensure innovation within your team?\",\n",
      "      \"skill_required\": \"Leadership\",\n",
      "      \"sample_answer\": \"I foster an innovative environment by encouraging open dialogue and brainstorming sessions in my team. I believe in empowering team members to propose new ideas and approaches without the fear of failure. For example, during the Generative BI Assistant application project, I introduced hackathon-style sessions where team members could explore creative solutions. This not only led to the successful development of the application but also promoted teamwork and collaboration.\"\n",
      "    },\n",
      "    {\n",
      "      \"company\": \"Capital One\",\n",
      "      \"job_title\": \"Manager, Data Scientist, Generative AI Systems\",\n",
      "      \"question\": \"Can you discuss your experience with statistical modeling?\",\n",
      "      \"skill_required\": \"Statistical Modeling\",\n",
      "      \"sample_answer\": \"In my role leading the Electricity Demand Forecasting project, I employed statistical modeling techniques to predict electricity demand accurately. This involved utilizing regression analysis and time-series forecasting to project future demands. I built various models and validated them to ensure high accuracy. The successful implementation of these models resulted in more efficient energy resource allocation, saving the company significant operational costs.\"\n",
      "    },\n",
      "    {\n",
      "      \"company\": \"Capital One\",\n",
      "      \"job_title\": \"Manager, Data Scientist, Generative AI Systems\",\n",
      "      \"question\": \"How do you handle data analysis in a team setting?\",\n",
      "      \"skill_required\": \"Data Analysis\",\n",
      "      \"sample_answer\": \"In a team setting, I advocate for collaborative data analysis, where team members contribute their strengths and perspectives. I frequently facilitate workshops that allow team members to access data together, employing tools such as SQL and Python for analysis. For instance, during a project on flowcell defect detection, the collaborative effort led to diverse insights that enhanced the accuracy of our machine learning models.\"\n",
      "    },\n",
      "    {\n",
      "      \"company\": \"Capital One\",\n",
      "      \"job_title\": \"Manager, Data Scientist, Generative AI Systems\",\n",
      "      \"question\": \"What methods do you use to ensure effective communication within your team?\",\n",
      "      \"skill_required\": \"Communication\",\n",
      "      \"sample_answer\": \"Effective communication is essential for team success. I employ various methods including regular check-ins and feedback sessions to ensure all team members feel heard. Additionally, I use project management tools to maintain transparency in project progress. My experience has taught me that maintaining open channels of communication helps to identify issues early and fosters a supportive team dynamic.\"\n",
      "    },\n",
      "    {\n",
      "      \"company\": \"Capital One\",\n",
      "      \"job_title\": \"Manager, Data Scientist, Generative AI Systems\",\n",
      "      \"question\": \"Describe how you would approach a challenge requiring problem-solving skills in a project.\",\n",
      "      \"skill_required\": \"Problem Solving\",\n",
      "      \"sample_answer\": \"When faced with a challenge, I first assess the situation to identify the root cause. For example, during the AI-powered Troubleshooting Assistant project, we faced delays in integration. I organized a team meeting to brainstorm potential solutions, evaluated the trade-offs of each, and developed an action plan that included additional testing phases. This systematic approach helped us resolve the issue and integrate the assistant successfully.\"\n",
      "    },\n",
      "    {\n",
      "      \"company\": \"Capital One\",\n",
      "      \"job_title\": \"Manager, Data Scientist, Generative AI Systems\",\n",
      "      \"question\": \"How do you prioritize projects and tasks within your team?\",\n",
      "      \"skill_required\": \"Project Management\",\n",
      "      \"sample_answer\": \"I use a combination of impact assessment and urgency to prioritize projects. I involve the team in the prioritization process through collaborative discussions. This way, we ensure everyone's insights are considered. For example, in leading the Generative BI Assistant project, we prioritized tasks based on their expected impact on user experience, leading to timely delivery of a highly effective application.\"\n",
      "    },\n",
      "    {\n",
      "      \"company\": \"Capital One\",\n",
      "      \"job_title\": \"Manager, Data Scientist, Generative AI Systems\",\n",
      "      \"question\": \"What do you consider when leading a team that develops AI solutions?\",\n",
      "      \"skill_required\": \"Innovation\",\n",
      "      \"sample_answer\": \"When leading a team developing AI solutions, I focus on fostering a culture of continuous innovation. This includes staying updated with the latest advancements in technology and encouraging team members to explore new methodologies. For instance, during my work with Generative AI techniques, I initiated sharing sessions where team members discussed emerging trends and technologies, which inspired innovative ideas in our projects.\"\n",
      "    },\n",
      "    {\n",
      "      \"company\": \"Capital One\",\n",
      "      \"job_title\": \"Manager, Data Scientist, Generative AI Systems\",\n",
      "      \"question\": \"How do you measure success in your data science projects?\",\n",
      "      \"skill_required\": \"Data Analysis\",\n",
      "      \"sample_answer\": \"Success in data science projects can be measured through accuracy metrics and business impact. For example, in the Electricity Demand Forecasting project, we tracked prediction accuracy through mean absolute error (MAE) and assessed the financial savings achieved through optimized resource allocation. The combination of quantitative measures and tangible business outcomes ensures we deliver value through our projects.\"\n",
      "    }\n",
      "  ]\n",
      "}\u001b[00m\n",
      "\n",
      "\n",
      "\u001b[1m\u001b[95m# Agent:\u001b[00m \u001b[1m\u001b[92mMaster elevator pitch specialist\u001b[00m\n",
      "\u001b[95m## Task:\u001b[00m \u001b[92mBased on the candidate's profile and the job description, develop a short elevator pitch for the candidate to use at his interview to answer the question \"tell me more about yourself\"\n",
      "\u001b[00m\n"
     ]
    },
    {
     "name": "stderr",
     "output_type": "stream",
     "text": [
      "2025-01-21 23:16:39,579 - 8342343488 - __init__.py-__init__:100 - WARNING: Invalid type TaskOutput for attribute 'output.value' value. Expected one of ['bool', 'str', 'bytes', 'int', 'float'] or a sequence of those types\n"
     ]
    },
    {
     "name": "stdout",
     "output_type": "stream",
     "text": [
      "\n",
      "\n",
      "\u001b[1m\u001b[95m# Agent:\u001b[00m \u001b[1m\u001b[92mMaster elevator pitch specialist\u001b[00m\n",
      "\u001b[95m## Final Answer:\u001b[00m \u001b[92m\n",
      "{\n",
      "  \"interview_prep\": {\n",
      "    \"interview_questions\": [\n",
      "      {\n",
      "        \"company\": \"Capital One\",\n",
      "        \"job_title\": \"Manager, Data Scientist, Generative AI Systems\",\n",
      "        \"question\": \"Can you describe a project where you utilized Generative AI techniques?\",\n",
      "        \"skill_required\": \"Generative AI\",\n",
      "        \"sample_answer\": \"In my previous role, I developed an AI-powered troubleshooting assistant that utilized generative AI for real-time equipment troubleshooting. This project involved creating a model that could generate actionable insights based on historical data. It optimized operational efficiency for line engineers by effectively predicting and diagnosing equipment issues. The successful deployment of this project resulted in a notable reduction in downtime, significantly benefiting overall productivity.\"\n",
      "      },\n",
      "      {\n",
      "        \"company\": \"Capital One\",\n",
      "        \"job_title\": \"Manager, Data Scientist, Generative AI Systems\",\n",
      "        \"question\": \"What strategic approach do you take when personalizing credit card offers?\",\n",
      "        \"skill_required\": \"Strategic Thinking\",\n",
      "        \"sample_answer\": \"To personalize credit card offers, I begin by analyzing customer data to identify patterns and preferences. I employ machine learning algorithms to segment customers into distinct profiles based on their spending habits and credit scores. Then, I strategize on the best offer designs for each segment, ensuring that they meet customer needs while maximizing company objectives. My past experience in the Flowcell Defect Detection project taught me the value of aligning data insights with strategic goals.\"\n",
      "      },\n",
      "      {\n",
      "        \"company\": \"Capital One\",\n",
      "        \"job_title\": \"Manager, Data Scientist, Generative AI Systems\",\n",
      "        \"question\": \"How do you ensure innovation within your team?\",\n",
      "        \"skill_required\": \"Leadership\",\n",
      "        \"sample_answer\": \"I foster an innovative environment by encouraging open dialogue and brainstorming sessions in my team. I believe in empowering team members to propose new ideas and approaches without the fear of failure. For example, during the Generative BI Assistant application project, I introduced hackathon-style sessions where team members could explore creative solutions. This not only led to the successful development of the application but also promoted teamwork and collaboration.\"\n",
      "      },\n",
      "      {\n",
      "        \"company\": \"Capital One\",\n",
      "        \"job_title\": \"Manager, Data Scientist, Generative AI Systems\",\n",
      "        \"question\": \"Can you discuss your experience with statistical modeling?\",\n",
      "        \"skill_required\": \"Statistical Modeling\",\n",
      "        \"sample_answer\": \"In my role leading the Electricity Demand Forecasting project, I employed statistical modeling techniques to predict electricity demand accurately. This involved utilizing regression analysis and time-series forecasting to project future demands. I built various models and validated them to ensure high accuracy. The successful implementation of these models resulted in more efficient energy resource allocation, saving the company significant operational costs.\"\n",
      "      },\n",
      "      {\n",
      "        \"company\": \"Capital One\",\n",
      "        \"job_title\": \"Manager, Data Scientist, Generative AI Systems\",\n",
      "        \"question\": \"How do you handle data analysis in a team setting?\",\n",
      "        \"skill_required\": \"Data Analysis\",\n",
      "        \"sample_answer\": \"In a team setting, I advocate for collaborative data analysis, where team members contribute their strengths and perspectives. I frequently facilitate workshops that allow team members to access data together, employing tools such as SQL and Python for analysis. For instance, during a project on flowcell defect detection, the collaborative effort led to diverse insights that enhanced the accuracy of our machine learning models.\"\n",
      "      },\n",
      "      {\n",
      "        \"company\": \"Capital One\",\n",
      "        \"job_title\": \"Manager, Data Scientist, Generative AI Systems\",\n",
      "        \"question\": \"What methods do you use to ensure effective communication within your team?\",\n",
      "        \"skill_required\": \"Communication\",\n",
      "        \"sample_answer\": \"Effective communication is essential for team success. I employ various methods including regular check-ins and feedback sessions to ensure all team members feel heard. Additionally, I use project management tools to maintain transparency in project progress. My experience has taught me that maintaining open channels of communication helps to identify issues early and fosters a supportive team dynamic.\"\n",
      "      },\n",
      "      {\n",
      "        \"company\": \"Capital One\",\n",
      "        \"job_title\": \"Manager, Data Scientist, Generative AI Systems\",\n",
      "        \"question\": \"Describe how you would approach a challenge requiring problem-solving skills in a project.\",\n",
      "        \"skill_required\": \"Problem Solving\",\n",
      "        \"sample_answer\": \"When faced with a challenge, I first assess the situation to identify the root cause. For example, during the AI-powered Troubleshooting Assistant project, we faced delays in integration. I organized a team meeting to brainstorm potential solutions, evaluated the trade-offs of each, and developed an action plan that included additional testing phases. This systematic approach helped us resolve the issue and integrate the assistant successfully.\"\n",
      "      },\n",
      "      {\n",
      "        \"company\": \"Capital One\",\n",
      "        \"job_title\": \"Manager, Data Scientist, Generative AI Systems\",\n",
      "        \"question\": \"How do you prioritize projects and tasks within your team?\",\n",
      "        \"skill_required\": \"Project Management\",\n",
      "        \"sample_answer\": \"I use a combination of impact assessment and urgency to prioritize projects. I involve the team in the prioritization process through collaborative discussions. This way, we ensure everyone's insights are considered. For example, in leading the Generative BI Assistant project, we prioritized tasks based on their expected impact on user experience, leading to timely delivery of a highly effective application.\"\n",
      "      },\n",
      "      {\n",
      "        \"company\": \"Capital One\",\n",
      "        \"job_title\": \"Manager, Data Scientist, Generative AI Systems\",\n",
      "        \"question\": \"What do you consider when leading a team that develops AI solutions?\",\n",
      "        \"skill_required\": \"Innovation\",\n",
      "        \"sample_answer\": \"When leading a team developing AI solutions, I focus on fostering a culture of continuous innovation. This includes staying updated with the latest advancements in technology and encouraging team members to explore new methodologies. For instance, during my work with Generative AI techniques, I initiated sharing sessions where team members discussed emerging trends and technologies, which inspired innovative ideas in our projects.\"\n",
      "      },\n",
      "      {\n",
      "        \"company\": \"Capital One\",\n",
      "        \"job_title\": \"Manager, Data Scientist, Generative AI Systems\",\n",
      "        \"question\": \"How do you measure success in your data science projects?\",\n",
      "        \"skill_required\": \"Data Analysis\",\n",
      "        \"sample_answer\": \"Success in data science projects can be measured through accuracy metrics and business impact. For example, in the Electricity Demand Forecasting project, we tracked prediction accuracy through mean absolute error (MAE) and assessed the financial savings achieved through optimized resource allocation. The combination of quantitative measures and tangible business outcomes ensures we deliver value through our projects.\"\n",
      "      }\n",
      "    ]\n",
      "  },\n",
      "  \"elevator_pitch\": \"Hello, I'm [Your Name], and I bring a robust background in data science with a strong emphasis on Generative AI systems. I have successfully led projects like the Generative BI Assistant application, where I fostered innovation through collaborative brainstorming sessions, leading to impactful solutions. My analytical skills shine through my work on Electricity Demand Forecasting, where I implemented statistical models that resulted in significant cost savings. I'm passionate about applying strategic thinking to personalize customer solutions, and I believe effective communication and teamwork are key to driving projects to success. I'm excited about the opportunity at Capital One, as I aim to leverage my expertise to push the boundaries of Generative AI and data-driven decision-making.\"\n",
      "}\u001b[00m\n",
      "\n",
      "\n"
     ]
    }
   ],
   "source": [
    "interview_results = interview_crew.kickoff_for_each(\n",
    "    inputs = interview_crew_inputs,\n",
    ")"
   ]
  },
  {
   "cell_type": "code",
   "execution_count": 101,
   "metadata": {},
   "outputs": [
    {
     "data": {
      "text/markdown": [
       "Hello! I'm a passionate data scientist with specialized experience in generative AI. At my last position, I led a project that developed an AI-powered troubleshooting assistant, improving our operational response time significantly. I have a strong background in using cloud platforms like AWS, utilizing them to streamline data processing in various projects, including forecasting electricity demand which enhanced profitability by 20%. My collaborative approach fuels innovation as I work closely with teams and incorporate user feedback to refine solutions. I am committed to continuous learning, actively engaging in AI forums and courses to stay at the cutting edge of technology. I’m excited about the opportunity at Amazon’s Generative AI Innovation Center, where I can bring my expertise and contribute to groundbreaking projects that redefine user experiences. Thank you!"
      ],
      "text/plain": [
       "<IPython.core.display.Markdown object>"
      ]
     },
     "metadata": {},
     "output_type": "display_data"
    }
   ],
   "source": [
    "display(Markdown(interview_results[0].pydantic.elevator_pitch))"
   ]
  },
  {
   "cell_type": "code",
   "execution_count": 96,
   "metadata": {},
   "outputs": [
    {
     "name": "stdout",
     "output_type": "stream",
     "text": [
      "Total costs: $0.0023\n"
     ]
    },
    {
     "name": "stderr",
     "output_type": "stream",
     "text": [
      "/var/folders/zb/r15p7t_d62d8m2s0623s22gh0000gn/T/ipykernel_42474/63002604.py:7: PydanticDeprecatedSince20: The `dict` method is deprecated; use `model_dump` instead. Deprecated in Pydantic V2.0 to be removed in V3.0. See Pydantic V2 Migration Guide at https://errors.pydantic.dev/2.10/migration/\n",
      "  df_usage_metrics = pd.DataFrame([interview_crew.usage_metrics.dict()])\n"
     ]
    },
    {
     "data": {
      "text/html": [
       "<div>\n",
       "<style scoped>\n",
       "    .dataframe tbody tr th:only-of-type {\n",
       "        vertical-align: middle;\n",
       "    }\n",
       "\n",
       "    .dataframe tbody tr th {\n",
       "        vertical-align: top;\n",
       "    }\n",
       "\n",
       "    .dataframe thead th {\n",
       "        text-align: right;\n",
       "    }\n",
       "</style>\n",
       "<table border=\"1\" class=\"dataframe\">\n",
       "  <thead>\n",
       "    <tr style=\"text-align: right;\">\n",
       "      <th></th>\n",
       "      <th>total_tokens</th>\n",
       "      <th>prompt_tokens</th>\n",
       "      <th>cached_prompt_tokens</th>\n",
       "      <th>completion_tokens</th>\n",
       "      <th>successful_requests</th>\n",
       "    </tr>\n",
       "  </thead>\n",
       "  <tbody>\n",
       "    <tr>\n",
       "      <th>0</th>\n",
       "      <td>15493</td>\n",
       "      <td>7355</td>\n",
       "      <td>0</td>\n",
       "      <td>8138</td>\n",
       "      <td>6</td>\n",
       "    </tr>\n",
       "  </tbody>\n",
       "</table>\n",
       "</div>"
      ],
      "text/plain": [
       "   total_tokens  prompt_tokens  cached_prompt_tokens  completion_tokens  \\\n",
       "0         15493           7355                     0               8138   \n",
       "\n",
       "   successful_requests  \n",
       "0                    6  "
      ]
     },
     "execution_count": 96,
     "metadata": {},
     "output_type": "execute_result"
    }
   ],
   "source": [
    "import pandas as pd\n",
    "\n",
    "costs = 0.150 * (interview_crew.usage_metrics.prompt_tokens + interview_crew.usage_metrics.completion_tokens) / 1_000_000\n",
    "print(f\"Total costs: ${costs:.4f}\")\n",
    "\n",
    "# Convert UsageMetrics instance to a DataFrame\n",
    "df_usage_metrics = pd.DataFrame([interview_crew.usage_metrics.dict()])\n",
    "df_usage_metrics"
   ]
  },
  {
   "cell_type": "markdown",
   "metadata": {},
   "source": [
    "# 3. Combing both crews into a single flow\n",
    "Allows us to execute everything in one swoop"
   ]
  },
  {
   "cell_type": "code",
   "execution_count": 20,
   "metadata": {},
   "outputs": [],
   "source": [
    "from crewai import Flow\n",
    "from crewai.flow.flow import listen, start"
   ]
  },
  {
   "cell_type": "code",
   "execution_count": 31,
   "metadata": {},
   "outputs": [],
   "source": [
    "from typing import Optional\n",
    "import json\n",
    "\n",
    "class JobSearchPipeline(Flow):\n",
    "    @start()\n",
    "    def job_crew_kickoff(self, inputs: Optional[Dict[str, Any]]= None):\n",
    "        print(\"Job crew tasks kickoff...\")\n",
    "        job_crew_results = job_crew.kickoff(inputs=inputs)\n",
    "        results= job_crew_results.pydantic.model_dump()\n",
    "        print(results)\n",
    "        return results\n",
    "    \n",
    "    @listen(job_crew_kickoff)\n",
    "    def log_job_results(self, results: Dict[str, Any]):\n",
    "        with open(\"job_crew_results.json\", \"w\") as file:\n",
    "            json.dump(results, file, indent=4)\n",
    "        print(\"Results saved to './job_crew_results.json'\")\n",
    "    \n",
    "    @listen(job_crew_kickoff)\n",
    "    def postprocess_job_crew_results(self, results: Dict[str, Any]):\n",
    "        print(\"Preparing interview crew inputs...\")\n",
    "        candidate_profile = results['candidate_profile']\n",
    "        scored_listings =  [\n",
    "            result['scored_listing']['job_listing'] for result in results['cover_letters']\n",
    "        ]\n",
    "        interview_crew_inputs = [\n",
    "            {\n",
    "                \"candidate_profile\": candidate_profile,\n",
    "                \"job_listing\": listing\n",
    "            } for listing in scored_listings\n",
    "        ]\n",
    "        return interview_crew_inputs\n",
    "    \n",
    "    @listen(postprocess_job_crew_results)\n",
    "    def log_interview_crew_inputs(self, interview_crew_inputs: List[Dict[str, Any]]):\n",
    "        with open(\"interview_crew_inputs.json\", \"w\") as file:\n",
    "            json.dump(interview_crew_inputs, file, indent=4)\n",
    "        print(\"interview crew input saved!\")\n",
    "    \n",
    "    @listen(postprocess_job_crew_results)\n",
    "    def interview_crew_kickoff(self, interview_crew_inputs: List[Dict[str, Any]]):\n",
    "        print(\"Interview crew tasks kickoff...\")\n",
    "        interview_crew_results = interview_crew.kickoff_for_each(inputs=interview_crew_inputs)\n",
    "        return interview_crew_results"
   ]
  },
  {
   "cell_type": "code",
   "execution_count": 32,
   "metadata": {},
   "outputs": [
    {
     "name": "stdout",
     "output_type": "stream",
     "text": [
      "Plot saved as crewai_flow.html\n"
     ]
    }
   ],
   "source": [
    "flow = JobSearchPipeline()\n",
    "flow.plot()"
   ]
  },
  {
   "cell_type": "code",
   "execution_count": 23,
   "metadata": {},
   "outputs": [
    {
     "data": {
      "text/html": [
       "\n",
       "        <iframe\n",
       "            width=\"150%\"\n",
       "            height=\"600\"\n",
       "            src=\"crewai_flow.html\"\n",
       "            frameborder=\"0\"\n",
       "            allowfullscreen\n",
       "            \n",
       "        ></iframe>\n",
       "        "
      ],
      "text/plain": [
       "<IPython.lib.display.IFrame at 0x3590d0710>"
      ]
     },
     "execution_count": 23,
     "metadata": {},
     "output_type": "execute_result"
    }
   ],
   "source": [
    "from IPython.display import IFrame\n",
    "\n",
    "IFrame(src=\"crewai_flow.html\", width=\"150%\", height=600)"
   ]
  },
  {
   "cell_type": "code",
   "execution_count": null,
   "metadata": {},
   "outputs": [],
   "source": [
    "results = flow.kickoff(\n",
    "    inputs = {\n",
    "        'job_requirements': 'Generative AI related data scientist jobs or management positions.'\n",
    "    }\n",
    ")"
   ]
  },
  {
   "cell_type": "code",
   "execution_count": 36,
   "metadata": {},
   "outputs": [
    {
     "data": {
      "text/markdown": [
       "Hello, I'm [Your Name], a passionate Senior Data Scientist with extensive experience in leveraging machine learning and AI to drive impactful data-driven solutions. In my previous roles, I've successfully developed predictive models for defect detection, improved data analysis workflows, and led cross-functional teams to deliver cutting-edge AI applications. I’m particularly skilled in strategic planning and team collaboration, striving to align project goals with innovative approaches. With a strong focus on continuous learning and adapting to new technologies, I’m excited about the opportunity to contribute to Google’s mission of harnessing AI to create transformative solutions that enhance user experiences."
      ],
      "text/plain": [
       "<IPython.core.display.Markdown object>"
      ]
     },
     "metadata": {},
     "output_type": "display_data"
    },
    {
     "data": {
      "text/markdown": [
       "Hello! I’m a passionate and experienced Senior Solutions Architect specializing in AI and ML with a robust background in cloud technologies. I have successfully led various machine learning projects, utilizing AWS to develop scalable solutions that drove significant cost savings and enhanced decision-making capabilities for clients. My collaborative mindset has allowed me to effectively engage with stakeholders, ensuring that the solutions I develop not only meet technical requirements but also align with user needs. I stay ahead of industry trends through continuous learning and involvement in key conferences, empowering me to tackle complex challenges, such as data privacy, and create innovative, high-quality AI solutions that yield measurable outcomes."
      ],
      "text/plain": [
       "<IPython.core.display.Markdown object>"
      ]
     },
     "metadata": {},
     "output_type": "display_data"
    },
    {
     "data": {
      "text/markdown": [
       "Hi, I’m [Your Name], a Senior Data Scientist with over 5 years of experience in building impactful machine learning models and data-driven solutions. My journey has enabled me to work with renowned companies, where I successfully led projects like electricity spot price forecasting with a model accuracy of over 94%, resulting in optimized trading strategies that saved costs. My passion lies in leveraging cloud technologies such as Azure for deploying scalable applications and collaborating with cross-functional teams to drive innovations, exemplified in real-time IoT monitoring systems. I'm committed to staying at the forefront of data science trends to deliver cutting-edge solutions that can transform business processes. I would love to bring my expertise in machine learning and data engineering to Microsoft, contributing to your innovative projects."
      ],
      "text/plain": [
       "<IPython.core.display.Markdown object>"
      ]
     },
     "metadata": {},
     "output_type": "display_data"
    }
   ],
   "source": [
    "for result in results:\n",
    "    display(Markdown(result.pydantic.elevator_pitch))"
   ]
  },
  {
   "cell_type": "code",
   "execution_count": null,
   "metadata": {},
   "outputs": [],
   "source": []
  }
 ],
 "metadata": {
  "kernelspec": {
   "display_name": "crewai",
   "language": "python",
   "name": "python3"
  },
  "language_info": {
   "codemirror_mode": {
    "name": "ipython",
    "version": 3
   },
   "file_extension": ".py",
   "mimetype": "text/x-python",
   "name": "python",
   "nbconvert_exporter": "python",
   "pygments_lexer": "ipython3",
   "version": "3.11.10"
  }
 },
 "nbformat": 4,
 "nbformat_minor": 4
}
