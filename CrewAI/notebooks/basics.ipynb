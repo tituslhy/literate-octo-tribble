{
 "cells": [
  {
   "cell_type": "code",
   "execution_count": 1,
   "metadata": {},
   "outputs": [],
   "source": [
    "%load_ext autoreload\n",
    "%autoreload 2"
   ]
  },
  {
   "attachments": {},
   "cell_type": "markdown",
   "metadata": {},
   "source": [
    "## The job search recruitment agency!\n",
    "1. Profiler\n",
    "2. Recruiter\n",
    "3. Matcher\n",
    "4. Cover Letter Writer"
   ]
  },
  {
   "cell_type": "code",
   "execution_count": 2,
   "metadata": {},
   "outputs": [],
   "source": [
    "import warnings\n",
    "import os\n",
    "from dotenv import load_dotenv, find_dotenv\n",
    "import yaml\n",
    "from crewai import Crew, Process, Agent, Task\n",
    "from crewai.tools import tool"
   ]
  },
  {
   "cell_type": "code",
   "execution_count": 3,
   "metadata": {},
   "outputs": [],
   "source": [
    "_ = load_dotenv(find_dotenv())\n",
    "warnings.filterwarnings(\"ignore\")\n",
    "os.environ['OPENAI_MODEL_NAME'] = 'gpt-4o-mini'"
   ]
  },
  {
   "cell_type": "markdown",
   "metadata": {},
   "source": [
    "Instantiate LLM Observability"
   ]
  },
  {
   "cell_type": "code",
   "execution_count": 4,
   "metadata": {},
   "outputs": [
    {
     "name": "stdout",
     "output_type": "stream",
     "text": [
      "🔭 OpenTelemetry Tracing Details 🔭\n",
      "|  Phoenix Project: crewai\n",
      "|  Span Processor: SimpleSpanProcessor\n",
      "|  Collector Endpoint: http://localhost:6006/v1/traces\n",
      "|  Transport: HTTP\n",
      "|  Transport Headers: {'api_key': '****'}\n",
      "|  \n",
      "|  Using a default SpanProcessor. `add_span_processor` will overwrite this default.\n",
      "|  \n",
      "|  `register` has set this TracerProvider as the global OpenTelemetry default.\n",
      "|  To disable this behavior, call `register` with `set_global_tracer_provider=False`.\n",
      "\n"
     ]
    }
   ],
   "source": [
    "from phoenix.otel import register\n",
    "\n",
    "tracer_provider = register(\n",
    "    project_name = \"crewai\",\n",
    "    endpoint=\"http://localhost:6006/v1/traces\"\n",
    ")"
   ]
  },
  {
   "cell_type": "code",
   "execution_count": 5,
   "metadata": {},
   "outputs": [],
   "source": [
    "from openinference.instrumentation.crewai import CrewAIInstrumentor\n",
    "from openinference.instrumentation.litellm import LiteLLMInstrumentor\n",
    "\n",
    "CrewAIInstrumentor().instrument(tracer_provider=tracer_provider)\n",
    "LiteLLMInstrumentor().instrument(tracer_provider=tracer_provider)"
   ]
  },
  {
   "cell_type": "markdown",
   "metadata": {},
   "source": [
    "### Loading tasks and agents from yaml files"
   ]
  },
  {
   "cell_type": "code",
   "execution_count": 6,
   "metadata": {},
   "outputs": [],
   "source": [
    "from typing import Dict, Tuple\n",
    "def load_configs(files: Dict[str, str]) -> Tuple[dict, dict]:\n",
    "    \"\"\"Loads yml config files from a dictionary of filepaths\n",
    "\n",
    "    Args:\n",
    "        files (Dict[str, str]): Dictionary of filepaths containing yml files\n",
    "        For example:\n",
    "        {\n",
    "            'agents': '../config/agents.yml',\n",
    "            'tasks': '../config/tasks.yml'\n",
    "        }\n",
    "    \"\"\"\n",
    "    configs = {}\n",
    "    for config_type, file_path in files.items():\n",
    "        with open(file_path, 'r') as file:\n",
    "            configs[config_type] = yaml.safe_load(file)\n",
    "    return configs['agents'], configs['tasks']"
   ]
  },
  {
   "cell_type": "code",
   "execution_count": 7,
   "metadata": {},
   "outputs": [],
   "source": [
    "job_search_agents_config, job_search_tasks_config = load_configs(\n",
    "    {\n",
    "        'agents': '../config/job_search_agents.yml',\n",
    "        'tasks': '../config/job_search_tasks.yml',\n",
    "    }\n",
    ")"
   ]
  },
  {
   "cell_type": "markdown",
   "metadata": {},
   "source": [
    "## Create Pydantic Models for Structured Output"
   ]
  },
  {
   "cell_type": "code",
   "execution_count": 8,
   "metadata": {},
   "outputs": [],
   "source": [
    "from pydantic import BaseModel, Field\n",
    "from typing import Literal, List\n",
    "\n",
    "class WorkExperience(BaseModel):\n",
    "    project_title: str = Field(..., description=\"Name of project\")\n",
    "    summary_of_experience: str = Field(..., description=\"Short summary of experience\")\n",
    "    skills_exhibited: List[str] = Field(..., description=\"Skills exhibited during this project\")\n",
    "\n",
    "class CandidateProfile(BaseModel):\n",
    "    name: str = Field(..., description=\"Candidate's name\")\n",
    "    highest_qualification: Literal[\"Bachelor's Degree\", \"Masters Degree\", \"PhD\"] = Field(..., description=\"Candidate's highest qualification\")\n",
    "    field_of_study: str = Field(..., description=\"Candidate's field of study for highest qualification\")\n",
    "    institution_of_study: str = Field(..., description=\"Candidate's institution of study for highest qualification\")\n",
    "    technical_skills: List[str] = Field(..., description=\"List of candidate's technical skills. For example 'machine learning'.\")\n",
    "    non_technical_skills: List[str] = Field(..., description=\"List of candidate's non-technical skills. For example 'strategic planning'.\")\n",
    "    years_of_experience: int = Field(..., description=\"Candidate's years of experience\")\n",
    "    current_job_title: str = Field(..., description=\"Candidate's current job title\")\n",
    "    work_experiences: List[WorkExperience] = Field(..., description=\"Candidate's job experience\")\n",
    "\n",
    "class JobListing(BaseModel):\n",
    "    company_name: str = Field(..., description=\"Company name\")\n",
    "    job_title: str = Field(..., description=\"Job title\")\n",
    "    job_description: str = Field(..., description=\"Job description\")\n",
    "    required_technical_skills: List[str] = Field(..., description=\"List of required technical skills. For example 'machine learning'.\")\n",
    "    required_non_technical_skills: List[str] = Field(..., description=\"List of required non-technical skills. For example 'strategic planning'.\")\n",
    "    years_of_experience_required: int = Field(..., description=\"Years of experience required\")\n",
    "    reason_for_candidate_fit: str = Field(..., description=\"Reason for candidate fit to job.\")\n",
    "\n",
    "class JobListings(BaseModel):\n",
    "    job_listings: List[JobListing] = Field(..., description=\"List of job listings\")\n",
    "\n",
    "class ScoredListing(BaseModel):\n",
    "    job_listing: JobListing = Field(..., description=\"Job listing of interest\")\n",
    "    score: float = Field(..., description=\"Score of job listing fit to candidate profile on a scale of 1-10.\")\n",
    "    justfication: str = Field(..., description=\"Justification for score\")\n",
    "\n",
    "class ScoredListings(BaseModel):\n",
    "    scored_listings: List[ScoredListing] = Field(..., description=\"List of scored job listings\")\n",
    "\n",
    "class CoverLetter(BaseModel):\n",
    "    scored_listing: ScoredListing = Field(..., description=\"Scored job listing of interest\")\n",
    "    cover_letter: str = Field(..., description=\"Cover letter for scored listing\")\n",
    "\n",
    "class CoverLetters(BaseModel):\n",
    "    cover_letters: List[CoverLetter] = Field(..., description=\"List of cover letters\")"
   ]
  },
  {
   "cell_type": "markdown",
   "metadata": {},
   "source": [
    "## Writing a custom tool to load in the resume!"
   ]
  },
  {
   "cell_type": "code",
   "execution_count": 9,
   "metadata": {},
   "outputs": [],
   "source": [
    "from crewai.tools import BaseTool\n",
    "from llama_parse import LlamaParse\n",
    "from typing import Any\n",
    "import nest_asyncio\n",
    "nest_asyncio.apply()\n",
    "\n",
    "class ResumeParser(BaseTool):\n",
    "    name: str = \"Resume reader\"\n",
    "    description: str = \"Parses a pdf resume file neatly for LLM processing\"\n",
    "    parser: LlamaParse = LlamaParse(\n",
    "        api_key = os.environ[\"LLAMA_CLOUD_API_KEY\"],\n",
    "        use_vendor_multimodal_model=True,\n",
    "        vendor_multimodal_name=\"anthropic-sonnet-3.5\",\n",
    "        result_type=\"markdown\"\n",
    "    )\n",
    "    \n",
    "    def find_resume(self) -> str:\n",
    "        \"\"\"Method to search 2 levels up for resume folder\"\"\"\n",
    "        \n",
    "        __curdir__ = os.getcwd()\n",
    "        depth = 0\n",
    "        resume_dir_path = \"\"\n",
    "        \n",
    "        while (depth<3):    \n",
    "            if \"Resume\" not in os.listdir(__curdir__):\n",
    "                __curdir__ = os.path.abspath(os.path.join(__curdir__, os.path.pardir))\n",
    "                depth += 1\n",
    "            else:\n",
    "                resume_dir_path = os.path.abspath(os.path.join(__curdir__, \"Resume\"))\n",
    "                break\n",
    "        \n",
    "        return resume_dir_path\n",
    "    \n",
    "    def _run(self) -> Dict[str, Any]:\n",
    "        \"\"\"Returns the entire resume in string format.\"\"\"\n",
    "        \n",
    "        file_path = self.find_resume()\n",
    "        resume = os.path.join(\n",
    "            file_path,\n",
    "            os.listdir(file_path)[0]\n",
    "        )\n",
    "        docs = self.parser.load_data(file_path=resume)\n",
    "        return {\n",
    "            \"resume\": \"\\n\\n\".join([doc.text for doc in docs])\n",
    "        }"
   ]
  },
  {
   "cell_type": "markdown",
   "metadata": {},
   "source": [
    "##### Creating LlamaIndex Tavily Tool"
   ]
  },
  {
   "cell_type": "code",
   "execution_count": 10,
   "metadata": {},
   "outputs": [],
   "source": [
    "from crewai_tools import LlamaIndexTool\n",
    "from llama_index.tools.tavily_research import TavilyToolSpec\n",
    "\n",
    "tavily_spec = TavilyToolSpec(api_key=os.environ[\"TAVILY_API_KEY\"])\n",
    "tavily_tool_list = tavily_spec.to_tool_list()\n",
    "tavily_tools = [LlamaIndexTool.from_tool(tool) for tool in tavily_tool_list]"
   ]
  },
  {
   "cell_type": "markdown",
   "metadata": {},
   "source": [
    "#### Creating our Crew, Agents and Tasks"
   ]
  },
  {
   "cell_type": "code",
   "execution_count": 11,
   "metadata": {},
   "outputs": [],
   "source": [
    "profiler_agent = Agent(\n",
    "    config = job_search_agents_config['profiler'],\n",
    "    tools = [ResumeParser()]\n",
    ")\n",
    "recruiter = Agent(\n",
    "    config=job_search_agents_config['recruiter'],\n",
    "    tools = [*tavily_tools] \n",
    ")\n",
    "matcher = Agent(\n",
    "    config = job_search_agents_config['matcher'],\n",
    ")\n",
    "reporter = Agent(\n",
    "    config=job_search_agents_config['reporter'],\n",
    ")"
   ]
  },
  {
   "cell_type": "code",
   "execution_count": 12,
   "metadata": {},
   "outputs": [],
   "source": [
    "profiling_task = Task(\n",
    "    config = job_search_tasks_config['candidate_profiling_task'],\n",
    "    agent = profiler_agent,\n",
    "    output_pydantic = CandidateProfile,\n",
    "    expected_output = \"A clear candidate profile\"\n",
    ")\n",
    "research_task = Task(\n",
    "    config = job_search_tasks_config['research_job_listings_task'],\n",
    "    agent = recruiter,\n",
    "    context = [profiling_task],\n",
    "    output_pydantic = JobListings,\n",
    "    expected_output = \"A list of job listings that fit the candidate profile\"\n",
    ")\n",
    "scoring_task = Task(\n",
    "    config = job_search_tasks_config['match_and_score_listings_task'],\n",
    "    agent = matcher,\n",
    "    context = [research_task, profiling_task],\n",
    "    output_pydantic=ScoredListings,\n",
    "    expected_output = \"A list of top 3 job listings ranked with justification\"\n",
    ")\n",
    "cover_letter_task = Task(\n",
    "    config = job_search_tasks_config['cover_letter_task'],\n",
    "    agent = reporter,\n",
    "    context = [scoring_task, profiling_task],\n",
    "    output_pydantic=CoverLetters,\n",
    "    expected_output=\"A list of cover letters for the top 3 job listings\"\n",
    ")"
   ]
  },
  {
   "cell_type": "code",
   "execution_count": 13,
   "metadata": {},
   "outputs": [
    {
     "name": "stderr",
     "output_type": "stream",
     "text": [
      "2025-01-21 17:41:27,785 - 8342343488 - __init__.py-__init__:537 - WARNING: Overriding of current TracerProvider is not allowed\n"
     ]
    },
    {
     "name": "stdout",
     "output_type": "stream",
     "text": [
      "\u001b[1m\u001b[95m# Agent:\u001b[00m \u001b[1m\u001b[92mLead Human Resource Manager\u001b[00m\n",
      "\u001b[95m## Task:\u001b[00m \u001b[92mAnalyze the candidate's resume to identify their main strengths and qualifications. Highlight the candidate's technical and non-technical abilities to determine their suitability  for specific job roles.\n",
      "\u001b[00m\n",
      "Started parsing the file under job_id b3b6277c-bacc-4086-bb93-0f2a9f8759de\n"
     ]
    },
    {
     "name": "stderr",
     "output_type": "stream",
     "text": [
      "2025-01-21 17:41:36,303 - 8342343488 - __init__.py-__init__:100 - WARNING: Invalid type dict for attribute 'output.value' value. Expected one of ['bool', 'str', 'bytes', 'int', 'float'] or a sequence of those types\n"
     ]
    },
    {
     "name": "stdout",
     "output_type": "stream",
     "text": [
      "\n",
      "\n",
      "\u001b[1m\u001b[95m# Agent:\u001b[00m \u001b[1m\u001b[92mLead Human Resource Manager\u001b[00m\n",
      "\u001b[95m## Using tool:\u001b[00m \u001b[92mResume reader\u001b[00m\n",
      "\u001b[95m## Tool Input:\u001b[00m \u001b[92m\n",
      "\"{\\\"file_path\\\": \\\"path_to_resume.pdf\\\"}\"\u001b[00m\n",
      "\u001b[95m## Tool Output:\u001b[00m \u001b[92m\n",
      "{'resume': \"# LIM HSIEN YONG (“Ttrus”)\\n\\ntituslhy@gmail.com · +65 9092 6178  \\nlinkedin.com/itituslim · github.com/itituslhy · https://itituslim.onrender.com/\\n\\n## EDUCATION\\n\\n### SINGAPORE MANAGEMENT UNIVERSITY  \\n**Master of IT in Business (Artificial Intelligence Track)**  \\nDean’s List, GPA: 3.98 / 4.0  \\n- Awarded the SMU AI Talent Development Grant and SMU MITB Scholarship  \\n*Aug 2021 - Dec 2022*\\n\\n### NATIONAL UNIVERSITY OF SINGAPORE  \\n**Bachelor of Engineering in Chemical Engineering (2nd Upper Honors)**  \\n- Awarded the NUS Undergraduate Scholarship, Barco-Santander Scholarship and IE Singapore Young Talent Program Market Immersion Award  \\n*Aug 2011 - Jul 2015*\\n\\n## EXPERIENCE\\n\\n### Illumina – Singapore  \\n**Senior Data Scientist**  \\n*Jan 2023 – Present*\\n\\n- **Prototyped instance segmentation model** using LandingLens on Snowflake for accurate defect detection in flowcells.\\n- **Prototyped and deployed Siamese network** in a microservices architecture to match flowcell images to templates, reducing Snowflake costs. This project achieved a cost savings of USD 2.6 million in wafer wastage and scrappage.\\n- **Deployed a bespoke Generative BI Assistant application**, enabling users to gain insights using natural language from an internal dashboard application tracking 800+ metrics\\n  - Developed and deployed a state-of-the-art, human-in-the-loop generative BI system as a nested Llamalendex Workflow, utilizing a multi-agent architecture to handle diverse data analysis tasks, including basic queries, correlation analysis, and higher-order reasoning questions.\\n  - Implemented a sophisticated human-in-the-loop design that identifies vague or irrelevant queries, politely declines to answer the latter, and prompts users to refine their questions with helpful suggestions, ensuring accurate and relevant results and a smooth user experience.\\n  - Leveraged Llama Guard using LangChain and LangServe to safeguard the application from harmful queries, demonstrating a strong commitment to responsible AI development.\\n  - Deployed the multi-agent system backend using Llama Deploy with a control plane and a robust message queuing system to ensure reliability when scaling.\\n  - Developed the CoPilot frontend and main web applications using Chainlit, including time travel capabilities for seamless thread continuity and voice input functionality using Azure Speech service and Whisper.\\n  - Implemented robust tracing capabilities using Arize Phoenix and LiteralAI for step-by-step and human feedback tracing, enabling continuous improvement and providing valuable insights into model behaviour.\\n  - Leveraged Qdrant as a vector database to enable agents to answer questions on definitions of acronyms, expanding the system's capabilities and enhancing its user-friendliness.\\n- **Deployed bespoke Retrieval Augmented Generation (RAG) on confidential database**:\\n  - Developed an AI-powered assistant using LLaMA2, leveraging advanced retrieval techniques[^1] for efficient equipment troubleshooting and document comprehension. Line engineers now chat directly with GPT4o-mini in real-time to fix problems in the line, eliminating the need to search and read lengthy guides.\\n- **Face Detection**:\\n  - Developed and deployed a computer vision system[^2] to ensure consistent staff pass photo quality by automatically identifying and rectifying pixelation, face size issues, and blur.\\n- **Graph Analytics**:\\n  - Built knowledge graph web application with Networkx, Snowflake and Streamlit to pinpoint root causes of scrapped flowcell wafers. The applications reduced troubleshooting time by up to 5 man-hours.\\n\\n### CK DELTA – Singapore  \\n**Data Scientist**  \\n*Sep 2022 – Jan 2023*\\n\\n- Validated and enhanced the MRT station platform crowdedness forecasting model’s accuracy, and tightened data engineering workflows to better handle streaming data. Deployed enhanced model on the MyTransportApp.\\n\\n[^1]: These include hypothetical document embeddings, query fusion retrieval, hybrid search, reciprocal reranking, prompt compression, multi-step querying, router querying, corrective RAG and ReAct agent-based RAG.\\n[^2]: HaarCascade classifier, variance of Laplacian, color histogram, contrast classification, pixelation detection, edge detection, etc.\\n\\n# ENERGY MARKET AUTHORITY – Singapore  \\n**Apr 2018 – Aug 2022**\\n\\n### Principal Engineer, Research & Statistics Unit (Apr 2021 – Aug 2022)\\n- Developed and tuned machine learning models (XGBoost, Neural Networks, Ensemble models) using DataRobot to predict future occurrences of power plant trips from plant operational data and system harmonics.\\n\\n### Senior Engineer, Research & Statistics Unit (Apr 2018 – Mar 2021)\\n- Spearheaded development of machine learning models (XGBoost, Random Forest, Anomaly Detection, etc.) with external partners using market bid data to (i) forecast electricity spot prices, and (ii) detect anomalous market behaviour.\\n- Conceptualised and executed the Authority’s data and AI strategy roadmaps with initiatives to comprehensively enhance organisational capabilities and proliferate the use of AI and data to sharpen organisational service delivery.\\n- Developed the national (i) electricity demand and (ii) national town gas demand forecast models using multivariable correlation methods (linear regression, ARIMA). Presented forecast results and methodology to stakeholders (Ministers, Permanent Secretaries, and Senior Management members) across the Public Service. These forecasts were used across the Public Service for planning and climate change policy decision-making.\\n\\n# JOBTECH PTE LTD – Singapore  \\n**Apr 2017 - Aug 2017**\\n\\n### Data Scientist\\n- Coded JobTech’s Skill Extraction Algorithm using NLP techniques (regular expression) to construct skills graphs from the labour market through job descriptions on online job portals. The algorithm was used for a national job scan of Indonesia, with findings published in a report.\\n\\n# TOYOTA TSUSHO ASIA PACIFIC PTE LTD – Singapore  \\n**Jun 2015 - Apr 2017**\\n\\n### Demand and Supply Analyst, Automotive Division\\n- Overhauled formatting of sales planning files to become a centralised automated forecasting tool using VBA coding, and operational research forecasting techniques (exponential smoothing, holt-winters). The tool helped Toyota’s automotive distributors minimise stock overflows and improved accuracy of long-term sales forecasts by about 25%.\\n\\n# SELECTED ACADEMIC PROJECTS\\n\\n### You only edit once (Computer Vision) GitHub Link\\n*You only edit once is a video truncation and image wallpaper extraction tool for leisure divers, who only need to upload their diving videos to the YOEO app. The YOEO application was presented at a Computer Vision application competition and won 3rd place honors. YOEO was also conferred the title of ‘most investable project’ by the panel of judges.*\\n- Developed frame extraction algorithm to sample frames from personal and publicly available diving videos.\\n- Annotated objects of interest (fish, shark, etc.) with bounding boxes using Datuature’s annotation tools.\\n- Finetuned YOLOX and YOLOv5 object detection models. The best model yielded a mAP score of 0.377.\\n- Developed frame filtering algorithm to acquire frames with a sizeable number of objects of interest.\\n- Developed video stitching and audio stitching algorithm to stitch filtered frames into a movie.\\n- Developed wallpaper extraction algorithm. The algorithm selects the best n-frames, and for each frame, increases the percentage of red light, checks and adjusts for image brightness and sharpness, and adds an Instagram filter of choice.\\n- Developed user-friendly application interface using Streamlit to host model for inferences, allow users to upload a video and audio of their choice, specify configurations, and return final truncated video and wallpaper images.\\n\\n### Writing Singapore’s next national day song using AI (Natural Language Processing) GitHub Link\\n*This project aims to write Singapore’s next national day song (lyrics, vocals, melody and harmony) using AI. The project won 3rd place honors for the MITB 15th Anniversary Poster Competition*\\n- **Lyrics generation:** Developed deep learning language models of various architectures (Seq2Seq with attention, LSTM, GRU) for generation of song lyrics. Finetuned pre-trained transformer models such as GPT-2 using Singapore National Day songs to generate song lyrics.\\n- **Sentiment analysis:** Used VADER and GloVE to evaluate sentimentality of song lyrics, and used BLEU and ROUGE metrics to evaluate quality of developed songs. Incorporated sentiment into the loss function of neural networks and experimented with prompt engineering and sentimentality tagging methods to develop sentimental lyrics.\\n- **Melody generation:** Used pretrained AI music generative models to generate melody, harmony and vocals conditioned on song lyrics. The model was trained on lyrics and melody of known singers and songs.\\n- Developed custom loss function to ensure that lyrics generated reflect the sentiment of national day songs.\\n\\n### Developing Singapore’s Coffee Joint Recommendation System using Yelp Data (Recommender Systems) GitHub Link\\n\\n- Developed scraper using BeautifulSoup to scrape reviews of cafes on Yelp.com.\\n- Developed the following recommendation models:\\n  - **Explicit Data Handling:** Matrix Factorization & Weighted Matrix Factorization\\n  - **Multimodal Deep Learning Models:** Convolutional Matrix Factorization, & Collaborative Deep Learning. These models incorporate Convolution Network and Autoencoder aspects on textual reviews with matrix factorization.\\n  - **Context-Aware Models:** Factorization machines to account for context of items and users in recommendation.\\n  - **Explainable Recommendation Models (To factor in explanations as an aspect of recommendation models):**\\n    - Multi-Task Explainable Recommendation – a model operating on the Tucker Decomposition methodology.\\n\\n## Catching AI model backdoors (AI Systems Security) [GitHub Link]\\n*This project aims to discover hidden backdoors maliciously incorporated into AI models to influence results.*\\n- Developed the following algorithms to ascertain backdoored classes in models. The difference in inferencing results arising from these tests prove that a model has a backdoor for several classes.\\n  - **Neural attention distillation:** Finetuned teacher model to train student model to forget backdoors by minimizing mean-squared errors of attention maps on the feature vector and cross entropy loss.\\n  - **Gaussian noising and random neuron switching:** Added noise layer and randomly switched neurons off during finetuning to candidate model to cause it to forget backdoor triggers.\\n  - **Adversarial perturbation tests:** Developed minor perturbations (pixel changes, lighting changes, etc.) that should not change the model’s classification to identify if the model is robust to these perturbations. A backdoored model is sensitive to these perturbations for target classes.\\n- Developed neural cleansing algorithm to reverse engineer backdoors on AI models for validation.\\n\\n## The IoT Pipeline Monitoring System [Published Medium Article Link]\\n- Developed a sensorised IoT liquid pipeline monitoring system to detect pipe leaks in real-time using Python’s paho-mqtt library, gravity water pressure sensors and Arduino microcontrollers. The solution allows for remote monitoring of underground pipeline infrastructure without requiring engineers to be on-site.\\n\\n## CODING COMPETITION RESULTS\\n\\n### Recommender Systems Coding Competition (amongst fellow SMU Masters students in the AI program)\\n*Public Leaderboard Rank: 3rd place, Private Leaderboard Rank: 3rd place (user_id: hy.lin, competition page)*\\n- Developed a recommender system using gradient convolution network algorithms from anonymized user rating data.\\n\\n### Food Image Classification Competition (amongst fellow SMU Masters students in the AI program)\\n*Final Ranking: 1st place, no competition link*\\n- Developed and optimized convolution neural network models with convolution and fully-connected layers.\\n- Designed custom cross-entropy function to penalize some misclassifications more than others, ensuring that the consequences of misclassifications are minimized.\\n- The final model yielded a classification accuracy of 74.5% on unseen data.\\n\\n## ADDITIONAL INFORMATION\\n\\n- **Technology Stack:**\\n  - Programming Languages: Python (primary), R, C#, VBA, MATLAB\\n  - Databases: SQL, MongoDB, Neo4j, TigerGraph, Redis\\n  - Programming Tools: Tableau, SAS Enterprise Guide, SAS Visual Analytics, DataRobot\\n  - Cloud Platforms: AWS, Google Cloud Platform, Microsoft Azure, Snowflake, Cloudera\\n  - Linux: RedHat\\n\\n- **Open-source Contributions:**\\n  - Fixed a code bug in the LlamaIndex python library’s Gmail Tool. This patch was accepted and merged.\"}\u001b[00m\n",
      "\n",
      "\n",
      "\u001b[1m\u001b[95m# Agent:\u001b[00m \u001b[1m\u001b[92mLead Human Resource Manager\u001b[00m\n",
      "\u001b[95m## Final Answer:\u001b[00m \u001b[92m\n",
      "{\n",
      "  \"name\": \"Lim Hsien Yong\",\n",
      "  \"highest_qualification\": \"Master of IT in Business (Artificial Intelligence Track)\",\n",
      "  \"field_of_study\": \"Information Technology and Business\",\n",
      "  \"institution_of_study\": \"Singapore Management University\",\n",
      "  \"technical_skills\": [\n",
      "    \"Machine Learning\",\n",
      "    \"Deep Learning\",\n",
      "    \"Natural Language Processing\",\n",
      "    \"Computer Vision\",\n",
      "    \"Data Analytics\",\n",
      "    \"Python\",\n",
      "    \"SQL\",\n",
      "    \"AWS\",\n",
      "    \"Google Cloud Platform\",\n",
      "    \"Azure\",\n",
      "    \"Tableau\",\n",
      "    \"Snowflake\"\n",
      "  ],\n",
      "  \"non_technical_skills\": [\n",
      "    \"Project Management\",\n",
      "    \"Public Speaking\",\n",
      "    \"Data Strategy Development\",\n",
      "    \"Stakeholder Engagement\",\n",
      "    \"Team Leadership\",\n",
      "    \"Analytical Thinking\",\n",
      "    \"Problem Solving\",\n",
      "    \"Communication\"\n",
      "  ],\n",
      "  \"years_of_experience\": 8,\n",
      "  \"current_job_title\": \"Senior Data Scientist\",\n",
      "  \"work_experiences\": [\n",
      "    {\n",
      "      \"project_title\": \"Defect Detection Model for Flowcells\",\n",
      "      \"summary_of_experience\": \"Prototyped an instance segmentation model for precise detection and classification of defects, significantly reducing costs and improving monitoring capabilities.\",\n",
      "      \"skills_exhibited\": [\"Machine Learning\", \"Computer Vision\", \"Data Engineering\", \"Prototyping\"]\n",
      "    },\n",
      "    {\n",
      "      \"project_title\": \"Generative BI Assistant Application\",\n",
      "      \"summary_of_experience\": \"Developed and deployed a generative business intelligence application that processes natural language queries to extract insights from a complex dataset.\",\n",
      "      \"skills_exhibited\": [\"Natural Language Processing\", \"AI Development\", \"Microservices Architecture\", \"User Experience Design\"]\n",
      "    },\n",
      "    {\n",
      "      \"project_title\": \"AI-powered Assistant for Equipment Troubleshooting\",\n",
      "      \"summary_of_experience\": \"Created an AI assistant to troubleshoot equipment in real-time using advanced retrieval techniques, improving efficiency for line engineers.\",\n",
      "      \"skills_exhibited\": [\"Artificial Intelligence\", \"Data Retrieval\", \"Real-time Application Development\"]\n",
      "    },\n",
      "    {\n",
      "      \"project_title\": \"Electricity Demand Forecasting Model\",\n",
      "      \"summary_of_experience\": \"Led the development of national forecasting models to predict electricity demand, influencing policy-making and planning.\",\n",
      "      \"skills_exhibited\": [\"Predictive Analytics\", \"Data Modelling\", \"Statistical Analysis\"]\n",
      "    },\n",
      "    {\n",
      "      \"project_title\": \"JobTech Skill Extraction Algorithm\",\n",
      "      \"summary_of_experience\": \"Developed a Natural Language Processing algorithm for skill extraction from job descriptions, contributing to a national job scan project.\",\n",
      "      \"skills_exhibited\": [\"NLP\", \"Data Analysis\", \"Project Implementation\"]\n",
      "    }\n",
      "  ]\n",
      "}\u001b[00m\n",
      "\n",
      "\n"
     ]
    },
    {
     "name": "stderr",
     "output_type": "stream",
     "text": [
      "2025-01-21 17:42:08,602 - 8342343488 - __init__.py-__init__:100 - WARNING: Invalid type TaskOutput for attribute 'output.value' value. Expected one of ['bool', 'str', 'bytes', 'int', 'float'] or a sequence of those types\n"
     ]
    },
    {
     "name": "stdout",
     "output_type": "stream",
     "text": [
      "\u001b[1m\u001b[95m# Agent:\u001b[00m \u001b[1m\u001b[92mJob Openings Researcher\u001b[00m\n",
      "\u001b[95m## Task:\u001b[00m \u001b[92mConduct thorough research to find potential job listings for the candidate. Utilize various online resources and databases to gather a comprehensive list of potential listings. Ensure that the candidates meet the job requirements provided.\n",
      "\u001b[00m\n"
     ]
    },
    {
     "name": "stderr",
     "output_type": "stream",
     "text": [
      "2025-01-21 17:42:13,714 - 8342343488 - __init__.py-__init__:100 - WARNING: Invalid type ToolOutput for attribute 'output.value' value. Expected one of ['bool', 'str', 'bytes', 'int', 'float'] or a sequence of those types\n"
     ]
    },
    {
     "name": "stdout",
     "output_type": "stream",
     "text": [
      "\n",
      "\n",
      "\u001b[1m\u001b[95m# Agent:\u001b[00m \u001b[1m\u001b[92mJob Openings Researcher\u001b[00m\n",
      "\u001b[95m## Thought:\u001b[00m \u001b[92mI need to search for job listings that fit the candidate profile of Lim Hsien Yong, who is a Senior Data Scientist with extensive experience in machine learning, AI, and data analytics.\u001b[00m\n",
      "\u001b[95m## Using tool:\u001b[00m \u001b[92msearch\u001b[00m\n",
      "\u001b[95m## Tool Input:\u001b[00m \u001b[92m\n",
      "\"{\\\"query\\\": \\\"Senior Data Scientist jobs with a focus on machine learning, AI, and data analytics\\\", \\\"max_results\\\": 6}\"\u001b[00m\n",
      "\u001b[95m## Tool Output:\u001b[00m \u001b[92m\n",
      "[Document(id_='a91cf7f6-be30-4a1d-8b70-bf6b273640f9', embedding=None, metadata={'url': 'https://www.indeed.com/q-senior-data-scientist-ml-ai-jobs.html'}, excluded_embed_metadata_keys=[], excluded_llm_metadata_keys=[], relationships={}, metadata_template='{key}: {value}', metadata_separator='\\n', text_resource=MediaResource(embeddings=None, data=None, text='234 Senior Data Scientist Ml Ai jobs available on Indeed.com. Apply to Senior Data Scientist, Senior Ai/ml Engineer, Ai/ml Engineer and more! ... Conduct cutting-edge research in Generative AI and Machine Learning, with a focus on ... data analytics, and reporting AND Data Science Professional Certificate or relevant subject matter equivalent', path=None, url=None, mimetype=None), image_resource=None, audio_resource=None, video_resource=None, text_template='{metadata_str}\\n\\n{content}'), Document(id_='282a1f38-85d6-4ce4-a8b2-e090f624365b', embedding=None, metadata={'url': 'https://www.indeed.com/q-Senior-Data-Scientist-jobs.html'}, excluded_embed_metadata_keys=[], excluded_llm_metadata_keys=[], relationships={}, metadata_template='{key}: {value}', metadata_separator='\\n', text_resource=MediaResource(embeddings=None, data=None, text='The Senior Data Scientist plays a critical role in leading analytical projects and developing advanced models that solve complex business challenges. Candidates should bring 5-10 years of experience in data science, with deep expertise in statistical analysis, machine learning, and big data technologies.', path=None, url=None, mimetype=None), image_resource=None, audio_resource=None, video_resource=None, text_template='{metadata_str}\\n\\n{content}'), Document(id_='6c77426c-1f70-4517-b9a3-c4474ee42dca', embedding=None, metadata={'url': 'https://www.indeed.com/q-Senior-Data-Science-jobs.html'}, excluded_embed_metadata_keys=[], excluded_llm_metadata_keys=[], relationships={}, metadata_template='{key}: {value}', metadata_separator='\\n', text_resource=MediaResource(embeddings=None, data=None, text='5,647 Senior Data Science jobs available on Indeed.com. Apply to Director of Data Science, Data Science Manager, Senior Data Scientist and more! ... Data Science & Machine Learning: ... with a solid understanding of retailer processes, including merchandising, inventory, and promotional analytics. Technical Skills: Advanced proficiency in Excel', path=None, url=None, mimetype=None), image_resource=None, audio_resource=None, video_resource=None, text_template='{metadata_str}\\n\\n{content}'), Document(id_='6172d488-ccf8-44cb-8de7-2d1e7489c522', embedding=None, metadata={'url': 'https://builtin.com/jobs/data-analytics/senior/artificial-intelligence'}, excluded_embed_metadata_keys=[], excluded_llm_metadata_keys=[], relationships={}, metadata_template='{key}: {value}', metadata_separator='\\n', text_resource=MediaResource(embeddings=None, data=None, text=\"Search the best Senior Level Artificial Intelligence Data & Analytics Jobs from top companies & startups. New jobs added daily. ... Additionally, you'll innovate using AI and machine learning techniques to solve business challenges. Top Benefits: 401-K. 401-K Matching. Adoption Assistance +54 More. ... Senior Data Science Jobs. Senior Machine\", path=None, url=None, mimetype=None), image_resource=None, audio_resource=None, video_resource=None, text_template='{metadata_str}\\n\\n{content}'), Document(id_='b97941ea-e720-4ff9-b9ba-0ec1fdf13f41', embedding=None, metadata={'url': 'https://careers.teradata.com/jobs/218466/senior-data-scientist'}, excluded_embed_metadata_keys=[], excluded_llm_metadata_keys=[], relationships={}, metadata_template='{key}: {value}', metadata_separator='\\n', text_resource=MediaResource(embeddings=None, data=None, text=\"2 years of work experience using analytics to solve product or business problems, performing statistical analysis, and coding (e.g., Python, R, SQL). What You'll Bring. PhD or Master's in Computer Science, Data Science, Machine Learning, or a related field, with focus on GenAI, RAG, vector database, and AI Agents.\", path=None, url=None, mimetype=None), image_resource=None, audio_resource=None, video_resource=None, text_template='{metadata_str}\\n\\n{content}'), Document(id_='71e2642a-5818-4c71-be38-743f33c7b3f9', embedding=None, metadata={'url': 'https://www.linkedin.com/jobs/senior-data-scientist-machine-learning-jobs'}, excluded_embed_metadata_keys=[], excluded_llm_metadata_keys=[], relationships={}, metadata_template='{key}: {value}', metadata_separator='\\n', text_resource=MediaResource(embeddings=None, data=None, text=\"Today's top 4,000+ Senior Data Scientist Machine Learning jobs in United States. Leverage your professional network, and get hired. New Senior Data Scientist Machine Learning jobs added daily.\", path=None, url=None, mimetype=None), image_resource=None, audio_resource=None, video_resource=None, text_template='{metadata_str}\\n\\n{content}')]\u001b[00m\n"
     ]
    },
    {
     "name": "stderr",
     "output_type": "stream",
     "text": [
      "2025-01-21 17:42:39,808 - 8342343488 - __init__.py-__init__:100 - WARNING: Invalid type TaskOutput for attribute 'output.value' value. Expected one of ['bool', 'str', 'bytes', 'int', 'float'] or a sequence of those types\n"
     ]
    },
    {
     "name": "stdout",
     "output_type": "stream",
     "text": [
      "\n",
      "\n",
      "\u001b[1m\u001b[95m# Agent:\u001b[00m \u001b[1m\u001b[92mJob Openings Researcher\u001b[00m\n",
      "\u001b[95m## Final Answer:\u001b[00m \u001b[92m\n",
      "{\n",
      "  \"job_listings\": [\n",
      "    {\n",
      "      \"company_name\": \"Indeed\",\n",
      "      \"job_title\": \"Senior Data Scientist\",\n",
      "      \"job_description\": \"The Senior Data Scientist plays a critical role in leading analytical projects and developing advanced models that solve complex business challenges. Candidates should bring 5-10 years of experience in data science, with deep expertise in statistical analysis, machine learning, and big data technologies.\",\n",
      "      \"required_technical_skills\": [\"Machine Learning\", \"Statistical Analysis\", \"Big Data Technologies\"],\n",
      "      \"required_non_technical_skills\": [\"Project Management\", \"Analytical Thinking\", \"Problem Solving\"],\n",
      "      \"years_of_experience_required\": 5,\n",
      "      \"reason_for_candidate_fit\": \"Lim has 8 years of experience as a Senior Data Scientist, with expertise in machine learning and analytical projects.\"\n",
      "    },\n",
      "    {\n",
      "      \"company_name\": \"LinkedIn\",\n",
      "      \"job_title\": \"Senior Data Scientist - Machine Learning\",\n",
      "      \"job_description\": \"Today's top 4,000+ Senior Data Scientist Machine Learning jobs in the United States. Leverage your professional network, and get hired. New Senior Data Scientist Machine Learning jobs added daily.\",\n",
      "      \"required_technical_skills\": [\"Machine Learning\", \"Data Analysis\", \"Python\"],\n",
      "      \"required_non_technical_skills\": [\"Communication\", \"Stakeholder Engagement\"],\n",
      "      \"years_of_experience_required\": 6,\n",
      "      \"reason_for_candidate_fit\": \"With strong Python skills and focus on machine learning, Lim meets the requirements effectively.\"\n",
      "    },\n",
      "    {\n",
      "      \"company_name\": \"Teradata\",\n",
      "      \"job_title\": \"Senior Data Scientist\",\n",
      "      \"job_description\": \"2 years of work experience using analytics to solve product or business problems, performing statistical analysis, and coding (e.g., Python, R, SQL). What You'll Bring: PhD or Master's in Computer Science, Data Science, Machine Learning, or a related field, with focus on GenAI, RAG, vector database, and AI Agents.\",\n",
      "      \"required_technical_skills\": [\"Python\", \"R\", \"SQL\", \"Machine Learning\"],\n",
      "      \"required_non_technical_skills\": [\"Problem Solving\", \"Analytical Thinking\"],\n",
      "      \"years_of_experience_required\": 2,\n",
      "      \"reason_for_candidate_fit\": \"Lim's Master's degree and extensive experience in data science and machine learning make him an excellent candidate.\"\n",
      "    },\n",
      "    {\n",
      "      \"company_name\": \"Built In\",\n",
      "      \"job_title\": \"Senior Artificial Intelligence Data & Analytics\",\n",
      "      \"job_description\": \"Search the best Senior Level Artificial Intelligence Data & Analytics Jobs from top companies & startups. You'll innovate using AI and machine learning techniques to solve business challenges.\",\n",
      "      \"required_technical_skills\": [\"AI\", \"Machine Learning\", \"Data Analytics\"],\n",
      "      \"required_non_technical_skills\": [\"Team Leadership\", \"Communication\"],\n",
      "      \"years_of_experience_required\": 5,\n",
      "      \"reason_for_candidate_fit\": \"Lim has significant experience in AI applications and leadership roles in data science.\"\n",
      "    },\n",
      "    {\n",
      "      \"company_name\": \"Indeed\",\n",
      "      \"job_title\": \"Senior Data Scientist ML AI\",\n",
      "      \"job_description\": \"Conduct cutting-edge research in Generative AI and Machine Learning. Require strong skills in data analytics and reporting.\",\n",
      "      \"required_technical_skills\": [\"Generative AI\", \"Machine Learning\", \"Data Analytics\"],\n",
      "      \"required_non_technical_skills\": [\"Project Management\", \"Public Speaking\"],\n",
      "      \"years_of_experience_required\": 5,\n",
      "      \"reason_for_candidate_fit\": \"Lim's background in AI and machine learning aligns perfectly with the job focus.\"\n",
      "    }\n",
      "  ]\n",
      "}\u001b[00m\n",
      "\n",
      "\n",
      "\u001b[1m\u001b[95m# Agent:\u001b[00m \u001b[1m\u001b[92mJob Listings matcher and scorer\u001b[00m\n",
      "\u001b[95m## Task:\u001b[00m \u001b[92mEvaluate and match the job listings to the candidate based on their qualifications and suitability. Score each job listing to reflect their alignment with the candidate's profile, ensuring a fair  and transparent assessment process.\n",
      "\u001b[00m\n"
     ]
    },
    {
     "name": "stderr",
     "output_type": "stream",
     "text": [
      "2025-01-21 17:42:49,914 - 8342343488 - __init__.py-__init__:100 - WARNING: Invalid type TaskOutput for attribute 'output.value' value. Expected one of ['bool', 'str', 'bytes', 'int', 'float'] or a sequence of those types\n"
     ]
    },
    {
     "name": "stdout",
     "output_type": "stream",
     "text": [
      "\n",
      "\n",
      "\u001b[1m\u001b[95m# Agent:\u001b[00m \u001b[1m\u001b[92mJob Listings matcher and scorer\u001b[00m\n",
      "\u001b[95m## Final Answer:\u001b[00m \u001b[92m\n",
      "{\n",
      "  \"scored_listings\": [\n",
      "    {\n",
      "      \"job_listing\": {\n",
      "        \"company_name\": \"Indeed\",\n",
      "        \"job_title\": \"Senior Data Scientist\",\n",
      "        \"job_description\": \"The Senior Data Scientist plays a critical role in leading analytical projects and developing advanced models that solve complex business challenges. Candidates should bring 5-10 years of experience in data science, with deep expertise in statistical analysis, machine learning, and big data technologies.\",\n",
      "        \"required_technical_skills\": [\"Machine Learning\", \"Statistical Analysis\", \"Big Data Technologies\"],\n",
      "        \"required_non_technical_skills\": [\"Project Management\", \"Analytical Thinking\", \"Problem Solving\"],\n",
      "        \"years_of_experience_required\": 5,\n",
      "        \"reason_for_candidate_fit\": \"Lim has 8 years of experience as a Senior Data Scientist, with expertise in machine learning and analytical projects.\"\n",
      "      },\n",
      "      \"score\": 9.5,\n",
      "      \"justfication\": \"Lim's extensive experience in data science, particularly in machine learning and statistical analysis, aligns perfectly with the job requirements. His leadership in analytical projects further enhances his fit for the position.\"\n",
      "    },\n",
      "    {\n",
      "      \"job_listing\": {\n",
      "        \"company_name\": \"Indeed\",\n",
      "        \"job_title\": \"Senior Data Scientist ML AI\",\n",
      "        \"job_description\": \"Conduct cutting-edge research in Generative AI and Machine Learning. Require strong skills in data analytics and reporting.\",\n",
      "        \"required_technical_skills\": [\"Generative AI\", \"Machine Learning\", \"Data Analytics\"],\n",
      "        \"required_non_technical_skills\": [\"Project Management\", \"Public Speaking\"],\n",
      "        \"years_of_experience_required\": 5,\n",
      "        \"reason_for_candidate_fit\": \"Lim's background in AI and machine learning aligns perfectly with the job focus.\"\n",
      "      },\n",
      "      \"score\": 9.2,\n",
      "      \"justfication\": \"Lim’s strong expertise in generative AI and machine learning, combined with leadership and public speaking skills, makes this position a great match. His direct experience in related projects is a strong point.\"\n",
      "    },\n",
      "    {\n",
      "      \"job_listing\": {\n",
      "        \"company_name\": \"LinkedIn\",\n",
      "        \"job_title\": \"Senior Data Scientist - Machine Learning\",\n",
      "        \"job_description\": \"Today's top 4,000+ Senior Data Scientist Machine Learning jobs in the United States. Leverage your professional network, and get hired. New Senior Data Scientist Machine Learning jobs added daily.\",\n",
      "        \"required_technical_skills\": [\"Machine Learning\", \"Data Analysis\", \"Python\"],\n",
      "        \"required_non_technical_skills\": [\"Communication\", \"Stakeholder Engagement\"],\n",
      "        \"years_of_experience_required\": 6,\n",
      "        \"reason_for_candidate_fit\": \"With strong Python skills and focus on machine learning, Lim meets the requirements effectively.\"\n",
      "      },\n",
      "      \"score\": 8.8,\n",
      "      \"justfication\": \"Lim has a solid foundation in Python and machine learning. While he meets the experience requirement, the lack of specific emphasis on leadership in data-driven environments slightly reduces the overall fit compared to higher-ranked positions.\"\n",
      "    }\n",
      "  ]\n",
      "}\u001b[00m\n",
      "\n",
      "\n",
      "\u001b[1m\u001b[95m# Agent:\u001b[00m \u001b[1m\u001b[92mCover Letter Writing Specialist\u001b[00m\n",
      "\u001b[95m## Task:\u001b[00m \u001b[92mWrite a compelling cover letter for the candidate for the top job description. The cover letter must be crisp and elegantly written, giving the employers good reasons on the candidate's fit to the role.\n",
      "\u001b[00m\n"
     ]
    },
    {
     "name": "stderr",
     "output_type": "stream",
     "text": [
      "2025-01-21 17:43:15,114 - 8342343488 - __init__.py-__init__:100 - WARNING: Invalid type TaskOutput for attribute 'output.value' value. Expected one of ['bool', 'str', 'bytes', 'int', 'float'] or a sequence of those types\n"
     ]
    },
    {
     "name": "stdout",
     "output_type": "stream",
     "text": [
      "\n",
      "\n",
      "\u001b[1m\u001b[95m# Agent:\u001b[00m \u001b[1m\u001b[92mCover Letter Writing Specialist\u001b[00m\n",
      "\u001b[95m## Final Answer:\u001b[00m \u001b[92m\n",
      "{\n",
      "  \"cover_letters\": [\n",
      "    {\n",
      "      \"scored_listing\": {\n",
      "        \"job_listing\": {\n",
      "          \"company_name\": \"Indeed\",\n",
      "          \"job_title\": \"Senior Data Scientist\",\n",
      "          \"job_description\": \"The Senior Data Scientist plays a critical role in leading analytical projects and developing advanced models that solve complex business challenges. Candidates should bring 5-10 years of experience in data science, with deep expertise in statistical analysis, machine learning, and big data technologies.\",\n",
      "          \"required_technical_skills\": [\"Machine Learning\", \"Statistical Analysis\", \"Big Data Technologies\"],\n",
      "          \"required_non_technical_skills\": [\"Project Management\", \"Analytical Thinking\", \"Problem Solving\"],\n",
      "          \"years_of_experience_required\": 5,\n",
      "          \"reason_for_candidate_fit\": \"Lim has 8 years of experience as a Senior Data Scientist, with expertise in machine learning and analytical projects.\"\n",
      "        },\n",
      "        \"score\": 9.5,\n",
      "        \"justfication\": \"Lim's extensive experience in data science, particularly in machine learning and statistical analysis, aligns perfectly with the job requirements. His leadership in analytical projects further enhances his fit for the position.\"\n",
      "      },\n",
      "      \"cover_letter\": \"Dear Hiring Manager,\\n\\nI am writing to express my interest in the Senior Data Scientist position at Indeed. With over eight years of experience in data science, I have developed a robust skill set that aligns seamlessly with the requirements of this role. My extensive expertise in machine learning and statistical analysis has enabled me to lead successful analytical projects that tackle complex business challenges. \\n\\nIn my current role as a Senior Data Scientist, I have pioneered advanced models that not only drive business insights but also enhance operational efficiencies. One such project involved leading an initiative to create a national forecasting model that significantly influenced policy-making and resource planning. My technical proficiency, paired with strong project management and analytical thinking skills, ensures that I can contribute effectively to your team.\\n\\nFurthermore, I believe in a collaborative approach to problem-solving, which has resulted in productive interactions across interdisciplinary teams. I am eager to bring my background in big data technologies, machine learning, and my passion for continuous learning to Indeed. I look forward to discussing how my experience can help support the ambitious projects at your organization.\\n\\nThank you for considering my application. I am excited about the opportunity to contribute to Indeed and look forward to your positive response.\\n\\nSincerely,\\nLim Hsien Yong\"\n",
      "    },\n",
      "    {\n",
      "      \"scored_listing\": {\n",
      "        \"job_listing\": {\n",
      "          \"company_name\": \"Indeed\",\n",
      "          \"job_title\": \"Senior Data Scientist ML AI\",\n",
      "          \"job_description\": \"Conduct cutting-edge research in Generative AI and Machine Learning. Require strong skills in data analytics and reporting.\",\n",
      "          \"required_technical_skills\": [\"Generative AI\", \"Machine Learning\", \"Data Analytics\"],\n",
      "          \"required_non_technical_skills\": [\"Project Management\", \"Public Speaking\"],\n",
      "          \"years_of_experience_required\": 5,\n",
      "          \"reason_for_candidate_fit\": \"Lim's background in AI and machine learning aligns perfectly with the job focus.\"\n",
      "        },\n",
      "        \"score\": 9.2,\n",
      "        \"justfication\": \"Lim’s strong expertise in generative AI and machine learning, combined with leadership and public speaking skills, makes this position a great match. His direct experience in related projects is a strong point.\"\n",
      "      },\n",
      "      \"cover_letter\": \"Dear Hiring Manager,\\n\\nI am thrilled to apply for the Senior Data Scientist ML AI position at Indeed. With eight years of dedicated experience in data science and a strong foundation in generative AI and machine learning, I am confident in my ability to contribute to your cutting-edge projects.\\n\\nDuring my career, I successfully developed and deployed a Generative BI Assistant Application that allows users to extract valuable insights from complex datasets using natural language queries. This experience not only honed my technical skills but also enhanced my abilities in project management and public speaking, crucial for presenting research outcomes effectively.\\n\\nMoreover, my passion for advancing AI technologies aligns perfectly with Indeed’s mission of driving innovation. I believe that my strong analytical skills combined with my strategic thinking can significantly benefit your team and the broader objectives of the organization. I look forward to the opportunity to discuss how I can contribute to your projects at Indeed.\\n\\nThank you for your time and consideration.\\n\\nSincerely,\\nLim Hsien Yong\"\n",
      "    },\n",
      "    {\n",
      "      \"scored_listing\": {\n",
      "        \"job_listing\": {\n",
      "          \"company_name\": \"LinkedIn\",\n",
      "          \"job_title\": \"Senior Data Scientist - Machine Learning\",\n",
      "          \"job_description\": \"Today's top 4,000+ Senior Data Scientist Machine Learning jobs in the United States. Leverage your professional network, and get hired. New Senior Data Scientist Machine Learning jobs added daily.\",\n",
      "          \"required_technical_skills\": [\"Machine Learning\", \"Data Analysis\", \"Python\"],\n",
      "          \"required_non_technical_skills\": [\"Communication\", \"Stakeholder Engagement\"],\n",
      "          \"years_of_experience_required\": 6,\n",
      "          \"reason_for_candidate_fit\": \"With strong Python skills and focus on machine learning, Lim meets the requirements effectively.\"\n",
      "        },\n",
      "        \"score\": 8.8,\n",
      "        \"justfication\": \"Lim has a solid foundation in Python and machine learning. While he meets the experience requirement, the lack of specific emphasis on leadership in data-driven environments slightly reduces the overall fit compared to higher-ranked positions.\"\n",
      "      },\n",
      "      \"cover_letter\": \"Dear Hiring Manager,\\n\\nI am excited to apply for the Senior Data Scientist - Machine Learning position at LinkedIn. Holding a Master’s in IT with a specialization in Artificial Intelligence and possessing over eight years of experience in the field, I am well-prepared to take on this role.\\n\\nMy journey in data science has equipped me with robust skills in machine learning, data analysis, and Python programming. For instance, I worked on developing a defect detection model that leveraged advanced machine learning techniques to enhance operational outputs significantly. My commitment to clear communication and strong stakeholder engagement ensures that project objectives are met while fostering collaborative environments.\\n\\nI am particularly attracted to this position at LinkedIn as it enables leveraging my network and sharing insights that can ripple through an innovative platform. I am looking forward to discussing how my expertise can contribute to your team’s success.\\n\\nThank you for considering my application. I look forward to the opportunity to further discuss this exciting role.\\n\\nSincerely,\\nLim Hsien Yong\"\n",
      "    }\n",
      "  ]\n",
      "}\u001b[00m\n",
      "\n",
      "\n"
     ]
    }
   ],
   "source": [
    "job_crew = Crew(\n",
    "    agents = [\n",
    "        profiler_agent,\n",
    "        recruiter,\n",
    "        matcher,\n",
    "        reporter\n",
    "    ],\n",
    "    tasks = [\n",
    "        profiling_task,\n",
    "        research_task,\n",
    "        scoring_task,\n",
    "        cover_letter_task\n",
    "    ],\n",
    "    verbose = True,\n",
    ")\n",
    "\n",
    "results = job_crew.kickoff()"
   ]
  },
  {
   "cell_type": "code",
   "execution_count": 14,
   "metadata": {},
   "outputs": [
    {
     "data": {
      "text/markdown": [
       "Dear Hiring Manager,\n",
       "\n",
       "I am writing to express my interest in the Senior Data Scientist position at Indeed. With over eight years of experience in data science, I have developed a robust skill set that aligns seamlessly with the requirements of this role. My extensive expertise in machine learning and statistical analysis has enabled me to lead successful analytical projects that tackle complex business challenges. \n",
       "\n",
       "In my current role as a Senior Data Scientist, I have pioneered advanced models that not only drive business insights but also enhance operational efficiencies. One such project involved leading an initiative to create a national forecasting model that significantly influenced policy-making and resource planning. My technical proficiency, paired with strong project management and analytical thinking skills, ensures that I can contribute effectively to your team.\n",
       "\n",
       "Furthermore, I believe in a collaborative approach to problem-solving, which has resulted in productive interactions across interdisciplinary teams. I am eager to bring my background in big data technologies, machine learning, and my passion for continuous learning to Indeed. I look forward to discussing how my experience can help support the ambitious projects at your organization.\n",
       "\n",
       "Thank you for considering my application. I am excited about the opportunity to contribute to Indeed and look forward to your positive response.\n",
       "\n",
       "Sincerely,\n",
       "Lim Hsien Yong"
      ],
      "text/plain": [
       "<IPython.core.display.Markdown object>"
      ]
     },
     "metadata": {},
     "output_type": "display_data"
    }
   ],
   "source": [
    "from IPython.display import display, Markdown\n",
    "\n",
    "display(Markdown(results.pydantic.cover_letters[0].cover_letter))"
   ]
  },
  {
   "cell_type": "code",
   "execution_count": 15,
   "metadata": {},
   "outputs": [
    {
     "name": "stdout",
     "output_type": "stream",
     "text": [
      "Total costs: $0.0033\n"
     ]
    },
    {
     "name": "stderr",
     "output_type": "stream",
     "text": [
      "/var/folders/zb/r15p7t_d62d8m2s0623s22gh0000gn/T/ipykernel_16772/1113274036.py:7: PydanticDeprecatedSince20: The `dict` method is deprecated; use `model_dump` instead. Deprecated in Pydantic V2.0 to be removed in V3.0. See Pydantic V2 Migration Guide at https://errors.pydantic.dev/2.10/migration/\n",
      "  df_usage_metrics = pd.DataFrame([job_crew.usage_metrics.dict()])\n"
     ]
    },
    {
     "data": {
      "text/html": [
       "<div>\n",
       "<style scoped>\n",
       "    .dataframe tbody tr th:only-of-type {\n",
       "        vertical-align: middle;\n",
       "    }\n",
       "\n",
       "    .dataframe tbody tr th {\n",
       "        vertical-align: top;\n",
       "    }\n",
       "\n",
       "    .dataframe thead th {\n",
       "        text-align: right;\n",
       "    }\n",
       "</style>\n",
       "<table border=\"1\" class=\"dataframe\">\n",
       "  <thead>\n",
       "    <tr style=\"text-align: right;\">\n",
       "      <th></th>\n",
       "      <th>total_tokens</th>\n",
       "      <th>prompt_tokens</th>\n",
       "      <th>cached_prompt_tokens</th>\n",
       "      <th>completion_tokens</th>\n",
       "      <th>successful_requests</th>\n",
       "    </tr>\n",
       "  </thead>\n",
       "  <tbody>\n",
       "    <tr>\n",
       "      <th>0</th>\n",
       "      <td>22186</td>\n",
       "      <td>16978</td>\n",
       "      <td>6144</td>\n",
       "      <td>5208</td>\n",
       "      <td>9</td>\n",
       "    </tr>\n",
       "  </tbody>\n",
       "</table>\n",
       "</div>"
      ],
      "text/plain": [
       "   total_tokens  prompt_tokens  cached_prompt_tokens  completion_tokens  \\\n",
       "0         22186          16978                  6144               5208   \n",
       "\n",
       "   successful_requests  \n",
       "0                    9  "
      ]
     },
     "execution_count": 15,
     "metadata": {},
     "output_type": "execute_result"
    }
   ],
   "source": [
    "import pandas as pd\n",
    "\n",
    "costs = 0.150 * (job_crew.usage_metrics.prompt_tokens + job_crew.usage_metrics.completion_tokens) / 1_000_000\n",
    "print(f\"Total costs: ${costs:.4f}\")\n",
    "\n",
    "# Convert UsageMetrics instance to a DataFrame\n",
    "df_usage_metrics = pd.DataFrame([job_crew.usage_metrics.dict()])\n",
    "df_usage_metrics"
   ]
  },
  {
   "cell_type": "markdown",
   "metadata": {},
   "source": [
    "## This is not the end though!\n",
    "\n",
    "Clearly we can do more with the cover letter!"
   ]
  },
  {
   "cell_type": "code",
   "execution_count": null,
   "metadata": {},
   "outputs": [],
   "source": []
  }
 ],
 "metadata": {
  "kernelspec": {
   "display_name": "crewai",
   "language": "python",
   "name": "python3"
  },
  "language_info": {
   "codemirror_mode": {
    "name": "ipython",
    "version": 3
   },
   "file_extension": ".py",
   "mimetype": "text/x-python",
   "name": "python",
   "nbconvert_exporter": "python",
   "pygments_lexer": "ipython3",
   "version": "3.11.10"
  },
  "orig_nbformat": 4,
  "vscode": {
   "interpreter": {
    "hash": "4709386691dc0daafce17a81a6dfb5e1bb4ca444089e5ad90185535ed7bb90ea"
   }
  }
 },
 "nbformat": 4,
 "nbformat_minor": 2
}
