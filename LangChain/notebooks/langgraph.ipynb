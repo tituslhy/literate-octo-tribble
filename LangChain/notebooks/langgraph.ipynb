{
 "cells": [
  {
   "cell_type": "code",
   "execution_count": 1,
   "metadata": {},
   "outputs": [],
   "source": [
    "%%capture --no-stderr\n",
    "%load_ext autoreload\n",
    "%autoreload 2"
   ]
  },
  {
   "cell_type": "code",
   "execution_count": 2,
   "metadata": {},
   "outputs": [],
   "source": [
    "import os\n",
    "from dotenv import load_dotenv, find_dotenv\n",
    "_ = load_dotenv(find_dotenv())"
   ]
  },
  {
   "cell_type": "code",
   "execution_count": 3,
   "metadata": {},
   "outputs": [],
   "source": [
    "from langchain_openai import ChatOpenAI\n",
    "from langchain_community.tools.tavily_search import TavilySearchResults\n",
    "from langchain_experimental.tools import PythonREPLTool\n",
    "from typing import Annotated, Literal"
   ]
  },
  {
   "cell_type": "code",
   "execution_count": 4,
   "metadata": {},
   "outputs": [],
   "source": [
    "llm = ChatOpenAI(\n",
    "    model=\"gpt-4o-mini\",\n",
    "    temperature=0\n",
    ")"
   ]
  },
  {
   "attachments": {},
   "cell_type": "markdown",
   "metadata": {},
   "source": [
    "We're going to create agents that will be able to search the internet and write and execute code for us!"
   ]
  },
  {
   "cell_type": "code",
   "execution_count": 5,
   "metadata": {},
   "outputs": [],
   "source": [
    "tavily_tool = TavilySearchResults(max_results=5)\n",
    "python_repl_tool = PythonREPLTool()"
   ]
  },
  {
   "attachments": {},
   "cell_type": "markdown",
   "metadata": {},
   "source": [
    "Creating an agent `node`. This node will be used to represent agents in the graph state"
   ]
  },
  {
   "cell_type": "code",
   "execution_count": 6,
   "metadata": {},
   "outputs": [],
   "source": [
    "from langchain_core.messages import HumanMessage\n",
    "\n",
    "def agent_node(state, agent, name):\n",
    "    result = agent.invoke(state)\n",
    "    return {\n",
    "        \"messages\": [HumanMessage(content=result[\"messages\"][-1].content, name=name)]\n",
    "    }"
   ]
  },
  {
   "attachments": {},
   "cell_type": "markdown",
   "metadata": {},
   "source": [
    "## Create agent supervisor\n",
    "This agent uses function calling to choose the next worker node or finish processing."
   ]
  },
  {
   "cell_type": "code",
   "execution_count": 7,
   "metadata": {},
   "outputs": [],
   "source": [
    "from langchain_core.prompts import ChatPromptTemplate, MessagesPlaceholder\n",
    "from pydantic import BaseModel\n",
    "\n",
    "members = [\"Researcher\", \"Coder\"]\n",
    "system_prompt = (\n",
    "    \"You are a supervisor tasked with managing a conversation between the\"\n",
    "    \" following workers:  {members}. Given the following user request,\"\n",
    "    \" respond with the worker to act next. Each worker will perform a\"\n",
    "    \" task and respond with their results and status. When finished,\"\n",
    "    \" respond with FINISH.\"\n",
    ")\n",
    "options = [\"FINISH\"] + members\n",
    "\n",
    "\n",
    "class routeResponse(BaseModel):\n",
    "    next: Literal[*options]\n",
    "\n",
    "prompt = ChatPromptTemplate.from_messages(\n",
    "    [\n",
    "        (\"system\", system_prompt),\n",
    "        MessagesPlaceholder(variable_name=\"messages\"),\n",
    "        (\n",
    "            \"system\",\n",
    "            \"Given the conversation above, who should act next?\"\n",
    "            \" Or should we FINISH? Select one of: {options}\",\n",
    "        ),\n",
    "    ]\n",
    ").partial(options=str(options), members=\", \".join(members))"
   ]
  },
  {
   "attachments": {},
   "cell_type": "markdown",
   "metadata": {},
   "source": [
    "Using `.partial` creates a new ChatPromptTemplate with some input variables already filled in. This is a LangChain specific implementation of the `.partial` method of the `functools` library."
   ]
  },
  {
   "cell_type": "code",
   "execution_count": 8,
   "metadata": {},
   "outputs": [],
   "source": [
    "def supervisor_agent(state):\n",
    "    \"\"\"This is the supervisor node\n",
    "    \n",
    "    It just picks the next agent to process and decides when the work is completed\"\"\"\n",
    "    supervisor_chain = prompt | llm.with_structured_output(routeResponse)\n",
    "    return supervisor_chain.invoke(state)"
   ]
  },
  {
   "attachments": {},
   "cell_type": "markdown",
   "metadata": {},
   "source": [
    "## Construct graph"
   ]
  },
  {
   "cell_type": "code",
   "execution_count": 9,
   "metadata": {},
   "outputs": [],
   "source": [
    "import functools\n",
    "import operator\n",
    "from typing import Sequence\n",
    "from typing_extensions import TypedDict\n",
    "\n",
    "from langchain_core.messages import BaseMessage\n",
    "from langgraph.graph import END, StateGraph, START\n",
    "from langgraph.prebuilt import create_react_agent\n",
    "from langgraph.checkpoint.memory import MemorySaver"
   ]
  },
  {
   "attachments": {},
   "cell_type": "markdown",
   "metadata": {},
   "source": [
    "This will be the `state` input to each node in the graph. The annotation tells the graph that new messages will always be added to the current states. The `next` field indicates where to route to next"
   ]
  },
  {
   "cell_type": "code",
   "execution_count": 10,
   "metadata": {},
   "outputs": [],
   "source": [
    "class AgentState(TypedDict):\n",
    "    messages: Annotated[Sequence[BaseMessage], operator.add]\n",
    "    next: str"
   ]
  },
  {
   "attachments": {},
   "cell_type": "markdown",
   "metadata": {},
   "source": [
    "Create research agent and the research agent node\n",
    "> Note the use of `partial` to fill in the arguments of the function of interest."
   ]
  },
  {
   "cell_type": "code",
   "execution_count": 11,
   "metadata": {},
   "outputs": [],
   "source": [
    "research_agent = create_react_agent(llm, tools=[tavily_tool])\n",
    "research_node = functools.partial(\n",
    "    agent_node,\n",
    "    agent=research_agent,\n",
    "    name=\"Researcher\" #must match the name in the 'members' list above\n",
    ")"
   ]
  },
  {
   "attachments": {},
   "cell_type": "markdown",
   "metadata": {},
   "source": [
    "Create code execution agent\n",
    "> Note that this performs code execution on your computer! In production you'll need to create a sandboxed environment for this"
   ]
  },
  {
   "cell_type": "code",
   "execution_count": 12,
   "metadata": {},
   "outputs": [],
   "source": [
    "code_agent = create_react_agent(llm, tools=[multiply])\n",
    "code_node = functools.partial(agent_node, agent=code_agent, name=\"Coder\")"
   ]
  },
  {
   "attachments": {},
   "cell_type": "markdown",
   "metadata": {},
   "source": [
    "A StateGraph is a graph whose nodes communicate by reading and writing to a shared state. It's the overarching graph class of the Langgraph library."
   ]
  },
  {
   "cell_type": "code",
   "execution_count": 13,
   "metadata": {},
   "outputs": [],
   "source": [
    "workflow = StateGraph(AgentState)\n",
    "\n",
    "## Add nodes\n",
    "workflow.add_node(\"Researcher\", research_node)\n",
    "workflow.add_node(\"Coder\", code_node)\n",
    "workflow.add_node(\"supervisor\", supervisor_agent)\n",
    "\n",
    "## Add edges\n",
    "### We want our workers to always report back to our supervisor when done\n",
    "for member in members:\n",
    "    workflow.add_edge(member, \"supervisor\")\n",
    "\n",
    "### The supervisor then fills in the 'next' field in the graph state for routing\n",
    "conditional_map = {k:k for k in members}\n",
    "conditional_map['FINISH'] = END\n",
    "workflow.add_conditional_edges(\n",
    "    \"supervisor\", lambda x: x['next'],\n",
    "    conditional_map\n",
    ")\n",
    "\n",
    "### Connect entrypoint to supervisor\n",
    "workflow.add_edge(START, \"supervisor\")\n",
    "\n",
    "## Add memory - this creates chat history of the graph in an in-memory SQLite database\n",
    "memory = MemorySaver()\n",
    "\n",
    "## Compile\n",
    "### We interrupt before the code execution just to ensure that we're not doing anything cray\n",
    "graph = workflow.compile(\n",
    "    interrupt_before=[\"Coder\"], \n",
    "    checkpointer=memory\n",
    ")"
   ]
  },
  {
   "attachments": {},
   "cell_type": "markdown",
   "metadata": {},
   "source": [
    "Here's what our graph looks like!"
   ]
  },
  {
   "cell_type": "code",
   "execution_count": 14,
   "metadata": {},
   "outputs": [
    {
     "data": {
      "image/jpeg": "[encoded data removed]",
      "text/plain": [
       "<IPython.core.display.Image object>"
      ]
     },
     "metadata": {},
     "output_type": "display_data"
    }
   ],
   "source": [
    "from IPython.display import Image, display\n",
    "\n",
    "display(Image(graph.get_graph(xray=True).draw_mermaid_png()))"
   ]
  },
  {
   "attachments": {},
   "cell_type": "markdown",
   "metadata": {},
   "source": [
    "## Let's do some research into the future of generative AI!"
   ]
  },
  {
   "cell_type": "code",
   "execution_count": 15,
   "metadata": {},
   "outputs": [],
   "source": [
    "thread = {\"configurable\": {\"thread_id\": \"88\"}} #for memory"
   ]
  },
  {
   "attachments": {},
   "cell_type": "markdown",
   "metadata": {},
   "source": [
    "You'll notice that there appears to be a duplication - this is just because the supervisor first invokes the state, passes it to another agent that invokes the state again. Once this agent is done the supervisor invokes the state yet again to determine if more routing is needed or we can just end."
   ]
  },
  {
   "cell_type": "code",
   "execution_count": 16,
   "metadata": {},
   "outputs": [
    {
     "name": "stdout",
     "output_type": "stream",
     "text": [
      "================================\u001b[1m Human Message \u001b[0m=================================\n",
      "\n",
      "Is generative AI just a gimmick? Does it have any quantifiable business value?\n",
      "================================\u001b[1m Human Message \u001b[0m=================================\n",
      "\n",
      "Is generative AI just a gimmick? Does it have any quantifiable business value?\n",
      "================================\u001b[1m Human Message \u001b[0m=================================\n",
      "Name: Researcher\n",
      "\n",
      "Generative AI is increasingly recognized for its tangible business value rather than being merely a gimmick. Here are some key insights regarding its quantifiable benefits:\n",
      "\n",
      "1. **Performance Improvement**: According to IBM Consulting, generative AI can augment existing enterprise AI deployments, leading to improved performance and accelerated time to value. Businesses that carefully develop generative AI solutions can see significant enhancements in their operations.\n",
      "\n",
      "2. **Maximizing ROI**: Deloitte emphasizes the importance of understanding how to assess the value of generative AI investments. Organizations can compare different opportunities and prioritize use cases that align with broader business goals, thereby maximizing return on investment.\n",
      "\n",
      "3. **Decision Framework**: Gartner suggests that businesses should assess the potential benefits and costs of generative AI investments. They provide a decision framework to help organizations evaluate the cost and realize value from their generative AI initiatives.\n",
      "\n",
      "4. **Widespread Adoption**: A McKinsey survey indicates that 65% of organizations are regularly using generative AI, nearly double the percentage from the previous year. This growing adoption reflects a recognition of the technology's value in various business contexts.\n",
      "\n",
      "5. **Versatile Applications**: Forbes highlights that large language models (LLMs), a form of generative AI, are versatile tools capable of performing a wide range of tasks. This versatility can enhance product development, customer experiences, and more, although concerns about privacy and data use remain prevalent among employees and business owners.\n",
      "\n",
      "In summary, generative AI is proving to have quantifiable business value through improved performance, ROI maximization, and widespread adoption across industries. However, businesses must also navigate the associated risks and ethical considerations.\n",
      "================================\u001b[1m Human Message \u001b[0m=================================\n",
      "Name: Researcher\n",
      "\n",
      "Generative AI is increasingly recognized for its tangible business value rather than being merely a gimmick. Here are some key insights regarding its quantifiable benefits:\n",
      "\n",
      "1. **Performance Improvement**: According to IBM Consulting, generative AI can augment existing enterprise AI deployments, leading to improved performance and accelerated time to value. Businesses that carefully develop generative AI solutions can see significant enhancements in their operations.\n",
      "\n",
      "2. **Maximizing ROI**: Deloitte emphasizes the importance of understanding how to assess the value of generative AI investments. Organizations can compare different opportunities and prioritize use cases that align with broader business goals, thereby maximizing return on investment.\n",
      "\n",
      "3. **Decision Framework**: Gartner suggests that businesses should assess the potential benefits and costs of generative AI investments. They provide a decision framework to help organizations evaluate the cost and realize value from their generative AI initiatives.\n",
      "\n",
      "4. **Widespread Adoption**: A McKinsey survey indicates that 65% of organizations are regularly using generative AI, nearly double the percentage from the previous year. This growing adoption reflects a recognition of the technology's value in various business contexts.\n",
      "\n",
      "5. **Versatile Applications**: Forbes highlights that large language models (LLMs), a form of generative AI, are versatile tools capable of performing a wide range of tasks. This versatility can enhance product development, customer experiences, and more, although concerns about privacy and data use remain prevalent among employees and business owners.\n",
      "\n",
      "In summary, generative AI is proving to have quantifiable business value through improved performance, ROI maximization, and widespread adoption across industries. However, businesses must also navigate the associated risks and ethical considerations.\n"
     ]
    }
   ],
   "source": [
    "for event in graph.stream(\n",
    "    {\n",
    "        \"messages\": [\n",
    "            HumanMessage(content=\"Is generative AI just a gimmick? Does it have any quantifiable business value?\")\n",
    "        ]\n",
    "    },\n",
    "    thread,\n",
    "    stream_mode = \"values\"\n",
    "):\n",
    "    event['messages'][-1].pretty_print()"
   ]
  },
  {
   "cell_type": "code",
   "execution_count": 17,
   "metadata": {},
   "outputs": [],
   "source": [
    "graph_state = graph.get_state(thread)"
   ]
  },
  {
   "cell_type": "code",
   "execution_count": 18,
   "metadata": {},
   "outputs": [
    {
     "data": {
      "text/plain": [
       "[HumanMessage(content='Is generative AI just a gimmick? Does it have any quantifiable business value?', additional_kwargs={}, response_metadata={}, id='3e9fdc81-ac87-4671-8473-4bd6667dc175'),\n",
       " HumanMessage(content=\"Generative AI is increasingly recognized for its tangible business value rather than being merely a gimmick. Here are some key insights regarding its quantifiable benefits:\\n\\n1. **Performance Improvement**: According to IBM Consulting, generative AI can augment existing enterprise AI deployments, leading to improved performance and accelerated time to value. Businesses that carefully develop generative AI solutions can see significant enhancements in their operations.\\n\\n2. **Maximizing ROI**: Deloitte emphasizes the importance of understanding how to assess the value of generative AI investments. Organizations can compare different opportunities and prioritize use cases that align with broader business goals, thereby maximizing return on investment.\\n\\n3. **Decision Framework**: Gartner suggests that businesses should assess the potential benefits and costs of generative AI investments. They provide a decision framework to help organizations evaluate the cost and realize value from their generative AI initiatives.\\n\\n4. **Widespread Adoption**: A McKinsey survey indicates that 65% of organizations are regularly using generative AI, nearly double the percentage from the previous year. This growing adoption reflects a recognition of the technology's value in various business contexts.\\n\\n5. **Versatile Applications**: Forbes highlights that large language models (LLMs), a form of generative AI, are versatile tools capable of performing a wide range of tasks. This versatility can enhance product development, customer experiences, and more, although concerns about privacy and data use remain prevalent among employees and business owners.\\n\\nIn summary, generative AI is proving to have quantifiable business value through improved performance, ROI maximization, and widespread adoption across industries. However, businesses must also navigate the associated risks and ethical considerations.\", additional_kwargs={}, response_metadata={}, name='Researcher')]"
      ]
     },
     "execution_count": 18,
     "metadata": {},
     "output_type": "execute_result"
    }
   ],
   "source": [
    "graph_state.values['messages']"
   ]
  },
  {
   "attachments": {},
   "cell_type": "markdown",
   "metadata": {},
   "source": [
    "And we have chat history!"
   ]
  },
  {
   "cell_type": "code",
   "execution_count": 19,
   "metadata": {},
   "outputs": [
    {
     "data": {
      "text/markdown": [
       "Generative AI is increasingly recognized for its tangible business value rather than being merely a gimmick. Here are some key insights regarding its quantifiable benefits:\n",
       "\n",
       "1. **Performance Improvement**: According to IBM Consulting, generative AI can augment existing enterprise AI deployments, leading to improved performance and accelerated time to value. Businesses that carefully develop generative AI solutions can see significant enhancements in their operations.\n",
       "\n",
       "2. **Maximizing ROI**: Deloitte emphasizes the importance of understanding how to assess the value of generative AI investments. Organizations can compare different opportunities and prioritize use cases that align with broader business goals, thereby maximizing return on investment.\n",
       "\n",
       "3. **Decision Framework**: Gartner suggests that businesses should assess the potential benefits and costs of generative AI investments. They provide a decision framework to help organizations evaluate the cost and realize value from their generative AI initiatives.\n",
       "\n",
       "4. **Widespread Adoption**: A McKinsey survey indicates that 65% of organizations are regularly using generative AI, nearly double the percentage from the previous year. This growing adoption reflects a recognition of the technology's value in various business contexts.\n",
       "\n",
       "5. **Versatile Applications**: Forbes highlights that large language models (LLMs), a form of generative AI, are versatile tools capable of performing a wide range of tasks. This versatility can enhance product development, customer experiences, and more, although concerns about privacy and data use remain prevalent among employees and business owners.\n",
       "\n",
       "In summary, generative AI is proving to have quantifiable business value through improved performance, ROI maximization, and widespread adoption across industries. However, businesses must also navigate the associated risks and ethical considerations."
      ],
      "text/plain": [
       "<IPython.core.display.Markdown object>"
      ]
     },
     "metadata": {},
     "output_type": "display_data"
    }
   ],
   "source": [
    "from IPython.display import display, Markdown\n",
    "\n",
    "display(Markdown(graph_state.values['messages'][-1].content))"
   ]
  },
  {
   "attachments": {},
   "cell_type": "markdown",
   "metadata": {},
   "source": [
    "## Write code to do stuff!"
   ]
  },
  {
   "cell_type": "code",
   "execution_count": 27,
   "metadata": {},
   "outputs": [
    {
     "name": "stdout",
     "output_type": "stream",
     "text": [
      "================================\u001b[1m Human Message \u001b[0m=================================\n",
      "\n",
      "Write python code to calculate the remainder of 15/2\n",
      "================================\u001b[1m Human Message \u001b[0m=================================\n",
      "\n",
      "Write python code to calculate the remainder of 15/2\n"
     ]
    }
   ],
   "source": [
    "for event in graph.stream(\n",
    "    {\n",
    "        \"messages\": [\n",
    "            HumanMessage(\n",
    "                content= \"Write python code to calculate the remainder of 15/2\"\n",
    "            )\n",
    "        ]\n",
    "    },\n",
    "    thread, \n",
    "    stream_mode='values'\n",
    "):\n",
    "    event['messages'][-1].pretty_print()"
   ]
  },
  {
   "attachments": {},
   "cell_type": "markdown",
   "metadata": {},
   "source": [
    "Tada it has stopped! Let's apply a state update"
   ]
  },
  {
   "cell_type": "code",
   "execution_count": 28,
   "metadata": {},
   "outputs": [],
   "source": [
    "state = graph.get_state(thread)"
   ]
  },
  {
   "cell_type": "code",
   "execution_count": 29,
   "metadata": {},
   "outputs": [
    {
     "data": {
      "text/plain": [
       "HumanMessage(content='Write python code to calculate the remainder of 15/2', additional_kwargs={}, response_metadata={})"
      ]
     },
     "execution_count": 29,
     "metadata": {},
     "output_type": "execute_result"
    }
   ],
   "source": [
    "state.values['messages'][-1]"
   ]
  },
  {
   "attachments": {},
   "cell_type": "markdown",
   "metadata": {},
   "source": [
    "This is indeed our message. Let's update the state!"
   ]
  },
  {
   "cell_type": "code",
   "execution_count": 30,
   "metadata": {},
   "outputs": [
    {
     "data": {
      "text/plain": [
       "{'configurable': {'thread_id': '88',\n",
       "  'checkpoint_ns': '',\n",
       "  'checkpoint_id': '1ef97766-9808-600a-800d-63c5932c956d'}}"
      ]
     },
     "execution_count": 30,
     "metadata": {},
     "output_type": "execute_result"
    }
   ],
   "source": [
    "graph.update_state(\n",
    "    thread,\n",
    "    {\n",
    "        \"messages\": [HumanMessage(\n",
    "            content=\"No, actually write python code to calculate the remainder of 13 and 3!\"\n",
    "        )]\n",
    "    }\n",
    ")"
   ]
  },
  {
   "attachments": {},
   "cell_type": "markdown",
   "metadata": {},
   "source": [
    "### Check if state has been updated!"
   ]
  },
  {
   "cell_type": "code",
   "execution_count": 31,
   "metadata": {},
   "outputs": [],
   "source": [
    "new_state = graph.get_state(thread).values"
   ]
  },
  {
   "cell_type": "code",
   "execution_count": 32,
   "metadata": {},
   "outputs": [
    {
     "name": "stdout",
     "output_type": "stream",
     "text": [
      "================================\u001b[1m Human Message \u001b[0m=================================\n",
      "\n",
      "Is generative AI just a gimmick? Does it have any quantifiable business value?\n",
      "================================\u001b[1m Human Message \u001b[0m=================================\n",
      "Name: Researcher\n",
      "\n",
      "Generative AI is increasingly recognized for its tangible business value rather than being merely a gimmick. Here are some key insights regarding its quantifiable benefits:\n",
      "\n",
      "1. **Performance Improvement**: According to IBM Consulting, generative AI can augment existing enterprise AI deployments, leading to improved performance and accelerated time to value. Businesses that carefully develop generative AI solutions can see significant enhancements in their operations.\n",
      "\n",
      "2. **Maximizing ROI**: Deloitte emphasizes the importance of understanding how to assess the value of generative AI investments. Organizations can compare different opportunities and prioritize use cases that align with broader business goals, thereby maximizing return on investment.\n",
      "\n",
      "3. **Decision Framework**: Gartner suggests that businesses should assess the potential benefits and costs of generative AI investments. They provide a decision framework to help organizations evaluate the cost and realize value from their generative AI initiatives.\n",
      "\n",
      "4. **Widespread Adoption**: A McKinsey survey indicates that 65% of organizations are regularly using generative AI, nearly double the percentage from the previous year. This growing adoption reflects a recognition of the technology's value in various business contexts.\n",
      "\n",
      "5. **Versatile Applications**: Forbes highlights that large language models (LLMs), a form of generative AI, are versatile tools capable of performing a wide range of tasks. This versatility can enhance product development, customer experiences, and more, although concerns about privacy and data use remain prevalent among employees and business owners.\n",
      "\n",
      "In summary, generative AI is proving to have quantifiable business value through improved performance, ROI maximization, and widespread adoption across industries. However, businesses must also navigate the associated risks and ethical considerations.\n",
      "================================\u001b[1m Human Message \u001b[0m=================================\n",
      "\n",
      "Write code to multiply 2 and 3\n",
      "================================\u001b[1m Human Message \u001b[0m=================================\n",
      "\n",
      "No, actually write code to multiply 3 and 3!\n",
      "================================\u001b[1m Human Message \u001b[0m=================================\n",
      "Name: Coder\n",
      "\n",
      "The result of multiplying 3 and 3 is 9.\n",
      "================================\u001b[1m Human Message \u001b[0m=================================\n",
      "\n",
      "Write python code to calculate the remainder of 15/2\n",
      "================================\u001b[1m Human Message \u001b[0m=================================\n",
      "\n",
      "No, actually write python code to calculate the remainder of 13 and 3!\n"
     ]
    }
   ],
   "source": [
    "for m in new_state['messages']:\n",
    "    m.pretty_print()"
   ]
  },
  {
   "attachments": {},
   "cell_type": "markdown",
   "metadata": {},
   "source": [
    "### Invoke graph on revised question\n",
    "We use the trick of passing `None` to proceed!"
   ]
  },
  {
   "cell_type": "code",
   "execution_count": 33,
   "metadata": {},
   "outputs": [
    {
     "name": "stdout",
     "output_type": "stream",
     "text": [
      "{'messages': [HumanMessage(content='Is generative AI just a gimmick? Does it have any quantifiable business value?', additional_kwargs={}, response_metadata={}, id='3e9fdc81-ac87-4671-8473-4bd6667dc175'), HumanMessage(content=\"Generative AI is increasingly recognized for its tangible business value rather than being merely a gimmick. Here are some key insights regarding its quantifiable benefits:\\n\\n1. **Performance Improvement**: According to IBM Consulting, generative AI can augment existing enterprise AI deployments, leading to improved performance and accelerated time to value. Businesses that carefully develop generative AI solutions can see significant enhancements in their operations.\\n\\n2. **Maximizing ROI**: Deloitte emphasizes the importance of understanding how to assess the value of generative AI investments. Organizations can compare different opportunities and prioritize use cases that align with broader business goals, thereby maximizing return on investment.\\n\\n3. **Decision Framework**: Gartner suggests that businesses should assess the potential benefits and costs of generative AI investments. They provide a decision framework to help organizations evaluate the cost and realize value from their generative AI initiatives.\\n\\n4. **Widespread Adoption**: A McKinsey survey indicates that 65% of organizations are regularly using generative AI, nearly double the percentage from the previous year. This growing adoption reflects a recognition of the technology's value in various business contexts.\\n\\n5. **Versatile Applications**: Forbes highlights that large language models (LLMs), a form of generative AI, are versatile tools capable of performing a wide range of tasks. This versatility can enhance product development, customer experiences, and more, although concerns about privacy and data use remain prevalent among employees and business owners.\\n\\nIn summary, generative AI is proving to have quantifiable business value through improved performance, ROI maximization, and widespread adoption across industries. However, businesses must also navigate the associated risks and ethical considerations.\", additional_kwargs={}, response_metadata={}, name='Researcher', id='6b2b445c-0f60-4a11-960d-e8a46cfa9d62'), HumanMessage(content='Write code to multiply 2 and 3', additional_kwargs={}, response_metadata={}, id='9de2e77c-abea-4a5a-b7fb-a8b27b6df5da'), HumanMessage(content='No, actually write code to multiply 3 and 3!', additional_kwargs={}, response_metadata={}, id='11d25def-4ea9-4308-a66e-3f0c534638f6'), HumanMessage(content='The result of multiplying 3 and 3 is 9.', additional_kwargs={}, response_metadata={}, name='Coder'), HumanMessage(content='Write python code to calculate the remainder of 15/2', additional_kwargs={}, response_metadata={}), HumanMessage(content='No, actually write python code to calculate the remainder of 13 and 3!', additional_kwargs={}, response_metadata={})], 'next': 'Coder'}\n",
      "----\n",
      "{'messages': [HumanMessage(content='Is generative AI just a gimmick? Does it have any quantifiable business value?', additional_kwargs={}, response_metadata={}, id='3e9fdc81-ac87-4671-8473-4bd6667dc175'), HumanMessage(content=\"Generative AI is increasingly recognized for its tangible business value rather than being merely a gimmick. Here are some key insights regarding its quantifiable benefits:\\n\\n1. **Performance Improvement**: According to IBM Consulting, generative AI can augment existing enterprise AI deployments, leading to improved performance and accelerated time to value. Businesses that carefully develop generative AI solutions can see significant enhancements in their operations.\\n\\n2. **Maximizing ROI**: Deloitte emphasizes the importance of understanding how to assess the value of generative AI investments. Organizations can compare different opportunities and prioritize use cases that align with broader business goals, thereby maximizing return on investment.\\n\\n3. **Decision Framework**: Gartner suggests that businesses should assess the potential benefits and costs of generative AI investments. They provide a decision framework to help organizations evaluate the cost and realize value from their generative AI initiatives.\\n\\n4. **Widespread Adoption**: A McKinsey survey indicates that 65% of organizations are regularly using generative AI, nearly double the percentage from the previous year. This growing adoption reflects a recognition of the technology's value in various business contexts.\\n\\n5. **Versatile Applications**: Forbes highlights that large language models (LLMs), a form of generative AI, are versatile tools capable of performing a wide range of tasks. This versatility can enhance product development, customer experiences, and more, although concerns about privacy and data use remain prevalent among employees and business owners.\\n\\nIn summary, generative AI is proving to have quantifiable business value through improved performance, ROI maximization, and widespread adoption across industries. However, businesses must also navigate the associated risks and ethical considerations.\", additional_kwargs={}, response_metadata={}, name='Researcher', id='6b2b445c-0f60-4a11-960d-e8a46cfa9d62'), HumanMessage(content='Write code to multiply 2 and 3', additional_kwargs={}, response_metadata={}, id='9de2e77c-abea-4a5a-b7fb-a8b27b6df5da'), HumanMessage(content='No, actually write code to multiply 3 and 3!', additional_kwargs={}, response_metadata={}, id='11d25def-4ea9-4308-a66e-3f0c534638f6'), HumanMessage(content='The result of multiplying 3 and 3 is 9.', additional_kwargs={}, response_metadata={}, name='Coder', id='0540fbe9-3d4b-4475-9f63-f9a3ec016e90'), HumanMessage(content='Write python code to calculate the remainder of 15/2', additional_kwargs={}, response_metadata={}, id='cd453c59-4075-48d0-8223-42bfe3f506fc'), HumanMessage(content='No, actually write python code to calculate the remainder of 13 and 3!', additional_kwargs={}, response_metadata={}, id='abb5ed3d-6c52-4e55-98c6-b74cca3743c8'), HumanMessage(content='Here is the Python code to calculate the remainder of 13 divided by 3:\\n\\n```python\\nremainder = 13 % 3\\nprint(remainder)\\n```\\n\\nWhen you run this code, it will output the remainder of 13 divided by 3.', additional_kwargs={}, response_metadata={}, name='Coder')], 'next': 'Coder'}\n",
      "----\n",
      "{'messages': [HumanMessage(content='Is generative AI just a gimmick? Does it have any quantifiable business value?', additional_kwargs={}, response_metadata={}, id='3e9fdc81-ac87-4671-8473-4bd6667dc175'), HumanMessage(content=\"Generative AI is increasingly recognized for its tangible business value rather than being merely a gimmick. Here are some key insights regarding its quantifiable benefits:\\n\\n1. **Performance Improvement**: According to IBM Consulting, generative AI can augment existing enterprise AI deployments, leading to improved performance and accelerated time to value. Businesses that carefully develop generative AI solutions can see significant enhancements in their operations.\\n\\n2. **Maximizing ROI**: Deloitte emphasizes the importance of understanding how to assess the value of generative AI investments. Organizations can compare different opportunities and prioritize use cases that align with broader business goals, thereby maximizing return on investment.\\n\\n3. **Decision Framework**: Gartner suggests that businesses should assess the potential benefits and costs of generative AI investments. They provide a decision framework to help organizations evaluate the cost and realize value from their generative AI initiatives.\\n\\n4. **Widespread Adoption**: A McKinsey survey indicates that 65% of organizations are regularly using generative AI, nearly double the percentage from the previous year. This growing adoption reflects a recognition of the technology's value in various business contexts.\\n\\n5. **Versatile Applications**: Forbes highlights that large language models (LLMs), a form of generative AI, are versatile tools capable of performing a wide range of tasks. This versatility can enhance product development, customer experiences, and more, although concerns about privacy and data use remain prevalent among employees and business owners.\\n\\nIn summary, generative AI is proving to have quantifiable business value through improved performance, ROI maximization, and widespread adoption across industries. However, businesses must also navigate the associated risks and ethical considerations.\", additional_kwargs={}, response_metadata={}, name='Researcher', id='6b2b445c-0f60-4a11-960d-e8a46cfa9d62'), HumanMessage(content='Write code to multiply 2 and 3', additional_kwargs={}, response_metadata={}, id='9de2e77c-abea-4a5a-b7fb-a8b27b6df5da'), HumanMessage(content='No, actually write code to multiply 3 and 3!', additional_kwargs={}, response_metadata={}, id='11d25def-4ea9-4308-a66e-3f0c534638f6'), HumanMessage(content='The result of multiplying 3 and 3 is 9.', additional_kwargs={}, response_metadata={}, name='Coder', id='0540fbe9-3d4b-4475-9f63-f9a3ec016e90'), HumanMessage(content='Write python code to calculate the remainder of 15/2', additional_kwargs={}, response_metadata={}, id='cd453c59-4075-48d0-8223-42bfe3f506fc'), HumanMessage(content='No, actually write python code to calculate the remainder of 13 and 3!', additional_kwargs={}, response_metadata={}, id='abb5ed3d-6c52-4e55-98c6-b74cca3743c8'), HumanMessage(content='Here is the Python code to calculate the remainder of 13 divided by 3:\\n\\n```python\\nremainder = 13 % 3\\nprint(remainder)\\n```\\n\\nWhen you run this code, it will output the remainder of 13 divided by 3.', additional_kwargs={}, response_metadata={}, name='Coder')], 'next': 'FINISH'}\n",
      "----\n"
     ]
    }
   ],
   "source": [
    "for s in graph.stream(None, thread, stream_mode=\"values\"):\n",
    "    if \"__end__\" not in s:\n",
    "        print(s)\n",
    "        print(\"----\")"
   ]
  },
  {
   "cell_type": "code",
   "execution_count": 35,
   "metadata": {},
   "outputs": [
    {
     "data": {
      "text/markdown": [
       "Here is the Python code to calculate the remainder of 13 divided by 3:\n",
       "\n",
       "```python\n",
       "remainder = 13 % 3\n",
       "print(remainder)\n",
       "```\n",
       "\n",
       "When you run this code, it will output the remainder of 13 divided by 3."
      ],
      "text/plain": [
       "<IPython.core.display.Markdown object>"
      ]
     },
     "metadata": {},
     "output_type": "display_data"
    }
   ],
   "source": [
    "state = graph.get_state(thread)\n",
    "display(Markdown(state.values['messages'][-1].content))"
   ]
  },
  {
   "cell_type": "code",
   "execution_count": null,
   "metadata": {},
   "outputs": [],
   "source": []
  }
 ],
 "metadata": {
  "kernelspec": {
   "display_name": "crewai",
   "language": "python",
   "name": "python3"
  },
  "language_info": {
   "codemirror_mode": {
    "name": "ipython",
    "version": 3
   },
   "file_extension": ".py",
   "mimetype": "text/x-python",
   "name": "python",
   "nbconvert_exporter": "python",
   "pygments_lexer": "ipython3",
   "version": "3.11.10"
  },
  "orig_nbformat": 4,
  "vscode": {
   "interpreter": {
    "hash": "4709386691dc0daafce17a81a6dfb5e1bb4ca444089e5ad90185535ed7bb90ea"
   }
  }
 },
 "nbformat": 4,
 "nbformat_minor": 2
}
