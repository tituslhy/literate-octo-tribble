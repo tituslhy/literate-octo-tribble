{
 "cells": [
  {
   "cell_type": "code",
   "execution_count": 1,
   "metadata": {},
   "outputs": [],
   "source": [
    "%%capture --no-stderr\n",
    "%load_ext autoreload\n",
    "%autoreload 2"
   ]
  },
  {
   "cell_type": "code",
   "execution_count": 2,
   "metadata": {},
   "outputs": [],
   "source": [
    "import os\n",
    "from dotenv import load_dotenv, find_dotenv\n",
    "_ = load_dotenv(find_dotenv())"
   ]
  },
  {
   "cell_type": "code",
   "execution_count": 3,
   "metadata": {},
   "outputs": [],
   "source": [
    "from langchain_openai import ChatOpenAI\n",
    "from langchain_community.tools.tavily_search import TavilySearchResults\n",
    "from langchain_core.tools import tool\n",
    "import yfinance as yf\n",
    "import pandas as pd\n",
    "from typing import Annotated, Literal"
   ]
  },
  {
   "cell_type": "code",
   "execution_count": 4,
   "metadata": {},
   "outputs": [],
   "source": [
    "llm = ChatOpenAI(model=\"gpt-4o-mini\")"
   ]
  },
  {
   "attachments": {},
   "cell_type": "markdown",
   "metadata": {},
   "source": [
    "We're going to create agents that will be able to search the internet and write and execute code for us!"
   ]
  },
  {
   "cell_type": "code",
   "execution_count": 5,
   "metadata": {},
   "outputs": [],
   "source": [
    "tavily_tool = TavilySearchResults(max_results=5)\n",
    "\n",
    "@tool\n",
    "def multiply(a: int, b: int) -> int:\n",
    "    \"\"\"Used to multiply 2 integers\"\"\"\n",
    "    return a * b "
   ]
  },
  {
   "attachments": {},
   "cell_type": "markdown",
   "metadata": {},
   "source": [
    "Creating an agent `node`. This node will be used to represent agents in the graph state"
   ]
  },
  {
   "cell_type": "code",
   "execution_count": 6,
   "metadata": {},
   "outputs": [],
   "source": [
    "from langchain_core.messages import HumanMessage\n",
    "\n",
    "def agent_node(state, agent, name):\n",
    "    result = agent.invoke(state)\n",
    "    return {\n",
    "        \"messages\": [HumanMessage(content=result[\"messages\"][-1].content, name=name)]\n",
    "    }"
   ]
  },
  {
   "attachments": {},
   "cell_type": "markdown",
   "metadata": {},
   "source": [
    "## Create agent supervisor\n",
    "This agent uses function calling to choose the next worker node or finish processing."
   ]
  },
  {
   "cell_type": "code",
   "execution_count": 7,
   "metadata": {},
   "outputs": [],
   "source": [
    "from langchain_core.prompts import ChatPromptTemplate, MessagesPlaceholder\n",
    "from pydantic import BaseModel\n",
    "\n",
    "members = [\"Researcher\", \"Mathematician\"]\n",
    "system_prompt = (\n",
    "    \"You are a supervisor tasked with managing a conversation between the\"\n",
    "    \" following workers:  {members}. Given the following user request,\"\n",
    "    \" respond with the worker to act next. Each worker will perform a\"\n",
    "    \" task and respond with their results and status. When finished,\"\n",
    "    \" respond with FINISH.\"\n",
    ")\n",
    "options = [\"FINISH\"] + members\n",
    "\n",
    "\n",
    "class routeResponse(BaseModel):\n",
    "    next: Literal[*options]\n",
    "\n",
    "prompt = ChatPromptTemplate.from_messages(\n",
    "    [\n",
    "        (\"system\", system_prompt),\n",
    "        MessagesPlaceholder(variable_name=\"messages\"),\n",
    "        (\n",
    "            \"system\",\n",
    "            \"Given the conversation above, who should act next?\"\n",
    "            \" Or should we FINISH? Select one of: {options}\",\n",
    "        ),\n",
    "    ]\n",
    ").partial(options=str(options), members=\", \".join(members))"
   ]
  },
  {
   "attachments": {},
   "cell_type": "markdown",
   "metadata": {},
   "source": [
    "Using `.partial` creates a new ChatPromptTemplate with some input variables already filled in. This is a LangChain specific implementation of the `.partial` method of the `functools` library."
   ]
  },
  {
   "cell_type": "code",
   "execution_count": 8,
   "metadata": {},
   "outputs": [],
   "source": [
    "def supervisor_agent(state):\n",
    "    \"\"\"This is the supervisor node\n",
    "    \n",
    "    It just picks the next agent to process and decides when the work is completed\"\"\"\n",
    "    supervisor_chain = prompt | llm.with_structured_output(routeResponse)\n",
    "    return supervisor_chain.invoke(state)"
   ]
  },
  {
   "attachments": {},
   "cell_type": "markdown",
   "metadata": {},
   "source": [
    "## Construct graph"
   ]
  },
  {
   "cell_type": "code",
   "execution_count": 9,
   "metadata": {},
   "outputs": [],
   "source": [
    "import functools\n",
    "import operator\n",
    "from typing import Sequence\n",
    "from typing_extensions import TypedDict\n",
    "\n",
    "from langchain_core.messages import BaseMessage\n",
    "from langgraph.graph import END, StateGraph, START\n",
    "from langgraph.prebuilt import create_react_agent\n",
    "from langgraph.checkpoint.memory import MemorySaver"
   ]
  },
  {
   "attachments": {},
   "cell_type": "markdown",
   "metadata": {},
   "source": [
    "This will be the `state` input to each node in the graph. The annotation tells the graph that new messages will always be added to the current states. The `next` field indicates where to route to next"
   ]
  },
  {
   "cell_type": "code",
   "execution_count": 10,
   "metadata": {},
   "outputs": [],
   "source": [
    "class AgentState(TypedDict):\n",
    "    messages: Annotated[Sequence[BaseMessage], operator.add]\n",
    "    next: str"
   ]
  },
  {
   "attachments": {},
   "cell_type": "markdown",
   "metadata": {},
   "source": [
    "Create research agent and the research agent node\n",
    "> Note the use of `partial` to fill in the arguments of the function of interest."
   ]
  },
  {
   "cell_type": "code",
   "execution_count": 11,
   "metadata": {},
   "outputs": [],
   "source": [
    "research_agent = create_react_agent(llm, tools=[tavily_tool])\n",
    "research_node = functools.partial(\n",
    "    agent_node,\n",
    "    agent=research_agent,\n",
    "    name=\"Researcher\" #must match the name in the 'members' list above\n",
    ")"
   ]
  },
  {
   "attachments": {},
   "cell_type": "markdown",
   "metadata": {},
   "source": [
    "Create code execution agent\n",
    "> Note that this performs code execution on your computer! In production you'll need to create a sandboxed environment for this"
   ]
  },
  {
   "cell_type": "code",
   "execution_count": 12,
   "metadata": {},
   "outputs": [],
   "source": [
    "math_agent = create_react_agent(llm, tools=[multiply])\n",
    "math_node = functools.partial(agent_node, agent=math_agent, name=\"Mathematician\")"
   ]
  },
  {
   "attachments": {},
   "cell_type": "markdown",
   "metadata": {},
   "source": [
    "A StateGraph is a graph whose nodes communicate by reading and writing to a shared state. It's the overarching graph class of the Langgraph library."
   ]
  },
  {
   "cell_type": "code",
   "execution_count": 13,
   "metadata": {},
   "outputs": [],
   "source": [
    "workflow = StateGraph(AgentState)\n",
    "\n",
    "## Add nodes\n",
    "workflow.add_node(\"Researcher\", research_node)\n",
    "workflow.add_node(\"Mathematician\", math_node)\n",
    "workflow.add_node(\"supervisor\", supervisor_agent)\n",
    "\n",
    "## Add edges\n",
    "### We want our workers to always report back to our supervisor when done\n",
    "for member in members:\n",
    "    workflow.add_edge(member, \"supervisor\")\n",
    "\n",
    "### The supervisor then fills in the 'next' field in the graph state for routing\n",
    "conditional_map = {k:k for k in members}\n",
    "conditional_map['FINISH'] = END\n",
    "workflow.add_conditional_edges(\n",
    "    \"supervisor\", lambda x: x['next'],\n",
    "    conditional_map\n",
    ")\n",
    "\n",
    "### Connect entrypoint to supervisor\n",
    "workflow.add_edge(START, \"supervisor\")\n",
    "\n",
    "## Add memory - this creates chat history of the graph in an in-memory SQLite database\n",
    "memory = MemorySaver()\n",
    "\n",
    "## Compile\n",
    "### We interrupt before the code execution just to ensure that we're not doing anything cray\n",
    "graph = workflow.compile(\n",
    "    interrupt_before=[\"Mathematician\"], \n",
    "    checkpointer=memory\n",
    ")"
   ]
  },
  {
   "attachments": {},
   "cell_type": "markdown",
   "metadata": {},
   "source": [
    "Here's what our graph looks like!"
   ]
  },
  {
   "cell_type": "code",
   "execution_count": 14,
   "metadata": {},
   "outputs": [
    {
     "data": {
      "image/jpeg": "[encoded data removed]",
      "text/plain": [
       "<IPython.core.display.Image object>"
      ]
     },
     "metadata": {},
     "output_type": "display_data"
    }
   ],
   "source": [
    "from IPython.display import Image, display\n",
    "\n",
    "display(Image(graph.get_graph(xray=True).draw_mermaid_png()))"
   ]
  },
  {
   "attachments": {},
   "cell_type": "markdown",
   "metadata": {},
   "source": [
    "## Let's do some research into the future of generative AI!"
   ]
  },
  {
   "cell_type": "code",
   "execution_count": 19,
   "metadata": {},
   "outputs": [],
   "source": [
    "thread = {\"configurable\": {\"thread_id\": \"2\"}} #for memory"
   ]
  },
  {
   "attachments": {},
   "cell_type": "markdown",
   "metadata": {},
   "source": [
    "You'll notice that there appears to be a duplication - this is just because the supervisor first invokes the state, passes it to another agent that invokes the state again. Once this agent is done the supervisor invokes the state yet again to determine if more routing is needed or we can just end."
   ]
  },
  {
   "cell_type": "code",
   "execution_count": 20,
   "metadata": {},
   "outputs": [
    {
     "name": "stdout",
     "output_type": "stream",
     "text": [
      "{'messages': [HumanMessage(content='Is generative AI just a gimmick? Does it have any quantifiable business value?', additional_kwargs={}, response_metadata={})]}\n",
      "----\n",
      "{'messages': [HumanMessage(content='Is generative AI just a gimmick? Does it have any quantifiable business value?', additional_kwargs={}, response_metadata={})], 'next': 'Researcher'}\n",
      "----\n",
      "{'messages': [HumanMessage(content='Is generative AI just a gimmick? Does it have any quantifiable business value?', additional_kwargs={}, response_metadata={}, id='1fff0897-471b-4424-aa43-76938877ba36'), HumanMessage(content=\"### Is Generative AI Just a Gimmick?\\n\\nGenerative AI is increasingly being recognized as more than just a gimmick. According to various sources, it is poised to disrupt numerous fields where human cognition, organization, and analysis are involved. For example:\\n\\n1. **Disruption Potential**: Generative AI is seen as a technology that will significantly impact various sectors, changing how tasks are performed and potentially redefining industries (Source: [LinkedIn](https://www.linkedin.com/pulse/why-gen-ai-gimmick-stephen-morison-ulxyc)).\\n2. **Understanding Generative AI**: It utilizes sophisticated machine learning models to create new data rather than just making predictions, which adds to its depth and utility in real-world applications (Source: [MIT Computing](https://computing.mit.edu/news/explained-generative-ai/)).\\n3. **Examples of Use**: Companies like Google, Amazon, and Netflix integrate AI to enhance user experiences through personalized recommendations and content generation (Source: [Forbes](https://www.forbes.com/sites/bernardmarr/2023/09/19/what-is-generative-ai-a-super-simple-explanation-anyone-can-understand/)).\\n\\n### Quantifiable Business Value of Generative AI\\n\\nGenerative AI holds substantial business value, which is becoming increasingly evident across various sectors:\\n\\n1. **Early Business Value**: Organizations that have started implementing generative AI are reporting improvements in competitive positioning and the transformation of core processes and business models. This shows a shift from mere experimentation to actionable outcomes (Source: [Gartner](https://www.gartner.com/en/documents/5188263)).\\n2. **Wide Application**: According to a KPMG survey, generative AI is being adopted across numerous business functions, including marketing, customer support, and operations, indicating its versatility (Source: [KPMG](https://kpmg.com/kpmg-us/content/dam/kpmg/pdf/2023/generative-ai-survey.pdf)).\\n3. **Economic Impact**: McKinsey's analysis suggests that generative AI could significantly impact productivity across various business functions, particularly in customer interactions and operational efficiencies (Source: [McKinsey](https://www.mckinsey.com/capabilities/mckinsey-digital/our-insights/the-economic-potential-of-generative-ai-the-next-productivity-frontier)).\\n4. **Return on Investment (ROI)**: IBM reports that the ROI for AI has increased from 13% to 31% since 2022, highlighting the financial benefits that organizations are beginning to realize as they scale AI initiatives (Source: [IBM](https://www.ibm.com/thought-leadership/institute-business-value/en-us/report/scale-generative-ai)).\\n\\n### Conclusion\\n\\nGenerative AI is not merely a gimmick; it has proven to be a transformative technology with substantial business value. As organizations continue to explore and implement generative AI, its impact on productivity, efficiency, and competitive advantage is expected to grow dramatically.\", additional_kwargs={}, response_metadata={}, name='Researcher')], 'next': 'Researcher'}\n",
      "----\n",
      "{'messages': [HumanMessage(content='Is generative AI just a gimmick? Does it have any quantifiable business value?', additional_kwargs={}, response_metadata={}, id='1fff0897-471b-4424-aa43-76938877ba36'), HumanMessage(content=\"### Is Generative AI Just a Gimmick?\\n\\nGenerative AI is increasingly being recognized as more than just a gimmick. According to various sources, it is poised to disrupt numerous fields where human cognition, organization, and analysis are involved. For example:\\n\\n1. **Disruption Potential**: Generative AI is seen as a technology that will significantly impact various sectors, changing how tasks are performed and potentially redefining industries (Source: [LinkedIn](https://www.linkedin.com/pulse/why-gen-ai-gimmick-stephen-morison-ulxyc)).\\n2. **Understanding Generative AI**: It utilizes sophisticated machine learning models to create new data rather than just making predictions, which adds to its depth and utility in real-world applications (Source: [MIT Computing](https://computing.mit.edu/news/explained-generative-ai/)).\\n3. **Examples of Use**: Companies like Google, Amazon, and Netflix integrate AI to enhance user experiences through personalized recommendations and content generation (Source: [Forbes](https://www.forbes.com/sites/bernardmarr/2023/09/19/what-is-generative-ai-a-super-simple-explanation-anyone-can-understand/)).\\n\\n### Quantifiable Business Value of Generative AI\\n\\nGenerative AI holds substantial business value, which is becoming increasingly evident across various sectors:\\n\\n1. **Early Business Value**: Organizations that have started implementing generative AI are reporting improvements in competitive positioning and the transformation of core processes and business models. This shows a shift from mere experimentation to actionable outcomes (Source: [Gartner](https://www.gartner.com/en/documents/5188263)).\\n2. **Wide Application**: According to a KPMG survey, generative AI is being adopted across numerous business functions, including marketing, customer support, and operations, indicating its versatility (Source: [KPMG](https://kpmg.com/kpmg-us/content/dam/kpmg/pdf/2023/generative-ai-survey.pdf)).\\n3. **Economic Impact**: McKinsey's analysis suggests that generative AI could significantly impact productivity across various business functions, particularly in customer interactions and operational efficiencies (Source: [McKinsey](https://www.mckinsey.com/capabilities/mckinsey-digital/our-insights/the-economic-potential-of-generative-ai-the-next-productivity-frontier)).\\n4. **Return on Investment (ROI)**: IBM reports that the ROI for AI has increased from 13% to 31% since 2022, highlighting the financial benefits that organizations are beginning to realize as they scale AI initiatives (Source: [IBM](https://www.ibm.com/thought-leadership/institute-business-value/en-us/report/scale-generative-ai)).\\n\\n### Conclusion\\n\\nGenerative AI is not merely a gimmick; it has proven to be a transformative technology with substantial business value. As organizations continue to explore and implement generative AI, its impact on productivity, efficiency, and competitive advantage is expected to grow dramatically.\", additional_kwargs={}, response_metadata={}, name='Researcher')], 'next': 'Mathematician'}\n",
      "----\n"
     ]
    }
   ],
   "source": [
    "for s in graph.stream(\n",
    "    {\n",
    "        \"messages\": [\n",
    "            HumanMessage(content=\"Is generative AI just a gimmick? Does it have any quantifiable business value?\")\n",
    "        ]\n",
    "    },\n",
    "    thread,\n",
    "    stream_mode = \"values\"\n",
    "):\n",
    "    if \"__end__\" not in s:\n",
    "        print(s)\n",
    "        print(\"----\")"
   ]
  },
  {
   "cell_type": "code",
   "execution_count": 21,
   "metadata": {},
   "outputs": [],
   "source": [
    "graph_state = graph.get_state(thread)"
   ]
  },
  {
   "cell_type": "code",
   "execution_count": 22,
   "metadata": {},
   "outputs": [
    {
     "data": {
      "text/plain": [
       "[HumanMessage(content='Is generative AI just a gimmick? Does it have any quantifiable business value?', additional_kwargs={}, response_metadata={}, id='1fff0897-471b-4424-aa43-76938877ba36'),\n",
       " HumanMessage(content=\"### Is Generative AI Just a Gimmick?\\n\\nGenerative AI is increasingly being recognized as more than just a gimmick. According to various sources, it is poised to disrupt numerous fields where human cognition, organization, and analysis are involved. For example:\\n\\n1. **Disruption Potential**: Generative AI is seen as a technology that will significantly impact various sectors, changing how tasks are performed and potentially redefining industries (Source: [LinkedIn](https://www.linkedin.com/pulse/why-gen-ai-gimmick-stephen-morison-ulxyc)).\\n2. **Understanding Generative AI**: It utilizes sophisticated machine learning models to create new data rather than just making predictions, which adds to its depth and utility in real-world applications (Source: [MIT Computing](https://computing.mit.edu/news/explained-generative-ai/)).\\n3. **Examples of Use**: Companies like Google, Amazon, and Netflix integrate AI to enhance user experiences through personalized recommendations and content generation (Source: [Forbes](https://www.forbes.com/sites/bernardmarr/2023/09/19/what-is-generative-ai-a-super-simple-explanation-anyone-can-understand/)).\\n\\n### Quantifiable Business Value of Generative AI\\n\\nGenerative AI holds substantial business value, which is becoming increasingly evident across various sectors:\\n\\n1. **Early Business Value**: Organizations that have started implementing generative AI are reporting improvements in competitive positioning and the transformation of core processes and business models. This shows a shift from mere experimentation to actionable outcomes (Source: [Gartner](https://www.gartner.com/en/documents/5188263)).\\n2. **Wide Application**: According to a KPMG survey, generative AI is being adopted across numerous business functions, including marketing, customer support, and operations, indicating its versatility (Source: [KPMG](https://kpmg.com/kpmg-us/content/dam/kpmg/pdf/2023/generative-ai-survey.pdf)).\\n3. **Economic Impact**: McKinsey's analysis suggests that generative AI could significantly impact productivity across various business functions, particularly in customer interactions and operational efficiencies (Source: [McKinsey](https://www.mckinsey.com/capabilities/mckinsey-digital/our-insights/the-economic-potential-of-generative-ai-the-next-productivity-frontier)).\\n4. **Return on Investment (ROI)**: IBM reports that the ROI for AI has increased from 13% to 31% since 2022, highlighting the financial benefits that organizations are beginning to realize as they scale AI initiatives (Source: [IBM](https://www.ibm.com/thought-leadership/institute-business-value/en-us/report/scale-generative-ai)).\\n\\n### Conclusion\\n\\nGenerative AI is not merely a gimmick; it has proven to be a transformative technology with substantial business value. As organizations continue to explore and implement generative AI, its impact on productivity, efficiency, and competitive advantage is expected to grow dramatically.\", additional_kwargs={}, response_metadata={}, name='Researcher')]"
      ]
     },
     "execution_count": 22,
     "metadata": {},
     "output_type": "execute_result"
    }
   ],
   "source": [
    "graph_state.values['messages']"
   ]
  },
  {
   "attachments": {},
   "cell_type": "markdown",
   "metadata": {},
   "source": [
    "And we have chat history!"
   ]
  },
  {
   "cell_type": "code",
   "execution_count": 26,
   "metadata": {},
   "outputs": [
    {
     "data": {
      "text/markdown": [
       "### Is Generative AI Just a Gimmick?\n",
       "\n",
       "Generative AI is increasingly being recognized as more than just a gimmick. According to various sources, it is poised to disrupt numerous fields where human cognition, organization, and analysis are involved. For example:\n",
       "\n",
       "1. **Disruption Potential**: Generative AI is seen as a technology that will significantly impact various sectors, changing how tasks are performed and potentially redefining industries (Source: [LinkedIn](https://www.linkedin.com/pulse/why-gen-ai-gimmick-stephen-morison-ulxyc)).\n",
       "2. **Understanding Generative AI**: It utilizes sophisticated machine learning models to create new data rather than just making predictions, which adds to its depth and utility in real-world applications (Source: [MIT Computing](https://computing.mit.edu/news/explained-generative-ai/)).\n",
       "3. **Examples of Use**: Companies like Google, Amazon, and Netflix integrate AI to enhance user experiences through personalized recommendations and content generation (Source: [Forbes](https://www.forbes.com/sites/bernardmarr/2023/09/19/what-is-generative-ai-a-super-simple-explanation-anyone-can-understand/)).\n",
       "\n",
       "### Quantifiable Business Value of Generative AI\n",
       "\n",
       "Generative AI holds substantial business value, which is becoming increasingly evident across various sectors:\n",
       "\n",
       "1. **Early Business Value**: Organizations that have started implementing generative AI are reporting improvements in competitive positioning and the transformation of core processes and business models. This shows a shift from mere experimentation to actionable outcomes (Source: [Gartner](https://www.gartner.com/en/documents/5188263)).\n",
       "2. **Wide Application**: According to a KPMG survey, generative AI is being adopted across numerous business functions, including marketing, customer support, and operations, indicating its versatility (Source: [KPMG](https://kpmg.com/kpmg-us/content/dam/kpmg/pdf/2023/generative-ai-survey.pdf)).\n",
       "3. **Economic Impact**: McKinsey's analysis suggests that generative AI could significantly impact productivity across various business functions, particularly in customer interactions and operational efficiencies (Source: [McKinsey](https://www.mckinsey.com/capabilities/mckinsey-digital/our-insights/the-economic-potential-of-generative-ai-the-next-productivity-frontier)).\n",
       "4. **Return on Investment (ROI)**: IBM reports that the ROI for AI has increased from 13% to 31% since 2022, highlighting the financial benefits that organizations are beginning to realize as they scale AI initiatives (Source: [IBM](https://www.ibm.com/thought-leadership/institute-business-value/en-us/report/scale-generative-ai)).\n",
       "\n",
       "### Conclusion\n",
       "\n",
       "Generative AI is not merely a gimmick; it has proven to be a transformative technology with substantial business value. As organizations continue to explore and implement generative AI, its impact on productivity, efficiency, and competitive advantage is expected to grow dramatically."
      ],
      "text/plain": [
       "<IPython.core.display.Markdown object>"
      ]
     },
     "metadata": {},
     "output_type": "display_data"
    }
   ],
   "source": [
    "from IPython.display import display, Markdown\n",
    "\n",
    "display(Markdown(graph_state.values['messages'][-1].content))"
   ]
  },
  {
   "attachments": {},
   "cell_type": "markdown",
   "metadata": {},
   "source": [
    "## Write code to do stuff!"
   ]
  },
  {
   "cell_type": "code",
   "execution_count": 27,
   "metadata": {},
   "outputs": [
    {
     "name": "stdout",
     "output_type": "stream",
     "text": [
      "================================\u001b[1m Human Message \u001b[0m=================================\n",
      "\n",
      "Multiply 2 and 3\n",
      "================================\u001b[1m Human Message \u001b[0m=================================\n",
      "\n",
      "Multiply 2 and 3\n"
     ]
    }
   ],
   "source": [
    "for event in graph.stream(\n",
    "    {\n",
    "        \"messages\": [\n",
    "            HumanMessage(\n",
    "                content= \"Multiply 2 and 3\"\n",
    "            )\n",
    "        ]\n",
    "    },\n",
    "    thread, \n",
    "    stream_mode='values'\n",
    "):\n",
    "    event['messages'][-1].pretty_print()"
   ]
  },
  {
   "attachments": {},
   "cell_type": "markdown",
   "metadata": {},
   "source": [
    "Tada it has stopped! Let's apply a state update"
   ]
  },
  {
   "cell_type": "code",
   "execution_count": 28,
   "metadata": {},
   "outputs": [],
   "source": [
    "state = graph.get_state(thread)"
   ]
  },
  {
   "cell_type": "code",
   "execution_count": 29,
   "metadata": {},
   "outputs": [
    {
     "data": {
      "text/plain": [
       "HumanMessage(content='Multiply 2 and 3', additional_kwargs={}, response_metadata={})"
      ]
     },
     "execution_count": 29,
     "metadata": {},
     "output_type": "execute_result"
    }
   ],
   "source": [
    "state.values['messages'][-1]"
   ]
  },
  {
   "attachments": {},
   "cell_type": "markdown",
   "metadata": {},
   "source": [
    "This is indeed our message. Let's update the state!"
   ]
  },
  {
   "cell_type": "code",
   "execution_count": 30,
   "metadata": {},
   "outputs": [
    {
     "data": {
      "text/plain": [
       "{'configurable': {'thread_id': '2',\n",
       "  'checkpoint_ns': '',\n",
       "  'checkpoint_id': '1ef97555-d548-6af4-8007-07d5af8495c0'}}"
      ]
     },
     "execution_count": 30,
     "metadata": {},
     "output_type": "execute_result"
    }
   ],
   "source": [
    "graph.update_state(\n",
    "    thread,\n",
    "    {\n",
    "        \"messages\": [HumanMessage(\n",
    "            content=\"No, actually multiply 3 and 3!\"\n",
    "        )]\n",
    "    }\n",
    ")"
   ]
  },
  {
   "attachments": {},
   "cell_type": "markdown",
   "metadata": {},
   "source": [
    "### Check if state has been updated!"
   ]
  },
  {
   "cell_type": "code",
   "execution_count": 31,
   "metadata": {},
   "outputs": [],
   "source": [
    "new_state = graph.get_state(thread).values"
   ]
  },
  {
   "cell_type": "code",
   "execution_count": 32,
   "metadata": {},
   "outputs": [
    {
     "name": "stdout",
     "output_type": "stream",
     "text": [
      "================================\u001b[1m Human Message \u001b[0m=================================\n",
      "\n",
      "Is generative AI just a gimmick? Does it have any quantifiable business value?\n",
      "================================\u001b[1m Human Message \u001b[0m=================================\n",
      "Name: Researcher\n",
      "\n",
      "### Is Generative AI Just a Gimmick?\n",
      "\n",
      "Generative AI is increasingly being recognized as more than just a gimmick. According to various sources, it is poised to disrupt numerous fields where human cognition, organization, and analysis are involved. For example:\n",
      "\n",
      "1. **Disruption Potential**: Generative AI is seen as a technology that will significantly impact various sectors, changing how tasks are performed and potentially redefining industries (Source: [LinkedIn](https://www.linkedin.com/pulse/why-gen-ai-gimmick-stephen-morison-ulxyc)).\n",
      "2. **Understanding Generative AI**: It utilizes sophisticated machine learning models to create new data rather than just making predictions, which adds to its depth and utility in real-world applications (Source: [MIT Computing](https://computing.mit.edu/news/explained-generative-ai/)).\n",
      "3. **Examples of Use**: Companies like Google, Amazon, and Netflix integrate AI to enhance user experiences through personalized recommendations and content generation (Source: [Forbes](https://www.forbes.com/sites/bernardmarr/2023/09/19/what-is-generative-ai-a-super-simple-explanation-anyone-can-understand/)).\n",
      "\n",
      "### Quantifiable Business Value of Generative AI\n",
      "\n",
      "Generative AI holds substantial business value, which is becoming increasingly evident across various sectors:\n",
      "\n",
      "1. **Early Business Value**: Organizations that have started implementing generative AI are reporting improvements in competitive positioning and the transformation of core processes and business models. This shows a shift from mere experimentation to actionable outcomes (Source: [Gartner](https://www.gartner.com/en/documents/5188263)).\n",
      "2. **Wide Application**: According to a KPMG survey, generative AI is being adopted across numerous business functions, including marketing, customer support, and operations, indicating its versatility (Source: [KPMG](https://kpmg.com/kpmg-us/content/dam/kpmg/pdf/2023/generative-ai-survey.pdf)).\n",
      "3. **Economic Impact**: McKinsey's analysis suggests that generative AI could significantly impact productivity across various business functions, particularly in customer interactions and operational efficiencies (Source: [McKinsey](https://www.mckinsey.com/capabilities/mckinsey-digital/our-insights/the-economic-potential-of-generative-ai-the-next-productivity-frontier)).\n",
      "4. **Return on Investment (ROI)**: IBM reports that the ROI for AI has increased from 13% to 31% since 2022, highlighting the financial benefits that organizations are beginning to realize as they scale AI initiatives (Source: [IBM](https://www.ibm.com/thought-leadership/institute-business-value/en-us/report/scale-generative-ai)).\n",
      "\n",
      "### Conclusion\n",
      "\n",
      "Generative AI is not merely a gimmick; it has proven to be a transformative technology with substantial business value. As organizations continue to explore and implement generative AI, its impact on productivity, efficiency, and competitive advantage is expected to grow dramatically.\n",
      "================================\u001b[1m Human Message \u001b[0m=================================\n",
      "\n",
      "Multiply 2 and 3\n",
      "================================\u001b[1m Human Message \u001b[0m=================================\n",
      "\n",
      "No, actually multiply 3 and 3!\n"
     ]
    }
   ],
   "source": [
    "for m in new_state['messages']:\n",
    "    m.pretty_print()"
   ]
  },
  {
   "attachments": {},
   "cell_type": "markdown",
   "metadata": {},
   "source": [
    "### Invoke graph on revised question\n",
    "We use the trick of passing `None` to proceed!"
   ]
  },
  {
   "cell_type": "code",
   "execution_count": 33,
   "metadata": {},
   "outputs": [
    {
     "name": "stdout",
     "output_type": "stream",
     "text": [
      "================================\u001b[1m Human Message \u001b[0m=================================\n",
      "\n",
      "No, actually multiply 3 and 3!\n",
      "================================\u001b[1m Human Message \u001b[0m=================================\n",
      "Name: Mathematician\n",
      "\n",
      "The result of multiplying 3 and 3 is 9.\n",
      "================================\u001b[1m Human Message \u001b[0m=================================\n",
      "Name: Mathematician\n",
      "\n",
      "The result of multiplying 3 and 3 is 9.\n"
     ]
    }
   ],
   "source": [
    "for event in graph.stream(None, thread, stream_mode=\"values\"):\n",
    "    event['messages'][-1].pretty_print()"
   ]
  }
 ],
 "metadata": {
  "kernelspec": {
   "display_name": "crewai",
   "language": "python",
   "name": "python3"
  },
  "language_info": {
   "codemirror_mode": {
    "name": "ipython",
    "version": 3
   },
   "file_extension": ".py",
   "mimetype": "text/x-python",
   "name": "python",
   "nbconvert_exporter": "python",
   "pygments_lexer": "ipython3",
   "version": "3.11.10"
  },
  "orig_nbformat": 4,
  "vscode": {
   "interpreter": {
    "hash": "4709386691dc0daafce17a81a6dfb5e1bb4ca444089e5ad90185535ed7bb90ea"
   }
  }
 },
 "nbformat": 4,
 "nbformat_minor": 2
}
