{
 "cells": [
  {
   "cell_type": "code",
   "execution_count": 1,
   "metadata": {},
   "outputs": [],
   "source": [
    "%load_ext autoreload \n",
    "%autoreload 2"
   ]
  },
  {
   "cell_type": "code",
   "execution_count": 9,
   "metadata": {},
   "outputs": [],
   "source": [
    "import os\n",
    "from dotenv import load_dotenv, find_dotenv\n",
    "import warnings\n",
    "\n",
    "warnings.filterwarnings(\"ignore\")\n",
    "_ = load_dotenv(find_dotenv())"
   ]
  },
  {
   "attachments": {},
   "cell_type": "markdown",
   "metadata": {},
   "source": [
    "## Create the fundamental analyst tool"
   ]
  },
  {
   "cell_type": "code",
   "execution_count": 2,
   "metadata": {},
   "outputs": [],
   "source": [
    "import sys\n",
    "sys.path.append(\"../../src\")\n",
    "from fundamental_analyst import FundamentalAnalyst"
   ]
  },
  {
   "cell_type": "code",
   "execution_count": 3,
   "metadata": {},
   "outputs": [],
   "source": [
    "from typing import Annotated, List, Optional, Literal, Dict\n",
    "from langchain_core.tools import tool\n",
    "import pandas as pd"
   ]
  },
  {
   "cell_type": "code",
   "execution_count": 4,
   "metadata": {},
   "outputs": [],
   "source": [
    "@tool\n",
    "def evaluate_fundamentals(\n",
    "    ticker: Annotated[str, \"Stock ticker of interest\"]\n",
    ") -> pd.DataFrame:\n",
    "    \"\"\"\n",
    "    This tool is used for fundamental analysis of stock prices.\n",
    "    \"\"\"\n",
    "    fa = FundamentalAnalyst(ticker=ticker)\n",
    "    df = fa.analyse()\n",
    "    df = df.fillna(0) \n",
    "    return df"
   ]
  },
  {
   "attachments": {},
   "cell_type": "markdown",
   "metadata": {},
   "source": [
    "## Create the technical analyst tool"
   ]
  },
  {
   "cell_type": "code",
   "execution_count": 7,
   "metadata": {},
   "outputs": [],
   "source": [
    "from technical_analyst import TechnicalAnalyst\n",
    "\n",
    "@tool\n",
    "def evaluate_technicals(\n",
    "    ticker: Annotated[str, \"The stock ticker of interest\"],\n",
    "    period: Annotated[\n",
    "        Optional[\n",
    "            Literal[\n",
    "                \"1d\",\n",
    "                \"5d\",\n",
    "                \"1mo\",\n",
    "                \"3mo\",\n",
    "                \"6mo\",\n",
    "                \"1y\",\n",
    "                \"2y\",\n",
    "                \"5y\",\n",
    "                \"10y\",\n",
    "                \"ytd\",\n",
    "                \"max\"\n",
    "            ]\n",
    "        ],\n",
    "        \"The lookback period of interest\"\n",
    "    ] = \"10y\"\n",
    ") -> pd.DataFrame:\n",
    "    \"\"\"\n",
    "    This tool is used for technical analysis of stock prices.\n",
    "    \"\"\"\n",
    "    analyst = TechnicalAnalyst()\n",
    "    return analyst.analyse(ticker=ticker, period=period)"
   ]
  },
  {
   "attachments": {},
   "cell_type": "markdown",
   "metadata": {},
   "source": [
    "## Create the research tool"
   ]
  },
  {
   "cell_type": "code",
   "execution_count": 8,
   "metadata": {},
   "outputs": [
    {
     "name": "stderr",
     "output_type": "stream",
     "text": [
      "USER_AGENT environment variable not set, consider setting it to identify your requests.\n"
     ]
    }
   ],
   "source": [
    "from langchain_community.tools.tavily_search import TavilySearchResults\n",
    "from langchain_community.document_loaders import WebBaseLoader"
   ]
  },
  {
   "cell_type": "code",
   "execution_count": 10,
   "metadata": {},
   "outputs": [],
   "source": [
    "tavily_tool = TavilySearchResults(max_results=5)\n",
    "\n",
    "@tool\n",
    "def scrape_webpages(urls: List[str]) -> str:\n",
    "    \"\"\"Use requests and bs4 to scrape the provided web pages for detailed information.\"\"\"\n",
    "    loader = WebBaseLoader(urls)\n",
    "    docs = loader.load()\n",
    "    return \"\\n\\n\".join(\n",
    "        [\n",
    "            f'<Document name=\"{doc.metadata.get(\"title\", \"\")}\">\\n{doc.page_content}\\n</Document>'\n",
    "            for doc in docs\n",
    "        ]\n",
    "    )"
   ]
  },
  {
   "cell_type": "code",
   "execution_count": null,
   "metadata": {},
   "outputs": [],
   "source": []
  }
 ],
 "metadata": {
  "kernelspec": {
   "display_name": "camel",
   "language": "python",
   "name": "python3"
  },
  "language_info": {
   "codemirror_mode": {
    "name": "ipython",
    "version": 3
   },
   "file_extension": ".py",
   "mimetype": "text/x-python",
   "name": "python",
   "nbconvert_exporter": "python",
   "pygments_lexer": "ipython3",
   "version": "3.11.9"
  },
  "orig_nbformat": 4,
  "vscode": {
   "interpreter": {
    "hash": "c0b6603876f48329600faf10d97f94fa7f10e717610d69c3559f2fbf4a644e8d"
   }
  }
 },
 "nbformat": 4,
 "nbformat_minor": 2
}
