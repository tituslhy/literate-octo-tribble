{
 "cells": [
  {
   "cell_type": "code",
   "execution_count": 1,
   "metadata": {},
   "outputs": [],
   "source": [
    "%load_ext autoreload\n",
    "%autoreload 2"
   ]
  },
  {
   "cell_type": "code",
   "execution_count": 2,
   "metadata": {},
   "outputs": [],
   "source": [
    "import os\n",
    "from dotenv import load_dotenv, find_dotenv\n",
    "import nest_asyncio\n",
    "import warnings\n",
    "\n",
    "nest_asyncio.apply()\n",
    "warnings.filterwarnings(\"ignore\")\n",
    "_ = load_dotenv(find_dotenv())"
   ]
  },
  {
   "cell_type": "code",
   "execution_count": 21,
   "metadata": {},
   "outputs": [],
   "source": [
    "from llama_index.core.agent import ReActAgent\n",
    "from llama_index.core.llms import ChatMessage\n",
    "from llama_index.core.llms.llm import LLM\n",
    "from llama_index.core.memory import ChatMemoryBuffer\n",
    "from llama_index.core.program import LLMTextCompletionProgram\n",
    "from llama_index.core.workflow import (\n",
    "    Event,\n",
    "    StartEvent,\n",
    "    StopEvent,\n",
    "    Context,\n",
    "    Workflow,\n",
    "    step\n",
    ")\n",
    "from llama_index.core.workflow.context_serializers import (\n",
    "    JsonSerializer, \n",
    "    JsonPickleSerializer\n",
    ")\n",
    "from llama_index.core.workflow.events import (\n",
    "    InputRequiredEvent,\n",
    "    HumanResponseEvent,\n",
    ")\n",
    "from llama_index.llms.gemini import Gemini"
   ]
  },
  {
   "cell_type": "code",
   "execution_count": 15,
   "metadata": {},
   "outputs": [],
   "source": [
    "from pydantic import BaseModel, Field\n",
    "from typing import List\n",
    "\n",
    "class Exercise(BaseModel):\n",
    "    \"\"\"Generates a workout plan given a focus area\"\"\"\n",
    "    exercise: str\n",
    "    number_of_reps: int\n",
    "    number_of_sets: int\n",
    "\n",
    "class WorkoutPlan(BaseModel):\n",
    "    exercises: List[Exercise]\n",
    "\n",
    "class InputNeeded(BaseModel):\n",
    "    input_needed: bool = Field(default=False, description=\"Whether further clarification is needed\")\n",
    "    reason: str = Field(..., description=\"Reason for deciding if further input is needed.\")\n",
    "    follow_up_question: str | None = Field(default=None, description=\"The follow-up question to seek clarification\")"
   ]
  },
  {
   "cell_type": "code",
   "execution_count": 16,
   "metadata": {},
   "outputs": [],
   "source": [
    "llm = Gemini(model=\"models/gemini-1.5-flash\")\n",
    "\n",
    "prompt_template_str = \"\"\"\\\n",
    "You are the customer success agent and your task is to ensure the customer's success \\ \n",
    "in achieving their fitness and health goals. \\\n",
    "This is the customer's query, determine if more clarification is needed. \\\n",
    "Return either true or false with the reason. \\\n",
    "Here is the user's query: {query}.\\\n",
    "\"\"\""
   ]
  },
  {
   "cell_type": "code",
   "execution_count": 17,
   "metadata": {},
   "outputs": [],
   "source": [
    "from llama_index.core.program import LLMTextCompletionProgram\n",
    "\n",
    "program = LLMTextCompletionProgram.from_defaults(\n",
    "    llm = llm,\n",
    "    output_cls=InputNeeded, \n",
    "    prompt_template_str=prompt_template_str,\n",
    "    verbose=True,\n",
    ")\n",
    "\n",
    "output = program(\n",
    "    query=\"I want to get fit.\"\n",
    ")"
   ]
  },
  {
   "cell_type": "code",
   "execution_count": 18,
   "metadata": {},
   "outputs": [
    {
     "data": {
      "text/plain": [
       "InputNeeded(input_needed=True, reason=\"The customer's goal is very broad. To help them, I need to understand what 'fit' means to them.  What are their specific goals?  Do they want to lose weight, gain muscle, improve endurance, or something else?\", follow_up_question=\"Can you tell me more about what you mean by 'getting fit'? What are your specific goals?\")"
      ]
     },
     "execution_count": 18,
     "metadata": {},
     "output_type": "execute_result"
    }
   ],
   "source": [
    "output"
   ]
  },
  {
   "cell_type": "code",
   "execution_count": 14,
   "metadata": {},
   "outputs": [
    {
     "data": {
      "text/plain": [
       "True"
      ]
     },
     "execution_count": 14,
     "metadata": {},
     "output_type": "execute_result"
    }
   ],
   "source": [
    "output.input_needed"
   ]
  },
  {
   "cell_type": "code",
   "execution_count": 23,
   "metadata": {},
   "outputs": [],
   "source": [
    "class GoalSettingEvent(Event):\n",
    "    query: str\n",
    "\n",
    "class WorkoutPlannerEvent(Event):\n",
    "    query: str\n",
    "\n",
    "class NutritionGuideEvent(Event):\n",
    "    query: str\n",
    "    workout_plan: WorkoutPlan\n",
    "    \n",
    "class FollowUpEvent(Event):\n",
    "    query: str"
   ]
  },
  {
   "cell_type": "code",
   "execution_count": 4,
   "metadata": {},
   "outputs": [],
   "source": [
    "class FitnessWorkflow(Workflow):\n",
    "    def __init__(\n",
    "        self, \n",
    "        llm: LLM,\n",
    "        *args,\n",
    "        **kwargs\n",
    "    ):\n",
    "        self.llm = llm\n",
    "        self.prompt_template_str = \"\"\"\\\n",
    "        You are the customer success agent and your task is to ensure the customer's success \\ \n",
    "        in achieving their fitness and health goals. \\\n",
    "        This is the customer's query, determine if more clarification is needed. \\\n",
    "        Return either true or false with the reason. \\\n",
    "        Here is the user's query: {query}.\\\n",
    "        \"\"\"\n",
    "        self.program = LLMTextCompletionProgram.from_defaults(\n",
    "            llm = llm,\n",
    "            output_cls=InputNeeded, \n",
    "            prompt_template_str=prompt_template_str,\n",
    "            verbose=True,\n",
    "        )\n",
    "        self.memory = ChatMemoryBuffer.from_defaults(llm=llm)\n",
    "        super().__init__(*args, **kwargs)\n",
    "    \n",
    "    @step\n",
    "    async def goal_setting(\n",
    "        self, \n",
    "        ev: StartEvent | FollowUpEvent\n",
    "    ) -> InputRequiredEvent | WorkoutPlannerEvent:\n",
    "        self.memory.put(ev.query)\n",
    "        output = self.program(query=ev.query)\n",
    "        if output.input_needed is True:   \n",
    "            self.memory.put(\n",
    "                ChatMessage(\n",
    "                    role=\"assistant\",\n",
    "                    content=output.follow_up_question\n",
    "                )\n",
    "            )\n",
    "            return InputRequiredEvent(prefix=output.follow_up_question)\n",
    "        self.memory.put(\n",
    "            ChatMessage(\n",
    "                role=\"assistant\",\n",
    "                content=f\"This user query is sufficient. Reason: {output.reason}\"\n",
    "            )\n",
    "        )\n",
    "        return WorkoutPlannerEvent(query=ev.query)\n",
    "\n",
    "    @step\n",
    "    async def judge_clarification(\n",
    "        self,\n",
    "        ev: HumanResponseEvent\n",
    "    ) -> GoalSettingEvent:\n",
    "        return FollowUpEvent(query=ev.response)\n",
    "        "
   ]
  },
  {
   "cell_type": "code",
   "execution_count": 5,
   "metadata": {},
   "outputs": [
    {
     "data": {
      "text/plain": [
       "'25'"
      ]
     },
     "execution_count": 5,
     "metadata": {},
     "output_type": "execute_result"
    }
   ],
   "source": [
    "final_result"
   ]
  },
  {
   "cell_type": "code",
   "execution_count": null,
   "metadata": {},
   "outputs": [],
   "source": []
  }
 ],
 "metadata": {
  "kernelspec": {
   "display_name": "llamaindex",
   "language": "python",
   "name": "python3"
  },
  "language_info": {
   "codemirror_mode": {
    "name": "ipython",
    "version": 3
   },
   "file_extension": ".py",
   "mimetype": "text/x-python",
   "name": "python",
   "nbconvert_exporter": "python",
   "pygments_lexer": "ipython3",
   "version": "3.12.5"
  },
  "orig_nbformat": 4,
  "vscode": {
   "interpreter": {
    "hash": "4fb762c9777d81b920bdc4f2aaae00fd18dcefdd6f60d8272d61e705ce6e5d33"
   }
  }
 },
 "nbformat": 4,
 "nbformat_minor": 2
}
