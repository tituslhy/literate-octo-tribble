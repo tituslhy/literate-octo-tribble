{
 "cells": [
  {
   "cell_type": "code",
   "execution_count": 1,
   "metadata": {},
   "outputs": [],
   "source": [
    "%%capture --no-stderr\n",
    "%load_ext autoreload\n",
    "%autoreload 2"
   ]
  },
  {
   "cell_type": "code",
   "execution_count": 2,
   "metadata": {},
   "outputs": [],
   "source": [
    "import os\n",
    "from dotenv import load_dotenv, find_dotenv\n",
    "import warnings\n",
    "import nest_asyncio\n",
    "from IPython.display import display, Markdown\n",
    "\n",
    "warnings.filterwarnings(\"ignore\")\n",
    "nest_asyncio.apply()\n",
    "_ = load_dotenv(find_dotenv())"
   ]
  },
  {
   "attachments": {},
   "cell_type": "markdown",
   "metadata": {},
   "source": [
    "# 1. Building our first multi-agent system with LlamaIndex Workflows!"
   ]
  },
  {
   "attachments": {},
   "cell_type": "markdown",
   "metadata": {},
   "source": [
    "## a. Building our RAG workflow"
   ]
  },
  {
   "cell_type": "code",
   "execution_count": 3,
   "metadata": {},
   "outputs": [
    {
     "name": "stdout",
     "output_type": "stream",
     "text": [
      "🔭 OpenTelemetry Tracing Details 🔭\n",
      "|  Phoenix Project: llama-trace-v1\n",
      "|  Span Processor: SimpleSpanProcessor\n",
      "|  Collector Endpoint: https://app.phoenix.arize.com/v1/traces\n",
      "|  Transport: HTTP\n",
      "|  Transport Headers: {'api_key': '****'}\n",
      "|  \n",
      "|  Using a default SpanProcessor. `add_span_processor` will overwrite this default.\n",
      "|  \n",
      "|  `register` has set this TracerProvider as the global OpenTelemetry default.\n",
      "|  To disable this behavior, call `register` with `set_global_tracer_provider=False`.\n",
      "\n"
     ]
    }
   ],
   "source": [
    "from phoenix.otel import register\n",
    "from openinference.instrumentation.llama_index import LlamaIndexInstrumentor\n",
    "\n",
    "## Log traces using Llama Trace\n",
    "tracer_provider = register(\n",
    "  project_name=\"llama-trace-v1\",\n",
    "  endpoint=\"https://app.phoenix.arize.com/v1/traces\"\n",
    ")\n",
    "LlamaIndexInstrumentor().instrument(tracer_provider=tracer_provider)"
   ]
  },
  {
   "attachments": {},
   "cell_type": "markdown",
   "metadata": {},
   "source": [
    "### i. Building our RAG Service"
   ]
  },
  {
   "cell_type": "code",
   "execution_count": 4,
   "metadata": {},
   "outputs": [
    {
     "name": "stdout",
     "output_type": "stream",
     "text": [
      "--2024-11-09 13:49:00--  https://s2.q4cdn.com/470004039/files/doc_financials/2021/q4/_10-K-2021-(As-Filed).pdf\n",
      "Resolving s2.q4cdn.com (s2.q4cdn.com)... 139.99.123.118\n",
      "Connecting to s2.q4cdn.com (s2.q4cdn.com)|139.99.123.118|:443... connected.\n",
      "HTTP request sent, awaiting response... 200 OK\n",
      "Length: 789896 (771K) [application/pdf]\n",
      "Saving to: ‘apple_2021_10k.pdf’\n",
      "\n",
      "apple_2021_10k.pdf  100%[===================>] 771.38K  --.-KB/s    in 0.06s   \n",
      "\n",
      "2024-11-09 13:49:00 (13.7 MB/s) - ‘apple_2021_10k.pdf’ saved [789896/789896]\n",
      "\n"
     ]
    }
   ],
   "source": [
    "!wget \"https://s2.q4cdn.com/470004039/files/doc_financials/2021/q4/_10-K-2021-(As-Filed).pdf\" -O apple_2021_10k.pdf"
   ]
  },
  {
   "attachments": {},
   "cell_type": "markdown",
   "metadata": {},
   "source": [
    "### ii. Ingest document"
   ]
  },
  {
   "cell_type": "code",
   "execution_count": 4,
   "metadata": {},
   "outputs": [],
   "source": [
    "from llama_index.core import (\n",
    "    SimpleDirectoryReader,\n",
    "    VectorStoreIndex,\n",
    "    StorageContext,\n",
    "    load_index_from_storage\n",
    ")\n",
    "from llama_index.llms.openai import OpenAI\n",
    "from llama_index.embeddings.openai import OpenAIEmbedding\n",
    "\n",
    "llm = OpenAI(\"gpt-4o-mini\")\n",
    "embed_model = OpenAIEmbedding(model=\"text-embedding-3-small\")"
   ]
  },
  {
   "cell_type": "code",
   "execution_count": 5,
   "metadata": {},
   "outputs": [],
   "source": [
    "documents = SimpleDirectoryReader(\n",
    "    input_files=[\"./apple_2021_10k.pdf\"]\n",
    ").load_data()"
   ]
  },
  {
   "attachments": {},
   "cell_type": "markdown",
   "metadata": {},
   "source": [
    "#### Let's ingest the Apple 10K pdf file into a hybrid search enabled vector database - Qdrant!\n",
    "Set up Qdrant vector database"
   ]
  },
  {
   "cell_type": "code",
   "execution_count": null,
   "metadata": {},
   "outputs": [],
   "source": [
    "# !docker run -p 6333:6333 -p 6334:6334 \\\n",
    "#     -v \"$(pwd)/qdrant_storage:/qdrant/storage:z\" \\\n",
    "#     qdrant/qdrant"
   ]
  },
  {
   "cell_type": "code",
   "execution_count": 14,
   "metadata": {},
   "outputs": [
    {
     "name": "stderr",
     "output_type": "stream",
     "text": [
      "INFO:httpx:HTTP Request: GET http://localhost:6333/collections/Apple_10K/exists \"HTTP/1.1 200 OK\"\n",
      "INFO:httpx:HTTP Request: DELETE http://localhost:6333/collections/Apple_10K \"HTTP/1.1 200 OK\"\n",
      "WARNING:llama_index.vector_stores.qdrant.base:Both client and aclient are provided. If using `:memory:` mode, the data between clients is not synced.\n",
      "INFO:httpx:HTTP Request: GET http://localhost:6333/collections/Apple_10K/exists \"HTTP/1.1 200 OK\"\n",
      "INFO:httpx:HTTP Request: GET http://localhost:6333/collections/Apple_10K/exists \"HTTP/1.1 200 OK\"\n"
     ]
    },
    {
     "data": {
      "application/vnd.jupyter.widget-view+json": {
       "model_id": "b723180184d741fc8c65d55c7b613b31",
       "version_major": 2,
       "version_minor": 0
      },
      "text/plain": [
       "Fetching 6 files:   0%|          | 0/6 [00:00<?, ?it/s]"
      ]
     },
     "metadata": {},
     "output_type": "display_data"
    },
    {
     "data": {
      "application/vnd.jupyter.widget-view+json": {
       "model_id": "14925dd212ac4c71b1638fcc9e568ef2",
       "version_major": 2,
       "version_minor": 0
      },
      "text/plain": [
       "Fetching 6 files:   0%|          | 0/6 [00:00<?, ?it/s]"
      ]
     },
     "metadata": {},
     "output_type": "display_data"
    },
    {
     "name": "stderr",
     "output_type": "stream",
     "text": [
      "INFO:httpx:HTTP Request: GET http://localhost:6333/collections/Apple_10K/exists \"HTTP/1.1 200 OK\"\n"
     ]
    },
    {
     "data": {
      "application/vnd.jupyter.widget-view+json": {
       "model_id": "bdab927ab150450bbe4d612d7de915bf",
       "version_major": 2,
       "version_minor": 0
      },
      "text/plain": [
       "Fetching 6 files:   0%|          | 0/6 [00:00<?, ?it/s]"
      ]
     },
     "metadata": {},
     "output_type": "display_data"
    },
    {
     "data": {
      "application/vnd.jupyter.widget-view+json": {
       "model_id": "dd66199882444524b6b67c1d6cd56860",
       "version_major": 2,
       "version_minor": 0
      },
      "text/plain": [
       "Fetching 6 files:   0%|          | 0/6 [00:00<?, ?it/s]"
      ]
     },
     "metadata": {},
     "output_type": "display_data"
    }
   ],
   "source": [
    "from llama_index.vector_stores.qdrant import QdrantVectorStore\n",
    "from qdrant_client import QdrantClient, AsyncQdrantClient\n",
    "\n",
    "client = QdrantClient(host=\"localhost\", port=6333)\n",
    "aclient = AsyncQdrantClient(host=\"localhost\", port=6333)\n",
    "\n",
    "# delete collection if it exists\n",
    "if client.collection_exists(\"Apple_10K\"):\n",
    "    client.delete_collection(\"Apple_10K\")\n",
    "\n",
    "vector_store = QdrantVectorStore(\n",
    "    \"Apple_10K\",\n",
    "    client = client,\n",
    "    aclient = aclient,\n",
    "    enable_hybrid = True,\n",
    "    fastembed_sparse_model=\"Qdrant/bm42-all-minilm-l6-v2-attentions\",\n",
    ")"
   ]
  },
  {
   "cell_type": "code",
   "execution_count": 15,
   "metadata": {},
   "outputs": [],
   "source": [
    "storage_context = StorageContext.from_defaults(vector_store=vector_store)"
   ]
  },
  {
   "cell_type": "code",
   "execution_count": 16,
   "metadata": {},
   "outputs": [
    {
     "name": "stderr",
     "output_type": "stream",
     "text": [
      "INFO:httpx:HTTP Request: POST https://api.openai.com/v1/embeddings \"HTTP/1.1 200 OK\"\n",
      "INFO:httpx:HTTP Request: POST https://api.openai.com/v1/embeddings \"HTTP/1.1 200 OK\"\n",
      "INFO:httpx:HTTP Request: PUT http://localhost:6333/collections/Apple_10K \"HTTP/1.1 200 OK\"\n",
      "INFO:httpx:HTTP Request: PUT http://localhost:6333/collections/Apple_10K/index?wait=true \"HTTP/1.1 200 OK\"\n",
      "INFO:httpx:HTTP Request: GET http://localhost:6333/collections/Apple_10K/exists \"HTTP/1.1 200 OK\"\n",
      "INFO:httpx:HTTP Request: GET http://localhost:6333/collections/Apple_10K \"HTTP/1.1 200 OK\"\n",
      "INFO:httpx:HTTP Request: PUT http://localhost:6333/collections/Apple_10K/points?wait=true \"HTTP/1.1 200 OK\"\n",
      "INFO:httpx:HTTP Request: PUT http://localhost:6333/collections/Apple_10K/points?wait=true \"HTTP/1.1 200 OK\"\n"
     ]
    }
   ],
   "source": [
    "index = VectorStoreIndex.from_documents(\n",
    "    documents,\n",
    "    storage_context=storage_context,\n",
    "    embed_model = embed_model\n",
    ")"
   ]
  },
  {
   "attachments": {},
   "cell_type": "markdown",
   "metadata": {},
   "source": [
    "#### Load from storage context"
   ]
  },
  {
   "cell_type": "code",
   "execution_count": 6,
   "metadata": {},
   "outputs": [
    {
     "name": "stderr",
     "output_type": "stream",
     "text": [
      "WARNING:llama_index.vector_stores.qdrant.base:Both client and aclient are provided. If using `:memory:` mode, the data between clients is not synced.\n",
      "INFO:httpx:HTTP Request: GET http://localhost:6333/collections/Apple_10K/exists \"HTTP/1.1 200 OK\"\n",
      "INFO:httpx:HTTP Request: GET http://localhost:6333/collections/Apple_10K/exists \"HTTP/1.1 200 OK\"\n",
      "INFO:httpx:HTTP Request: GET http://localhost:6333/collections/Apple_10K \"HTTP/1.1 200 OK\"\n"
     ]
    },
    {
     "data": {
      "application/vnd.jupyter.widget-view+json": {
       "model_id": "a0be379c1fb2483b874bfeb9aea6b7b6",
       "version_major": 2,
       "version_minor": 0
      },
      "text/plain": [
       "Fetching 6 files:   0%|          | 0/6 [00:00<?, ?it/s]"
      ]
     },
     "metadata": {},
     "output_type": "display_data"
    },
    {
     "data": {
      "application/vnd.jupyter.widget-view+json": {
       "model_id": "1c57bb1eadca40af8deb59f21c1af4b8",
       "version_major": 2,
       "version_minor": 0
      },
      "text/plain": [
       "Fetching 6 files:   0%|          | 0/6 [00:00<?, ?it/s]"
      ]
     },
     "metadata": {},
     "output_type": "display_data"
    },
    {
     "name": "stderr",
     "output_type": "stream",
     "text": [
      "INFO:httpx:HTTP Request: GET http://localhost:6333/collections/Apple_10K/exists \"HTTP/1.1 200 OK\"\n",
      "INFO:httpx:HTTP Request: GET http://localhost:6333/collections/Apple_10K \"HTTP/1.1 200 OK\"\n"
     ]
    },
    {
     "data": {
      "application/vnd.jupyter.widget-view+json": {
       "model_id": "7294d96078a04b409954717217bf792b",
       "version_major": 2,
       "version_minor": 0
      },
      "text/plain": [
       "Fetching 6 files:   0%|          | 0/6 [00:00<?, ?it/s]"
      ]
     },
     "metadata": {},
     "output_type": "display_data"
    },
    {
     "data": {
      "application/vnd.jupyter.widget-view+json": {
       "model_id": "6d5f4d7b41d94d72887806d231c59234",
       "version_major": 2,
       "version_minor": 0
      },
      "text/plain": [
       "Fetching 6 files:   0%|          | 0/6 [00:00<?, ?it/s]"
      ]
     },
     "metadata": {},
     "output_type": "display_data"
    }
   ],
   "source": [
    "from llama_index.vector_stores.qdrant import QdrantVectorStore\n",
    "from qdrant_client import QdrantClient, AsyncQdrantClient\n",
    "\n",
    "client = QdrantClient(host=\"localhost\", port=6333)\n",
    "aclient = AsyncQdrantClient(host=\"localhost\", port=6333)\n",
    "\n",
    "\n",
    "vector_store = QdrantVectorStore(\n",
    "    \"Apple_10K\",\n",
    "    client = client,\n",
    "    aclient = aclient,\n",
    "    enable_hybrid = True,\n",
    "    fastembed_sparse_model=\"Qdrant/bm42-all-minilm-l6-v2-attentions\",\n",
    ")\n",
    "\n",
    "index = VectorStoreIndex.from_vector_store(\n",
    "    vector_store,\n",
    "    embed_model=embed_model,\n",
    ")"
   ]
  },
  {
   "cell_type": "code",
   "execution_count": 7,
   "metadata": {},
   "outputs": [],
   "source": [
    "query_engine = index.as_query_engine(\n",
    "    similarity_top_k=2, sparse_top_k=12, vector_store_query_mode=\"hybrid\", llm = llm\n",
    ")"
   ]
  },
  {
   "cell_type": "code",
   "execution_count": 8,
   "metadata": {},
   "outputs": [],
   "source": [
    "from llama_index.core.tools import QueryEngineTool, ToolMetadata\n",
    "\n",
    "tools = [\n",
    "    QueryEngineTool(\n",
    "        query_engine=query_engine,\n",
    "        metadata=ToolMetadata(\n",
    "            name=\"apple_10k\",\n",
    "            description=(\n",
    "                \"Provides information about Apple financials for year 2021. \"\n",
    "                \"Use a detailed plain text question as input to the tool.\"\n",
    "            )\n",
    "        )\n",
    "    )\n",
    "]"
   ]
  },
  {
   "cell_type": "code",
   "execution_count": 54,
   "metadata": {},
   "outputs": [],
   "source": [
    "from llama_index.core.agent import FunctionCallingAgent\n",
    "\n",
    "apple_agent = FunctionCallingAgent.from_tools(\n",
    "    tools=tools,\n",
    "    llm = llm,\n",
    "    verbose = True,\n",
    ")"
   ]
  },
  {
   "attachments": {},
   "cell_type": "markdown",
   "metadata": {},
   "source": [
    "## b. Add our DSPy-LlamaIndex HyDE and Seek tool\n",
    "> Using our Gemini LLM!"
   ]
  },
  {
   "attachments": {},
   "cell_type": "markdown",
   "metadata": {},
   "source": [
    "#### i. Get data"
   ]
  },
  {
   "cell_type": "code",
   "execution_count": 17,
   "metadata": {},
   "outputs": [],
   "source": [
    "from llama_index.core import Document\n",
    "from llama_index.llms.gemini import Gemini\n",
    "from llama_index.embeddings.gemini import GeminiEmbedding\n",
    "from llama_index.readers.web import SimpleWebPageReader\n",
    "import dspy\n",
    "from dspy import (\n",
    "    Signature,\n",
    "    InputField,\n",
    "    OutputField,\n",
    "    Module,\n",
    "    Predict,\n",
    "    Prediction\n",
    ")\n",
    "from dspy.teleprompt import BootstrapFewShot\n",
    "from dspy.evaluate import answer_exact_match, answer_passage_match\n",
    "from dspy import Example\n",
    "\n",
    "import requests"
   ]
  },
  {
   "cell_type": "code",
   "execution_count": 11,
   "metadata": {},
   "outputs": [],
   "source": [
    "llm2 = Gemini(model=\"models/gemini-1.5-flash\")\n",
    "embed_model2 = GeminiEmbedding()"
   ]
  },
  {
   "cell_type": "code",
   "execution_count": 12,
   "metadata": {},
   "outputs": [],
   "source": [
    "class CustomWebPageReader(SimpleWebPageReader):\n",
    "    \"\"\"\n",
    "    Many websites, including Investopedia, require headers like User-Agent to be set in the request to return the correct content.\n",
    "    To fix this, we'll modify the load_data method in the SimpleWebPageReader class to include appropriate headers.\n",
    "    \"\"\"\n",
    "    \n",
    "    def load_data(self, urls):\n",
    "        \"\"\"Edit the headers portion in the load_data method to be able to read .asp files\"\"\"\n",
    "        \n",
    "        if not isinstance(urls, list):\n",
    "            raise ValueError(\"urls must be a list of strings.\")\n",
    "        documents = []\n",
    "        \n",
    "        ## This is the edit\n",
    "        headers = {\n",
    "            'User-Agent': 'Mozilla/5.0 (Windows NT 10.0; Win64; x64) AppleWebKit/537.36 (KHTML, like Gecko) Chrome/58.0.3029.110 Safari/537.3'\n",
    "        }\n",
    "        for url in urls:\n",
    "            response = requests.get(url, headers=headers).text\n",
    "            if self.html_to_text:\n",
    "                import html2text\n",
    "                response = html2text.html2text(response)\n",
    "\n",
    "            metadata = None\n",
    "            if self._metadata_fn is not None:\n",
    "                metadata = self._metadata_fn(url)\n",
    "\n",
    "            documents.append(Document(text=response, id_=url, metadata=metadata or {}))\n",
    "\n",
    "        return documents"
   ]
  },
  {
   "cell_type": "code",
   "execution_count": 13,
   "metadata": {},
   "outputs": [],
   "source": [
    "links = [\n",
    "    \"https://www.investopedia.com/terms/s/stockmarket.asp\",\n",
    "    \"https://www.investopedia.com/ask/answers/difference-between-options-and-futures/\",\n",
    "    \"https://www.investopedia.com/financial-edge/0411/5-essential-things-you-need-to-know-about-every-stock-you-buy.aspx\",\n",
    "    \"https://www.investopedia.com/articles/fundamental/04/063004.asp\",\n",
    "    \"https://www.investopedia.com/terms/t/technicalanalysis.asp\",\n",
    "    \"https://www.investopedia.com/terms/i/ichimoku-cloud.asp\",\n",
    "    \"https://www.investopedia.com/terms/a/aroon.asp\",  \n",
    "    \"https://www.investopedia.com/terms/b/bollingerbands.asp\",\n",
    "    \"https://www.investopedia.com/articles/forex/05/macddiverge.asp\",\n",
    "    \"https://www.investopedia.com/terms/a/accumulationdistribution.asp\",\n",
    "    \"https://www.investopedia.com/terms/s/stochasticoscillator.asp\",\n",
    "    \"https://www.investopedia.com/terms/s/stochrsi.asp\",\n",
    "    \"https://www.investopedia.com/terms/p/price-earningsratio.asp\",\n",
    "    \"https://www.investopedia.com/terms/p/price-to-bookratio.asp\",\n",
    "    \"https://www.investopedia.com/terms/p/price-to-salesratio.asp\",\n",
    "    \"https://www.investopedia.com/terms/q/quickratio.asp\"\n",
    "]"
   ]
  },
  {
   "cell_type": "code",
   "execution_count": 18,
   "metadata": {},
   "outputs": [],
   "source": [
    "docs = CustomWebPageReader(\n",
    "    html_to_text=True\n",
    ").load_data(urls=links)"
   ]
  },
  {
   "cell_type": "code",
   "execution_count": 27,
   "metadata": {},
   "outputs": [],
   "source": [
    "investopedia_index = VectorStoreIndex.from_documents(\n",
    "    docs,\n",
    "    embed_model=embed_model2,\n",
    ")"
   ]
  },
  {
   "cell_type": "code",
   "execution_count": 32,
   "metadata": {},
   "outputs": [],
   "source": [
    "investopedia_index.storage_context.persist(persist_dir=\"../investopedia_storage\")"
   ]
  },
  {
   "attachments": {},
   "cell_type": "markdown",
   "metadata": {},
   "source": [
    "#### ii. Load from storage"
   ]
  },
  {
   "cell_type": "code",
   "execution_count": 34,
   "metadata": {},
   "outputs": [
    {
     "name": "stderr",
     "output_type": "stream",
     "text": [
      "INFO:llama_index.core.indices.loading:Loading all indices.\n"
     ]
    }
   ],
   "source": [
    "investopedia_storage_context = StorageContext.from_defaults(persist_dir=\"../investopedia_storage\")\n",
    "investopedia_index = load_index_from_storage(investopedia_storage_context)"
   ]
  },
  {
   "attachments": {},
   "cell_type": "markdown",
   "metadata": {},
   "source": [
    "#### iv. DSPy Finetuning"
   ]
  },
  {
   "cell_type": "code",
   "execution_count": 40,
   "metadata": {},
   "outputs": [],
   "source": [
    "from llama_index.core.indices.query.query_transform import HyDEQueryTransform"
   ]
  },
  {
   "cell_type": "code",
   "execution_count": 41,
   "metadata": {},
   "outputs": [],
   "source": [
    "hyde = HyDEQueryTransform(include_original=True, llm = llm2)"
   ]
  },
  {
   "cell_type": "code",
   "execution_count": 36,
   "metadata": {},
   "outputs": [],
   "source": [
    "retriever = investopedia_index.as_retriever(embed_model=embed_model2)"
   ]
  },
  {
   "cell_type": "code",
   "execution_count": 39,
   "metadata": {},
   "outputs": [],
   "source": [
    "class GenerateAnswer(dspy.Signature):\n",
    "    \"\"\"Answer questions with short factoid answers.\"\"\"\n",
    "    context = dspy.InputField(desc=\"May contain relevant facts\")\n",
    "    question = dspy.InputField()\n",
    "    answer = dspy.OutputField(desc=\"Often between 1-5 sentences.\")"
   ]
  },
  {
   "cell_type": "code",
   "execution_count": 42,
   "metadata": {},
   "outputs": [],
   "source": [
    "class HydeRAG(dspy.Module):\n",
    "    def __init__(self, num_passages=3):\n",
    "        super().__init__()\n",
    "        self.retriever = retriever\n",
    "        self.generate_answer = dspy.Predict(GenerateAnswer)\n",
    "    \n",
    "    def get_context(self, question):\n",
    "        hyded_query = hyde.run(question)\n",
    "        hyde_nodes = retriever.retrieve(hyded_query.custom_embedding_strs[0]) #retrieve nodes for hypothetical document\n",
    "        nodes = retriever.retrieve(hyded_query.custom_embedding_strs[1]) #retrieve nodes for original question\n",
    "        return \"\\n\\n\".join([n.get_content() for n in hyde_nodes]) + \"\\n\\n\".join([n.get_content() for n in nodes])\n",
    "    \n",
    "    def forward(self, question):\n",
    "        context = self.get_context(question)\n",
    "        prediction = self.generate_answer(context=context, question=question)\n",
    "        return dspy.Prediction(context=context, answer = prediction.answer)"
   ]
  },
  {
   "attachments": {},
   "cell_type": "markdown",
   "metadata": {},
   "source": [
    "#### v. Test HyDE Rag"
   ]
  },
  {
   "cell_type": "code",
   "execution_count": 46,
   "metadata": {},
   "outputs": [],
   "source": [
    "lm = dspy.Google(model=\"gemini-1.5-flash\")\n",
    "dspy.settings.configure(lm=lm)"
   ]
  },
  {
   "cell_type": "code",
   "execution_count": 47,
   "metadata": {},
   "outputs": [
    {
     "name": "stderr",
     "output_type": "stream",
     "text": [
      "WARNING:root:\t*** In DSPy 2.5, all LM clients except `dspy.LM` are deprecated. ***\n",
      " \t\tYou are using the client Google, which will be removed in DSPy 2.6.\n",
      " \t\tChanging the client is straightforward and will let you use new features (Adapters) that improve the consistency of LM outputs, especially when using chat LMs. \n",
      "\n",
      " \t\tLearn more about the changes and how to migrate at\n",
      " \t\thttps://github.com/stanfordnlp/dspy/blob/main/examples/migration.ipynb\n"
     ]
    }
   ],
   "source": [
    "engine = HydeRAG()\n",
    "question = \"What is a dividend?\"\n",
    "pred = engine(question)"
   ]
  },
  {
   "attachments": {},
   "cell_type": "markdown",
   "metadata": {},
   "source": [
    "#### vi. Finetuning!"
   ]
  },
  {
   "cell_type": "code",
   "execution_count": 43,
   "metadata": {},
   "outputs": [],
   "source": [
    "from llama_index.core.evaluation import SemanticSimilarityEvaluator\n",
    "\n",
    "evaluator = SemanticSimilarityEvaluator(\n",
    "    similarity_threshold=0.5, \n",
    "    embed_model=embed_model2\n",
    ")\n",
    "\n",
    "def validate_context_and_answer(example, pred, trace=None):\n",
    "    result = evaluator.evaluate(\n",
    "        response = pred.answer,\n",
    "        reference = example.answer\n",
    "    )\n",
    "    return result.passing"
   ]
  },
  {
   "cell_type": "code",
   "execution_count": 44,
   "metadata": {},
   "outputs": [],
   "source": [
    "train_examples = [\n",
    "        Example(\n",
    "            question = \"What is the difference between an option and a future?\",\n",
    "            answer = \"\"\"An option gives the buyer the right, but not the obligation, to buy (or sell) an asset at a specific price at any time during the life of the contract.\n",
    "            A futures contract obligates the buyer to purchase a specific asset, and the seller to sell and deliver that asset, at a specific future date\n",
    "            \"\"\"\n",
    "        ),\n",
    "        Example(\n",
    "            question = \"What are the similarities between an option and a future?\",\n",
    "            answer = \"\"\"Futures and options positions may be traded and closed ahead of expiration, but the parties to the futures contracts for commodities are typically obligated to make and accept deliveries on the settlement date.\"\"\"\n",
    "        ),\n",
    "        Example(\n",
    "            question = \"What is an option?\",\n",
    "            answer = \"Options are financial derivatives. An options contract gives an investor the right to buy or sell the underlying instrument at a specific price while the contract is in effect. Investors may choose not to exercise their options. Option holders do not own the underlying shares or enjoy shareholder rights unless they exercise an option to buy stock.\"\n",
    "        ),\n",
    "        Example(\n",
    "            question = \"What are the different options?\",\n",
    "            answer = \"There are only two kinds of options: Call options and put options. A call option confers the right to buy a stock at the strike price before the agreement expires. A put option gives the holder the right to sell a stock at a specific price.\"\n",
    "        ),\n",
    "        Example(\n",
    "            question=\"What's P/E ratio?\",\n",
    "            answer = \"\"\" This ratio is used to measure a company's current share price relative to its per-share earnings. The company can be compared to other, similar corporations so that analysts and investors can determine its relative value. So if a company has a P/E ratio of 20, this means investors are willing to pay $20 for every $1 per earnings. That might seem expensive but not if the company is growing fast. The P/E can be found by comparing the current market price to the cumulative earnings of the last four quarters.\"\"\"\n",
    "        ),\n",
    "        Example(\n",
    "            question=\"What's a dividend?\",\n",
    "            answer = \"\"\"Dividends are like interest in a savings account—you get paid regardless of the stock price. Dividends are distributions made by a company to its shareholders as a reward from its profits. The amount of the dividend is decided by its board of directors and are generally issued in cash, though it isn't uncommon for some companies to issue dividends in the form of stock shares.\"\"\"\n",
    "        ),\n",
    "        Example(\n",
    "            question=\"What's a balance sheet?\",\n",
    "            answer=\" A balance sheet is a financial statement that reports a company's assets, liabilities and shareholder equity at a specific point in time\"\n",
    "        ),\n",
    "        Example(\n",
    "            question=\"What's a current ratio?\",\n",
    "            answer = \"It's the total current assets divided by total current liabilities, commonly used by analysts to assess the ability of a company to meet its short-term obligations\"\n",
    "        ),\n",
    "        Example(\n",
    "            question = \"What are stocks?\",\n",
    "            answer = \"When you buy a stock or a share, you're getting a piece of that company. Owning shares gives you the right to part of the company's profits, often paid as dividends, and sometimes the right to vote on company matters\"\n",
    "        ),\n",
    "        Example(\n",
    "            question = \"What are REITs?\",\n",
    "            answer=\"Real estate investment trusts (REITs) are companies that own, manage, or finance real estate. Investors can buy shares in them, and they legally must provide 90% of their profits as dividends each year.\"\n",
    "        ),\n",
    "        Example(\n",
    "            question = \"What are brokers?\",\n",
    "            answer = \"Brokers in the stock market play the same role as in insurance and elsewhere, acting as a go-between for investors and the securities markets. They are licensed organizations that buy and sell stocks and other securities for individual and institutional clients.\"\n",
    "        ),\n",
    "        Example(\n",
    "            question = \"What is technical analysis?\",\n",
    "            answer = \"Technical analysis is used to scrutinize the ways supply and demand for a security affect changes in price, volume, and implied volatility. It assumes that past trading activity and price changes of a security can be valuable indicators of the security's future price movements when paired with appropriate investing or trading rules.\"\n",
    "        ),\n",
    "        Example(\n",
    "            question=\"What is the difference between fundamental and technical analysis?\",\n",
    "            answer = \"Fundamental analysis is a method of evaluating securities by attempting to measure the intrinsic value of a stock. Fundamental analysts study everything from the overall economy and industry conditions to the financial condition and management of companies. Technical analysis differs from fundamental analysis in that the stock's price and volume are the only inputs. The core assumption is that all publicly known fundamentals have factored into price; thus, there is no need to pay close attention to them. Technical analysts do not attempt to measure a security's intrinsic value, but instead, use stock charts to identify patterns and trends that suggest how a stock's price will move in the future.\"\n",
    "        )\n",
    "    ]\n",
    "train_examples = [t.with_inputs(\"question\") for t in train_examples]"
   ]
  },
  {
   "cell_type": "code",
   "execution_count": 48,
   "metadata": {},
   "outputs": [
    {
     "name": "stderr",
     "output_type": "stream",
     "text": [
      "WARNING:root:Failed to deep copy attribute 'retriever' of HydeRAG, falling back to shallow copy or reference copy.\n",
      "WARNING:root:Failed to deep copy attribute 'retriever' of HydeRAG, falling back to shallow copy or reference copy.\n",
      "  0%|          | 0/13 [00:00<?, ?it/s]ERROR:dspy.teleprompt.bootstrap:\u001b[2m2024-11-09T14:42:47.946296Z\u001b[0m [\u001b[31m\u001b[1merror    \u001b[0m] \u001b[1mFailed to run or to evaluate example Example({'question': 'What is the difference between an option and a future?', 'answer': 'An option gives the buyer the right, but not the obligation, to buy (or sell) an asset at a specific price at any time during the life of the contract.\\n            A futures contract obligates the buyer to purchase a specific asset, and the seller to sell and deliver that asset, at a specific future date\\n            '}) (input_keys={'question'}) with <function validate_context_and_answer at 0x3e35ed300> due to index: 0\n",
      "finish_reason: RECITATION\n",
      ".\u001b[0m [\u001b[0m\u001b[1m\u001b[34mdspy.teleprompt.bootstrap\u001b[0m]\u001b[0m \u001b[36mfilename\u001b[0m=\u001b[35mbootstrap.py\u001b[0m \u001b[36mlineno\u001b[0m=\u001b[35m211\u001b[0m\n",
      " 38%|███▊      | 5/13 [00:41<01:06,  8.27s/it]"
     ]
    },
    {
     "name": "stdout",
     "output_type": "stream",
     "text": [
      "Bootstrapped 4 full traces after 6 examples in round 0.\n"
     ]
    },
    {
     "name": "stderr",
     "output_type": "stream",
     "text": [
      "\n"
     ]
    }
   ],
   "source": [
    "teleprompter = BootstrapFewShot(\n",
    "    max_labeled_demos=0,\n",
    "    metric=validate_context_and_answer\n",
    ")\n",
    "compiled_dspy_qp = teleprompter.compile(engine, trainset=train_examples)"
   ]
  },
  {
   "cell_type": "code",
   "execution_count": 49,
   "metadata": {},
   "outputs": [
    {
     "name": "stdout",
     "output_type": "stream",
     "text": [
      "[('generate_answer', Predict(GenerateAnswer(context, question -> answer\n",
      "    instructions='Answer questions with short factoid answers.'\n",
      "    context = Field(annotation=str required=True json_schema_extra={'desc': 'May contain relevant facts', '__dspy_field_type': 'input', 'prefix': 'Context:'})\n",
      "    question = Field(annotation=str required=True json_schema_extra={'__dspy_field_type': 'input', 'prefix': 'Question:', 'desc': '${question}'})\n",
      "    answer = Field(annotation=str required=True json_schema_extra={'desc': 'Often between 1-5 sentences.', '__dspy_field_type': 'output', 'prefix': 'Answer:'})\n",
      ")))]\n"
     ]
    }
   ],
   "source": [
    "compiled_dspy_qp.save(\"../compiled.json\")"
   ]
  },
  {
   "attachments": {},
   "cell_type": "markdown",
   "metadata": {},
   "source": [
    "#### vii. Test loading saved pipeline"
   ]
  },
  {
   "cell_type": "code",
   "execution_count": 50,
   "metadata": {},
   "outputs": [
    {
     "name": "stdout",
     "output_type": "stream",
     "text": [
      "Question: What is the difference between bollinger bands and the ichimoku cloud?\n",
      "Predicted Answer: The Ichimoku Cloud uses averages based on highs and lows over a period, while Bollinger Bands use a simple moving average of closing prices.\n"
     ]
    }
   ],
   "source": [
    "## Loading a saved pipeline\n",
    "\n",
    "pipeline = HydeRAG()\n",
    "pipeline.load(\"../compiled.json\")\n",
    "\n",
    "question = \"What is the difference between bollinger bands and the ichimoku cloud?\"\n",
    "pred = pipeline(question)\n",
    "print(f\"Question: {question}\")\n",
    "print(f\"Predicted Answer: {pred.answer}\")"
   ]
  },
  {
   "attachments": {},
   "cell_type": "markdown",
   "metadata": {},
   "source": [
    "## Building our LlamaIndex Multi-Agent System using Workflow!"
   ]
  },
  {
   "cell_type": "code",
   "execution_count": 68,
   "metadata": {},
   "outputs": [],
   "source": [
    "from llama_index.core.workflow import (\n",
    "    Workflow,\n",
    "    step,\n",
    "    Context,\n",
    "    Event,\n",
    "    StartEvent,\n",
    "    StopEvent\n",
    ")\n",
    "from llama_index.core.base.llms.types import ChatMessage\n",
    "from llama_index.core.chat_engine import SimpleChatEngine\n",
    "from llama_index.core.selectors import LLMSingleSelector\n",
    "from llama_index.core.prompts import PromptTemplate\n",
    "from pydantic import BaseModel, Field\n",
    "from typing import Literal, List, Dict, Optional, Any, Union, Annotated"
   ]
  },
  {
   "cell_type": "code",
   "execution_count": 61,
   "metadata": {},
   "outputs": [],
   "source": [
    "class AppleEvent(Event):\n",
    "    query: str\n",
    "    history: List[ChatMessage]\n",
    "\n",
    "class InvestopediaEvent(Event):\n",
    "    query: str #Stuff chat history into the query\n",
    "\n",
    "class CompileEvent(Event):\n",
    "    query: str\n",
    "    response: str"
   ]
  },
  {
   "cell_type": "code",
   "execution_count": 65,
   "metadata": {},
   "outputs": [],
   "source": [
    "class Reroute(BaseModel):\n",
    "    reroute: Literal[True, False] = Field(..., description=\"If the answer is satisfactory, return True. Else return False for rerouting\")\n",
    "    improvements: str = Field(..., description=\"Suggestions to improve the response.\")"
   ]
  },
  {
   "cell_type": "code",
   "execution_count": null,
   "metadata": {},
   "outputs": [],
   "source": [
    "class StockSME(Workflow):\n",
    "    def __init__(self, history = List[str], manager_llm = llm):\n",
    "        \n",
    "        self.llm = llm\n",
    "        \n",
    "        ## Initialize the \"manager\"\n",
    "        self.manager_llm = SimpleChatEngine.from_defaults(llm=manager_llm)\n",
    "        \n",
    "        self.choices = [\n",
    "            ToolMetadata(\n",
    "                name = \"Apple_Agent\",\n",
    "                description = \"\"\"Choose this option to answer any questions related to Apple's financial performance in 2021\n",
    "                including risks, opportunities, and financial statements.\"\"\"\n",
    "            ),\n",
    "            ToolMetadata(\n",
    "                name = \"Definitions_Agent\",\n",
    "                description = \"Choose this option to answer any questions related to investment definitions such as Ichimoku Cloud\"\n",
    "            )\n",
    "        ] \n",
    "        self.router = LLMSingleSelector.from_defaults(llm=self.llm)\n",
    "        self.reroute_prompt_template = PromptTemplate(\n",
    "            \"\"\"Given the query: {query} and the interim answer: {response}, determine if the interim answer satisfies the question.\n",
    "            This does not need to be very strict. As long as the interim answer is able to address the question partially, return True.\"\"\"\n",
    "        )\n",
    "        \n",
    "        ## Initialize apple agent\n",
    "        self.apple_agent = apple_agent\n",
    "        \n",
    "        ## Initialize DSPy definition service\n",
    "        self.definition_service = HydeRAG()\n",
    "        self.definition_service.load(\"../compiled.json\")\n",
    "    \n",
    "    ## TODO: Method to prepare chat history ##\n",
    "    \n",
    "    ## TODO: Method to stuff chat history for dspy ##\n",
    "    \n",
    "    @step\n",
    "    async def route(self, ctx: Context, ev: StartEvent) -> AppleEvent | InvestopediaEvent:\n",
    "        selector_result = await self.router.aselect(self.choices, query = ev.query)\n",
    "        await ctx.set(\"routes\", 0)\n",
    "        for result in selector_result.selections:\n",
    "            if result.index == 0:\n",
    "                self.send_event(AppleEvent(query=ev.query))\n",
    "            else:\n",
    "                self.send_event(InvestopediaEvent(query=ev.query))\n",
    "            routes = await ctx.get(\"routes\")\n",
    "            routes += 1\n",
    "            await ctx.set(\"routes\", routes)\n",
    "        \n",
    "    @step\n",
    "    async def apple_event(self, ev: AppleEvent) -> CompileEvent:\n",
    "        response = await self.apple_agent.achat(ev.query, history=ev.history)\n",
    "        return CompileEvent(query=ev.query, response = str(response))\n",
    "\n",
    "    @step\n",
    "    async def investopedia_event(self, ev: InvestopediaEvent) -> CompileEvent:\n",
    "        response = self.definition_service(ev.query)\n",
    "        return CompileEvent(query=ev.query, response = str(response))\n",
    "    \n",
    "    @step\n",
    "    async def compile(self, ctx: Context, ev: CompileEvent) -> StopEvent:\n",
    "        routes = ctx.get(\"routes\")\n",
    "        ready = ctx.collect_events(ev, [CompileEvent] * routes)\n",
    "        for i in range(len(ready)):\n",
    "            print(ready[i].source)\n",
    "            reroute = await self.llm.structured_predict(\n",
    "                Reroute, self.reroute_prompt_template, query=ev.query, response = ev.response\n",
    "            )\n",
    "            if reroute.reroute is True:\n",
    "                if ready[i].source == \"...\":\n",
    "                    return AppleEvent(query = f\"\"\"Here's some feedback to better address the query. \n",
    "                                      Feedback: {reroute.improvements},\n",
    "                                      Query: {ev.query}\"\"\")\n",
    "                else:\n",
    "                    return InvestopediaEvent(query = f\"\"\"Here's some feedback to better address the query. \n",
    "                                            Feedback: {reroute.improvements},\n",
    "                                            Query: {ev.query}\"\"\")\n",
    "        response = await self.manager_llm.achat(\n",
    "            f\"\"\"\"\"\"\n",
    "        )\n",
    "        return StopEvent(result=ready[i].response)"
   ]
  },
  {
   "cell_type": "code",
   "execution_count": null,
   "metadata": {},
   "outputs": [],
   "source": []
  },
  {
   "cell_type": "code",
   "execution_count": null,
   "metadata": {},
   "outputs": [],
   "source": []
  },
  {
   "attachments": {},
   "cell_type": "markdown",
   "metadata": {},
   "source": [
    "# 2. Bringing Langgraph into the picture"
   ]
  },
  {
   "cell_type": "code",
   "execution_count": null,
   "metadata": {},
   "outputs": [],
   "source": []
  }
 ],
 "metadata": {
  "kernelspec": {
   "display_name": "llamaindex",
   "language": "python",
   "name": "python3"
  },
  "language_info": {
   "codemirror_mode": {
    "name": "ipython",
    "version": 3
   },
   "file_extension": ".py",
   "mimetype": "text/x-python",
   "name": "python",
   "nbconvert_exporter": "python",
   "pygments_lexer": "ipython3",
   "version": "3.12.5"
  },
  "orig_nbformat": 4,
  "vscode": {
   "interpreter": {
    "hash": "4fb762c9777d81b920bdc4f2aaae00fd18dcefdd6f60d8272d61e705ce6e5d33"
   }
  }
 },
 "nbformat": 4,
 "nbformat_minor": 2
}
